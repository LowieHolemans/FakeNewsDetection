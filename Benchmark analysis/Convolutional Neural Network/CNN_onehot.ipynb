{
  "cells": [
    {
      "cell_type": "markdown",
      "id": "871fbfd1-4969-4724-a537-dbd2a67c84ba",
      "metadata": {
        "id": "871fbfd1-4969-4724-a537-dbd2a67c84ba"
      },
      "source": [
        "CNN text classification with one-hot encoding \n",
        "\n",
        "Based on: https://cnvrg.io/cnn-sentence-classification/"
      ]
    },
    {
      "cell_type": "code",
      "execution_count": null,
      "id": "d0a7ee05-d3e9-484a-bf49-0857b0de5bc4",
      "metadata": {
        "id": "d0a7ee05-d3e9-484a-bf49-0857b0de5bc4"
      },
      "outputs": [],
      "source": [
        "import pandas as pd\n",
        "import numpy as np\n",
        "import os\n",
        "import matplotlib.pyplot as plt\n",
        "import seaborn as sn\n",
        "import pickle\n",
        "\n",
        "%matplotlib inline\n",
        "\n",
        "#Import module to split the datasets\n",
        "from sklearn.model_selection import train_test_split\n",
        "# Import modules to evaluate the metrics\n",
        "from sklearn import metrics\n",
        "from sklearn.metrics import confusion_matrix,accuracy_score,roc_auc_score,roc_curve,auc"
      ]
    },
    {
      "cell_type": "code",
      "source": [
        "from google.colab import drive\n",
        "drive.mount('/content/drive')"
      ],
      "metadata": {
        "colab": {
          "base_uri": "https://localhost:8080/"
        },
        "id": "aPblqcxR344t",
        "outputId": "07379f7d-2f91-4e93-ba1e-9c721686bb93"
      },
      "id": "aPblqcxR344t",
      "execution_count": null,
      "outputs": [
        {
          "output_type": "stream",
          "name": "stdout",
          "text": [
            "Mounted at /content/drive\n"
          ]
        }
      ]
    },
    {
      "cell_type": "code",
      "execution_count": null,
      "metadata": {
        "colab": {
          "base_uri": "https://localhost:8080/"
        },
        "id": "afc326e6-b77d-48ef-8a83-3d1f418dc65e",
        "outputId": "dc834cc8-f106-45d5-ff72-dbd1bcdfdf75"
      },
      "outputs": [
        {
          "output_type": "stream",
          "name": "stdout",
          "text": [
            "train                                                tweet  label\n",
            "0  cdc currently reports deaths general discrepan...      0\n",
            "1  states reported deaths small rise last tuesday...      0\n",
            "2  politically correct woman almost uses pandemic...      1\n",
            "test                                                tweet  label\n",
            "0  daily update published states reported k tests...      0\n",
            "1                                 alfalfa cure covid      1\n",
            "2      president trump asked would catch coronavirus      1\n",
            "val                                                tweet  label\n",
            "0  chinese converting islam realising muslim affe...      1\n",
            "1  people diamond princess cruise ship initially ...      1\n",
            "2       covid caused bacterium virus treated aspirin      1\n"
          ]
        }
      ],
      "source": [
        "import os\n",
        "os.chdir('/content/drive/MyDrive/Thesis/Data/Filled Datasets/Second dataset (Kaggle)/Preprocessed/')\n",
        "train = pd.read_csv(\"Constraint_Train_fullprep.csv\")\n",
        "test = pd.read_csv(\"Constraint_Test_fullprep_with_labels.csv\",index_col=0)\n",
        "val = pd.read_csv('Constraint_Val_fullprep.csv')\n",
        "test = test.drop([\"id\"], axis=1)\n",
        "test['label'] = test['label'].map({'real':0,'fake':1})\n",
        "print('train',train.head(n=3))\n",
        "print('test',test.head(n=3))\n",
        "print('val',val.head(n=3))\n",
        "                  "
      ],
      "id": "afc326e6-b77d-48ef-8a83-3d1f418dc65e"
    },
    {
      "cell_type": "code",
      "execution_count": null,
      "metadata": {
        "id": "8a88adff-080e-49f5-ac53-a98b8b6f5910"
      },
      "outputs": [],
      "source": [
        "X_train= train['tweet']\n",
        "y_train= train['label']\n",
        "X_test = test['tweet']\n",
        "y_test = test['label']\n",
        "X_val = val['tweet']\n",
        "y_val = val['label']"
      ],
      "id": "8a88adff-080e-49f5-ac53-a98b8b6f5910"
    },
    {
      "cell_type": "code",
      "execution_count": null,
      "metadata": {
        "colab": {
          "base_uri": "https://localhost:8080/"
        },
        "id": "b40025b9-23b7-4fa3-872d-95f3a4471e28",
        "outputId": "4e03d172-beb7-4b33-afb7-366e39cb6315"
      },
      "outputs": [
        {
          "output_type": "stream",
          "name": "stderr",
          "text": [
            "/usr/local/lib/python3.7/dist-packages/pandas/core/indexing.py:1732: SettingWithCopyWarning: \n",
            "A value is trying to be set on a copy of a slice from a DataFrame\n",
            "\n",
            "See the caveats in the documentation: https://pandas.pydata.org/pandas-docs/stable/user_guide/indexing.html#returning-a-view-versus-a-copy\n",
            "  self._setitem_single_block(indexer, value, name)\n"
          ]
        }
      ],
      "source": [
        "#we need the next code because the one-hot encoding below otherwise doesn't work\n",
        "for i in range(len(X_train)): \n",
        "    X_train.iloc[i] = str(X_train.iloc[i])\n",
        "\n",
        "for i in range(len(X_val)): \n",
        "    X_val.iloc[i] = str(X_val.iloc[i])\n",
        "\n",
        "for i in range(len(X_test)): \n",
        "    X_test.iloc[i] = str(X_test.iloc[i])"
      ],
      "id": "b40025b9-23b7-4fa3-872d-95f3a4471e28"
    },
    {
      "cell_type": "code",
      "execution_count": null,
      "metadata": {
        "id": "0b85ca65-2da0-4890-9099-f1676fc6bec4"
      },
      "outputs": [],
      "source": [
        "from tensorflow.keras.preprocessing.text import one_hot\n",
        "from tensorflow.keras.preprocessing.sequence import pad_sequences\n",
        "from imblearn.over_sampling import SMOTE\n",
        "\n",
        "vocab_size = 5000\n",
        "\n",
        "X_train = [one_hot(d, vocab_size,filters='!\"#$%&()*+,-./:;<=>?@[\\]^_`{|}~',lower=True, split=' ') for d in X_train]\n",
        "X_test = [one_hot(d, vocab_size,filters='!\"#$%&()*+,-./:;<=>?@[\\]^_`{|}~',lower=True, split=' ') for d in X_test]\n",
        "X_val = [one_hot(d, vocab_size,filters='!\"#$%&()*+,-./:;<=>?@[\\]^_`{|}~',lower=True, split=' ') for d in X_val]"
      ],
      "id": "0b85ca65-2da0-4890-9099-f1676fc6bec4"
    },
    {
      "cell_type": "code",
      "source": [
        "train.loc[33].tweet"
      ],
      "metadata": {
        "colab": {
          "base_uri": "https://localhost:8080/",
          "height": 35
        },
        "id": "ntojOcjRPhtE",
        "outputId": "d878cbcb-d940-4416-a796-810e91f666ad"
      },
      "id": "ntojOcjRPhtE",
      "execution_count": null,
      "outputs": [
        {
          "output_type": "execute_result",
          "data": {
            "text/plain": [
              "'cdc recommends mothers stop breastfeeding boost vaccine efficacy'"
            ],
            "application/vnd.google.colaboratory.intrinsic+json": {
              "type": "string"
            }
          },
          "metadata": {},
          "execution_count": 53
        }
      ]
    },
    {
      "cell_type": "code",
      "source": [
        "X_train[33]"
      ],
      "metadata": {
        "colab": {
          "base_uri": "https://localhost:8080/"
        },
        "id": "c3cddWRQPies",
        "outputId": "9f5683e8-b356-47b4-f2fe-8087f0f0dabd"
      },
      "id": "c3cddWRQPies",
      "execution_count": null,
      "outputs": [
        {
          "output_type": "execute_result",
          "data": {
            "text/plain": [
              "array([3689, 2835, 2490, 2645,  208, 1779,  508, 1922,    0,    0,    0,\n",
              "          0,    0,    0,    0,    0,    0,    0,    0,    0,    0,    0,\n",
              "          0,    0,    0,    0,    0,    0,    0,    0,    0,    0,    0,\n",
              "          0,    0,    0,    0,    0,    0,    0,    0,    0,    0,    0,\n",
              "          0,    0,    0,    0,    0,    0,    0,    0,    0,    0,    0,\n",
              "          0,    0,    0,    0,    0,    0,    0,    0,    0,    0,    0,\n",
              "          0,    0,    0,    0,    0,    0,    0,    0,    0,    0,    0,\n",
              "          0,    0,    0,    0,    0,    0,    0,    0,    0,    0,    0,\n",
              "          0,    0,    0,    0,    0,    0,    0,    0,    0,    0,    0,\n",
              "          0], dtype=int32)"
            ]
          },
          "metadata": {},
          "execution_count": 56
        }
      ]
    },
    {
      "cell_type": "code",
      "execution_count": null,
      "metadata": {
        "id": "87ced671-b236-4356-b554-c55c494ec83d"
      },
      "outputs": [],
      "source": [
        "max_length = 100\n",
        "X_train = pad_sequences(X_train, maxlen=max_length, padding='post')\n",
        "X_test = pad_sequences(X_test, maxlen=max_length, padding='post')\n",
        "X_val = pad_sequences(X_val, maxlen=max_length, padding='post')"
      ],
      "id": "87ced671-b236-4356-b554-c55c494ec83d"
    },
    {
      "cell_type": "code",
      "execution_count": null,
      "metadata": {
        "id": "258eadbe-a7cb-422f-8996-2ca23ac300f4"
      },
      "outputs": [],
      "source": [
        "smote = SMOTE()\n",
        "X_train, y_train = smote.fit_resample(X_train,y_train)"
      ],
      "id": "258eadbe-a7cb-422f-8996-2ca23ac300f4"
    },
    {
      "cell_type": "code",
      "execution_count": null,
      "id": "832dbd65-8c40-45d9-8066-e3fea8b8b64d",
      "metadata": {
        "id": "832dbd65-8c40-45d9-8066-e3fea8b8b64d"
      },
      "outputs": [],
      "source": [
        "import tensorflow "
      ]
    },
    {
      "cell_type": "code",
      "execution_count": null,
      "id": "abd57c0b-4b17-43ba-9de6-aa8572820d78",
      "metadata": {
        "id": "abd57c0b-4b17-43ba-9de6-aa8572820d78"
      },
      "outputs": [],
      "source": [
        "from tensorflow.keras.layers import Dense, Embedding,GlobalMaxPooling1D, Conv1D\n",
        "from tensorflow.keras.models import Sequential\n",
        "from tensorflow.keras.layers import Dense\n",
        "from tensorflow.keras.layers import Embedding\n",
        "\n",
        "model = Sequential([\n",
        "    Embedding(5000, 8, input_length=100),\n",
        "    Conv1D(128, 5, activation='relu'),\n",
        "    GlobalMaxPooling1D(),\n",
        "    Dense(10, activation='relu'),\n",
        "    Dense(1, activation='sigmoid')\n",
        "])"
      ]
    },
    {
      "cell_type": "code",
      "source": [
        "model.summary()"
      ],
      "metadata": {
        "colab": {
          "base_uri": "https://localhost:8080/"
        },
        "id": "3BE9lqd4FZ3Y",
        "outputId": "62e8060a-4d04-4d87-93a3-f6bcc4123f60"
      },
      "id": "3BE9lqd4FZ3Y",
      "execution_count": null,
      "outputs": [
        {
          "output_type": "stream",
          "name": "stdout",
          "text": [
            "Model: \"sequential\"\n",
            "_________________________________________________________________\n",
            " Layer (type)                Output Shape              Param #   \n",
            "=================================================================\n",
            " embedding (Embedding)       (None, 100, 8)            40000     \n",
            "                                                                 \n",
            " conv1d (Conv1D)             (None, 96, 128)           5248      \n",
            "                                                                 \n",
            " global_max_pooling1d (Globa  (None, 128)              0         \n",
            " lMaxPooling1D)                                                  \n",
            "                                                                 \n",
            " dense (Dense)               (None, 10)                1290      \n",
            "                                                                 \n",
            " dense_1 (Dense)             (None, 1)                 11        \n",
            "                                                                 \n",
            "=================================================================\n",
            "Total params: 46,549\n",
            "Trainable params: 46,549\n",
            "Non-trainable params: 0\n",
            "_________________________________________________________________\n"
          ]
        }
      ]
    },
    {
      "cell_type": "code",
      "execution_count": null,
      "id": "67afd9fb-1a4d-4654-ae96-81bf18cf303d",
      "metadata": {
        "id": "67afd9fb-1a4d-4654-ae96-81bf18cf303d"
      },
      "outputs": [],
      "source": [
        "from tensorflow.keras.callbacks import EarlyStopping, ModelCheckpoint\n",
        "checkpoint_path = \"/home/lowie/data/rnn_check/\"\n",
        "\n",
        "monitor = 'val_precision'\n",
        "keras_callbacks   = [\n",
        "      EarlyStopping(monitor=monitor, patience=30, mode='max', min_delta=0.0001),\n",
        "      ModelCheckpoint(checkpoint_path, monitor=monitor, save_best_only=True, mode='max')\n",
        "]\n",
        "model.compile(optimizer='adam', loss='binary_crossentropy', metrics=[tensorflow.keras.metrics.Precision()])"
      ]
    },
    {
      "cell_type": "code",
      "execution_count": null,
      "id": "18508232-76bb-4d40-9178-4296b81f6672",
      "metadata": {
        "colab": {
          "base_uri": "https://localhost:8080/"
        },
        "id": "18508232-76bb-4d40-9178-4296b81f6672",
        "outputId": "a7c95e4e-0d59-452e-ced1-9f5f4f9cb1bf"
      },
      "outputs": [
        {
          "output_type": "stream",
          "name": "stdout",
          "text": [
            "Epoch 1/500\n",
            "203/210 [============================>.] - ETA: 0s - loss: 0.4841 - precision: 0.8395INFO:tensorflow:Assets written to: /home/lowie/data/rnn_check/assets\n",
            "210/210 [==============================] - 4s 17ms/step - loss: 0.4777 - precision: 0.8428 - val_loss: 0.2786 - val_precision: 0.8692\n",
            "Epoch 2/500\n",
            "203/210 [============================>.] - ETA: 0s - loss: 0.2145 - precision: 0.9095INFO:tensorflow:Assets written to: /home/lowie/data/rnn_check/assets\n",
            "210/210 [==============================] - 2s 12ms/step - loss: 0.2138 - precision: 0.9093 - val_loss: 0.2503 - val_precision: 0.8946\n",
            "Epoch 3/500\n",
            "210/210 [==============================] - 2s 8ms/step - loss: 0.1235 - precision: 0.9535 - val_loss: 0.2633 - val_precision: 0.8851\n",
            "Epoch 4/500\n",
            "210/210 [==============================] - 2s 8ms/step - loss: 0.0700 - precision: 0.9773 - val_loss: 0.3026 - val_precision: 0.8849\n",
            "Epoch 5/500\n",
            "210/210 [==============================] - 2s 8ms/step - loss: 0.0386 - precision: 0.9879 - val_loss: 0.3418 - val_precision: 0.8903\n",
            "Epoch 6/500\n",
            "207/210 [============================>.] - ETA: 0s - loss: 0.0205 - precision: 0.9937INFO:tensorflow:Assets written to: /home/lowie/data/rnn_check/assets\n",
            "210/210 [==============================] - 3s 12ms/step - loss: 0.0203 - precision: 0.9938 - val_loss: 0.3922 - val_precision: 0.8981\n",
            "Epoch 7/500\n",
            "210/210 [==============================] - 2s 8ms/step - loss: 0.0102 - precision: 0.9970 - val_loss: 0.4273 - val_precision: 0.8902\n",
            "Epoch 8/500\n",
            "210/210 [==============================] - 2s 8ms/step - loss: 0.0062 - precision: 0.9985 - val_loss: 0.4605 - val_precision: 0.8959\n",
            "Epoch 9/500\n",
            "210/210 [==============================] - 2s 8ms/step - loss: 0.0042 - precision: 0.9988 - val_loss: 0.4861 - val_precision: 0.8950\n",
            "Epoch 10/500\n",
            "210/210 [==============================] - 2s 8ms/step - loss: 0.0030 - precision: 0.9988 - val_loss: 0.5060 - val_precision: 0.8844\n",
            "Epoch 11/500\n",
            "210/210 [==============================] - 2s 9ms/step - loss: 0.0023 - precision: 0.9997 - val_loss: 0.5296 - val_precision: 0.8877\n",
            "Epoch 12/500\n",
            "210/210 [==============================] - 2s 8ms/step - loss: 0.0018 - precision: 0.9997 - val_loss: 0.5515 - val_precision: 0.8874\n",
            "Epoch 13/500\n",
            "210/210 [==============================] - 2s 9ms/step - loss: 0.0011 - precision: 0.9997 - val_loss: 0.5888 - val_precision: 0.8908\n",
            "Epoch 14/500\n",
            "210/210 [==============================] - 2s 8ms/step - loss: 6.7927e-04 - precision: 1.0000 - val_loss: 0.6043 - val_precision: 0.8886\n",
            "Epoch 15/500\n",
            "210/210 [==============================] - 2s 8ms/step - loss: 4.5758e-04 - precision: 1.0000 - val_loss: 0.6176 - val_precision: 0.8866\n",
            "Epoch 16/500\n",
            "210/210 [==============================] - 2s 8ms/step - loss: 3.6967e-04 - precision: 1.0000 - val_loss: 0.6329 - val_precision: 0.8866\n",
            "Epoch 17/500\n",
            "210/210 [==============================] - 2s 8ms/step - loss: 2.8306e-04 - precision: 1.0000 - val_loss: 0.6472 - val_precision: 0.8845\n",
            "Epoch 18/500\n",
            "210/210 [==============================] - 2s 8ms/step - loss: 2.2287e-04 - precision: 1.0000 - val_loss: 0.6781 - val_precision: 0.8939\n",
            "Epoch 19/500\n",
            "210/210 [==============================] - 2s 8ms/step - loss: 1.6848e-04 - precision: 1.0000 - val_loss: 0.6775 - val_precision: 0.8868\n",
            "Epoch 20/500\n",
            "210/210 [==============================] - 2s 8ms/step - loss: 1.5119e-04 - precision: 1.0000 - val_loss: 0.6961 - val_precision: 0.8911\n",
            "Epoch 21/500\n",
            "210/210 [==============================] - 2s 8ms/step - loss: 1.1506e-04 - precision: 1.0000 - val_loss: 0.7046 - val_precision: 0.8901\n",
            "Epoch 22/500\n",
            "210/210 [==============================] - 2s 8ms/step - loss: 9.7330e-05 - precision: 1.0000 - val_loss: 0.7166 - val_precision: 0.8892\n",
            "Epoch 23/500\n",
            "210/210 [==============================] - 2s 8ms/step - loss: 7.9988e-05 - precision: 1.0000 - val_loss: 0.7304 - val_precision: 0.8906\n",
            "Epoch 24/500\n",
            "210/210 [==============================] - 2s 8ms/step - loss: 6.3933e-05 - precision: 1.0000 - val_loss: 0.7444 - val_precision: 0.8909\n",
            "Epoch 25/500\n",
            "210/210 [==============================] - 2s 8ms/step - loss: 5.2675e-05 - precision: 1.0000 - val_loss: 0.7541 - val_precision: 0.8901\n",
            "Epoch 26/500\n",
            "210/210 [==============================] - 2s 8ms/step - loss: 4.3734e-05 - precision: 1.0000 - val_loss: 0.7632 - val_precision: 0.8906\n",
            "Epoch 27/500\n",
            "210/210 [==============================] - 2s 10ms/step - loss: 3.7420e-05 - precision: 1.0000 - val_loss: 0.7770 - val_precision: 0.8900\n",
            "Epoch 28/500\n",
            "210/210 [==============================] - 2s 9ms/step - loss: 3.2109e-05 - precision: 1.0000 - val_loss: 0.7871 - val_precision: 0.8901\n",
            "Epoch 29/500\n",
            "210/210 [==============================] - 2s 8ms/step - loss: 2.6622e-05 - precision: 1.0000 - val_loss: 0.7950 - val_precision: 0.8902\n",
            "Epoch 30/500\n",
            "210/210 [==============================] - 2s 8ms/step - loss: 2.3010e-05 - precision: 1.0000 - val_loss: 0.8085 - val_precision: 0.8909\n",
            "Epoch 31/500\n",
            "210/210 [==============================] - 2s 8ms/step - loss: 1.9927e-05 - precision: 1.0000 - val_loss: 0.8151 - val_precision: 0.8902\n",
            "Epoch 32/500\n",
            "210/210 [==============================] - 2s 8ms/step - loss: 1.7043e-05 - precision: 1.0000 - val_loss: 0.8252 - val_precision: 0.8902\n",
            "Epoch 33/500\n",
            "210/210 [==============================] - 2s 8ms/step - loss: 1.4808e-05 - precision: 1.0000 - val_loss: 0.8364 - val_precision: 0.8910\n",
            "Epoch 34/500\n",
            "210/210 [==============================] - 2s 8ms/step - loss: 1.2809e-05 - precision: 1.0000 - val_loss: 0.8472 - val_precision: 0.8919\n",
            "Epoch 35/500\n",
            "210/210 [==============================] - 2s 9ms/step - loss: 1.1214e-05 - precision: 1.0000 - val_loss: 0.8560 - val_precision: 0.8919\n",
            "Epoch 36/500\n",
            "210/210 [==============================] - 2s 9ms/step - loss: 9.7666e-06 - precision: 1.0000 - val_loss: 0.8662 - val_precision: 0.8918\n"
          ]
        }
      ],
      "source": [
        "history = model.fit(X_train, y_train, epochs=500, validation_data=(X_val, y_val),callbacks=keras_callbacks)"
      ]
    },
    {
      "cell_type": "code",
      "execution_count": null,
      "id": "ae559e28-87ee-4f0d-ba7c-6b8d98ae3529",
      "metadata": {
        "id": "ae559e28-87ee-4f0d-ba7c-6b8d98ae3529",
        "outputId": "10b6ff41-4984-48ef-f0dc-7c35ed93ba0d",
        "colab": {
          "base_uri": "https://localhost:8080/"
        }
      },
      "outputs": [
        {
          "output_type": "stream",
          "name": "stdout",
          "text": [
            "67/67 [==============================] - 0s 4ms/step - loss: 0.9609 - precision: 0.8657\n",
            "Testing Accuracy is 86.57004833221436 \n"
          ]
        }
      ],
      "source": [
        "loss, accuracy = model.evaluate(X_test,y_test)\n",
        "print('Testing Accuracy is {} '.format(accuracy*100))"
      ]
    },
    {
      "cell_type": "code",
      "execution_count": null,
      "id": "4f2f45a4-c58a-496d-9e0e-7cc67d7c44cd",
      "metadata": {
        "id": "4f2f45a4-c58a-496d-9e0e-7cc67d7c44cd",
        "colab": {
          "base_uri": "https://localhost:8080/"
        },
        "outputId": "3e2e57af-59e6-44b6-ac86-274b333eec15"
      },
      "outputs": [
        {
          "output_type": "stream",
          "name": "stdout",
          "text": [
            "              precision    recall  f1-score   support\n",
            "\n",
            "           0    0.88778   0.87589   0.88180      1120\n",
            "           1    0.86570   0.87843   0.87202      1020\n",
            "\n",
            "    accuracy                        0.87710      2140\n",
            "   macro avg    0.87674   0.87716   0.87691      2140\n",
            "weighted avg    0.87726   0.87710   0.87714      2140\n",
            "\n",
            "[[981 139]\n",
            " [124 896]]\n"
          ]
        }
      ],
      "source": [
        "y_pred = model.predict(X_test)\n",
        "y_pred = y_pred.round()\n",
        "\n",
        "print(metrics.classification_report(y_test, y_pred,  digits=5))\n",
        "print(confusion_matrix(y_test, y_pred))"
      ]
    },
    {
      "cell_type": "markdown",
      "source": [
        "**SAVE THE CNN STRUCTURE**"
      ],
      "metadata": {
        "id": "o_jmG7ClXMa2"
      },
      "id": "o_jmG7ClXMa2"
    },
    {
      "cell_type": "code",
      "source": [
        "model.save('netron_CNN.h5')"
      ],
      "metadata": {
        "id": "eQWtEjtjYXmB"
      },
      "id": "eQWtEjtjYXmB",
      "execution_count": null,
      "outputs": []
    },
    {
      "cell_type": "code",
      "source": [
        "from keras.models import model_from_json\n",
        "os.chdir('/content/drive/MyDrive/Thesis/Models/Replicated models /Simple models /CNN/')\n",
        "# serialize model to JSON\n",
        "model_json = model.to_json()\n",
        "with open(\"CNN.json\", \"w\") as json_file:\n",
        "    json_file.write(model_json)"
      ],
      "metadata": {
        "id": "SK6BoJS_Lmsu"
      },
      "id": "SK6BoJS_Lmsu",
      "execution_count": null,
      "outputs": []
    },
    {
      "cell_type": "code",
      "source": [
        "from keras.models import model_from_json\n",
        "\n",
        "# load json and create model\n",
        "os.chdir('/content/drive/MyDrive/Thesis/Models/Replicated models /Simple models /CNN/')\n",
        "json_file = open('CNN.json', 'r')\n",
        "loaded_model_json = json_file.read()\n",
        "json_file.close()\n",
        "loaded_model = model_from_json(loaded_model_json)\n",
        "# load weights into new model\n",
        "loaded_model.load_weights(\"netron_CNN.h5\")\n",
        "print(\"Loaded CNN from disk\")"
      ],
      "metadata": {
        "colab": {
          "base_uri": "https://localhost:8080/"
        },
        "id": "njWBU7foLYbn",
        "outputId": "907b8d78-cc65-4455-e723-bf5ebba52fd2"
      },
      "id": "njWBU7foLYbn",
      "execution_count": null,
      "outputs": [
        {
          "output_type": "stream",
          "name": "stdout",
          "text": [
            "Loaded CNN from disk\n"
          ]
        }
      ]
    }
  ],
  "metadata": {
    "kernelspec": {
      "display_name": "ML",
      "language": "python",
      "name": "ml"
    },
    "language_info": {
      "codemirror_mode": {
        "name": "ipython",
        "version": 3
      },
      "file_extension": ".py",
      "mimetype": "text/x-python",
      "name": "python",
      "nbconvert_exporter": "python",
      "pygments_lexer": "ipython3",
      "version": "3.8.12"
    },
    "colab": {
      "name": "CNN_onehot.ipynb",
      "provenance": []
    },
    "accelerator": "GPU"
  },
  "nbformat": 4,
  "nbformat_minor": 5
}