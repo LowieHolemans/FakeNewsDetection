{
  "cells": [
    {
      "cell_type": "markdown",
      "metadata": {
        "id": "hA7ZtfuGslLB"
      },
      "source": [
        "Source for the GloVe embedding code: https://towardsdatascience.com/sentiment-analysis-using-lstm-and-glove-embeddings-99223a87fe8e"
      ]
    },
    {
      "cell_type": "code",
      "execution_count": 1,
      "metadata": {
        "id": "2qTakNnZr187"
      },
      "outputs": [],
      "source": [
        "import pandas as pd\n",
        "import numpy as np\n",
        "from keras.layers import LSTM, Activation, Dropout, Dense, Input\n",
        "from keras.layers.embeddings import Embedding\n",
        "from keras.models import Model\n",
        "import string\n",
        "import re\n",
        "from keras.preprocessing.text import Tokenizer\n",
        "from sklearn.preprocessing import LabelBinarizer\n",
        "from keras.preprocessing.sequence import pad_sequences\n",
        "import keras\n",
        "from sklearn.model_selection import train_test_split"
      ]
    },
    {
      "cell_type": "code",
      "execution_count": 2,
      "metadata": {
        "id": "267ba271-354c-48bd-a946-24a317928892"
      },
      "outputs": [],
      "source": [
        "import numpy as np\n",
        "import tensorflow as tf\n",
        "import os \n",
        "import pandas as pd\n",
        "import pandas as pd\n",
        "import numpy as np\n",
        "import os\n",
        "import matplotlib.pyplot as plt\n",
        "import seaborn as sn\n",
        "import pickle\n",
        "\n",
        "%matplotlib inline\n",
        "\n",
        "#Import module to split the datasets\n",
        "from sklearn.model_selection import train_test_split\n",
        "# Import modules to evaluate the metrics\n",
        "from sklearn import metrics\n",
        "from sklearn.metrics import confusion_matrix,accuracy_score,roc_auc_score,roc_curve,auc\n",
        "from sklearn.model_selection import train_test_split\n",
        "\n",
        "from tensorflow.keras.preprocessing.text import one_hot\n",
        "from tensorflow.keras.preprocessing.sequence import pad_sequences\n",
        "from imblearn.over_sampling import SMOTE\n",
        "\n",
        "from tensorflow.keras.layers import Dense, Embedding,GlobalMaxPooling1D, Conv1D, Bidirectional, Dropout\n",
        "from tensorflow.keras.models import Sequential\n",
        "from tensorflow.keras.layers import Dense\n",
        "from tensorflow.keras.layers import Embedding\n",
        "from tensorflow.keras.optimizers import Adam\n",
        "from tensorflow.keras.callbacks import EarlyStopping, ModelCheckpoint\n",
        "from tensorflow.keras.layers import Dense, Embedding,GlobalMaxPooling1D, LSTM,Conv1D, Bidirectional, Dropout\n",
        "from tensorflow.keras.models import Sequential\n",
        "from tensorflow.keras.layers import Dense\n",
        "from tensorflow.keras.layers import Embedding\n",
        "from tensorflow.keras.optimizers import SGD\n"
      ]
    },
    {
      "cell_type": "code",
      "execution_count": 3,
      "metadata": {
        "id": "nNZaA2L-TMB-"
      },
      "outputs": [],
      "source": [
        "# Create the confussion matrix\n",
        "def plot_confussion_matrix(y_test, y_pred):\n",
        "    ''' Plot the confussion matrix for the target labels and predictions '''\n",
        "    cm = confusion_matrix(y_test, y_pred)\n",
        "\n",
        "    # Create a dataframe with the confussion matrix values\n",
        "    df_cm = pd.DataFrame(cm, range(cm.shape[0]),\n",
        "                  range(cm.shape[1]))\n",
        "    #plt.figure(figsize = (10,7))\n",
        "    # Plot the confussion matrix\n",
        "    sn.set(font_scale=1.4) #for label size\n",
        "    sn.heatmap(df_cm, annot=True,fmt='.0f',annot_kws={\"size\": 10})# font size\n",
        "    plt.show()\n",
        "    \n",
        "# ROC Curve\n",
        "# plot no skill\n",
        "# Calculate the points in the ROC curve\n",
        "def plot_roc_curve(y_test, y_pred):\n",
        "    ''' Plot the ROC curve for the target labels and predictions'''\n",
        "    fpr, tpr, thresholds = roc_curve(y_test, y_pred, pos_label=1)\n",
        "    roc_auc= auc(fpr,tpr)\n",
        "\n",
        "    plt.title('Receiver Operating Characteristic')\n",
        "    plt.plot(fpr, tpr, 'b', label = 'AUC = %0.2f' % roc_auc)\n",
        "    plt.legend(loc = 'lower right')\n",
        "    plt.plot([0, 1], [0, 1],'r--')\n",
        "    plt.xlim([0, 1])\n",
        "    plt.ylim([0, 1])\n",
        "    plt.ylabel('True Positive Rate')\n",
        "    plt.xlabel('False Positive Rate')\n",
        "    plt.show()"
      ]
    },
    {
      "cell_type": "code",
      "execution_count": 4,
      "metadata": {
        "colab": {
          "base_uri": "https://localhost:8080/"
        },
        "id": "LJKg6vCJ2BtJ",
        "outputId": "4a741a40-4a2e-44dc-f3ca-28ff20080563"
      },
      "outputs": [
        {
          "output_type": "stream",
          "name": "stdout",
          "text": [
            "Mounted at /content/drive\n"
          ]
        }
      ],
      "source": [
        "from google.colab import drive\n",
        "drive.mount('/content/drive')"
      ]
    },
    {
      "cell_type": "code",
      "execution_count": 5,
      "metadata": {
        "colab": {
          "base_uri": "https://localhost:8080/"
        },
        "id": "afc326e6-b77d-48ef-8a83-3d1f418dc65e",
        "outputId": "cfb5b451-a0d8-4142-c4ec-646944124e6f"
      },
      "outputs": [
        {
          "output_type": "stream",
          "name": "stdout",
          "text": [
            "train                                                tweet  label\n",
            "0  cdc currently reports deaths general discrepan...      0\n",
            "1  states reported deaths small rise last tuesday...      0\n",
            "2  politically correct woman almost uses pandemic...      1\n",
            "test    id                                              tweet  label\n",
            "0   1  daily update published states reported k tests...      0\n",
            "1   2                                 alfalfa cure covid      1\n",
            "2   3      president trump asked would catch coronavirus      1\n",
            "val                                                tweet  label\n",
            "0  chinese converting islam realising muslim affe...      1\n",
            "1  people diamond princess cruise ship initially ...      1\n",
            "2       covid caused bacterium virus treated aspirin      1\n"
          ]
        }
      ],
      "source": [
        "import os\n",
        "os.chdir('/content/drive/MyDrive/Thesis/Data/Filled Datasets/Second dataset (Kaggle)/Preprocessed/')\n",
        "train = pd.read_csv(\"Constraint_Train_fullprep.csv\")\n",
        "test = pd.read_csv(\"Constraint_Test_fullprep_with_labels.csv\")\n",
        "val = pd.read_csv('Constraint_Val_fullprep.csv')\n",
        "print('train',train.head(n=3))\n",
        "print('test',test.head(n=3))\n",
        "print('val',val.head(n=3))\n",
        "                  "
      ]
    },
    {
      "cell_type": "code",
      "execution_count": 6,
      "metadata": {
        "id": "8a88adff-080e-49f5-ac53-a98b8b6f5910"
      },
      "outputs": [],
      "source": [
        "X_train= train['tweet']\n",
        "y_train= train['label']\n",
        "X_test = test['tweet']\n",
        "y_test = test['label']\n",
        "X_val = val['tweet']\n",
        "y_val = val['label']"
      ]
    },
    {
      "cell_type": "code",
      "execution_count": 7,
      "metadata": {
        "colab": {
          "base_uri": "https://localhost:8080/"
        },
        "id": "b40025b9-23b7-4fa3-872d-95f3a4471e28",
        "outputId": "0da41cb6-5d1b-427e-dcb2-b4adc43060db"
      },
      "outputs": [
        {
          "output_type": "stream",
          "name": "stderr",
          "text": [
            "/usr/local/lib/python3.7/dist-packages/pandas/core/indexing.py:1732: SettingWithCopyWarning: \n",
            "A value is trying to be set on a copy of a slice from a DataFrame\n",
            "\n",
            "See the caveats in the documentation: https://pandas.pydata.org/pandas-docs/stable/user_guide/indexing.html#returning-a-view-versus-a-copy\n",
            "  self._setitem_single_block(indexer, value, name)\n"
          ]
        }
      ],
      "source": [
        "#we need the next code because the one-hot encoding below otherwise doesn't work\n",
        "for i in range(len(X_train)): \n",
        "    X_train.iloc[i] = str(X_train.iloc[i])\n",
        "\n",
        "for i in range(len(X_val)): \n",
        "    X_val.iloc[i] = str(X_val.iloc[i])\n",
        "\n",
        "for i in range(len(X_test)): \n",
        "    X_test.iloc[i] = str(X_test.iloc[i])"
      ]
    },
    {
      "cell_type": "markdown",
      "metadata": {
        "id": "aPhMJnlSsZME"
      },
      "source": [
        "tokenize the words "
      ]
    },
    {
      "cell_type": "code",
      "execution_count": 8,
      "metadata": {
        "id": "XX-9TNlHsapt"
      },
      "outputs": [],
      "source": [
        "X_train_list = []\n",
        "\n",
        "for i in range(len(X_train)): \n",
        "  X_train_list.append(X_train[i])\n",
        "\n",
        "tokenizer = Tokenizer(num_words=5000)\n",
        "tokenizer.fit_on_texts(X_train_list)\n",
        "\n",
        "words_to_index = tokenizer.word_index"
      ]
    },
    {
      "cell_type": "code",
      "execution_count": 9,
      "metadata": {
        "id": "Ygm3FYBTwCkb"
      },
      "outputs": [],
      "source": [
        "X_val_list = []\n",
        "\n",
        "for i in range(len(X_val)): \n",
        "  X_val_list.append(X_val[i])"
      ]
    },
    {
      "cell_type": "code",
      "execution_count": 10,
      "metadata": {
        "id": "wkPG9cKjwC5E"
      },
      "outputs": [],
      "source": [
        "X_test_list = []\n",
        "\n",
        "for i in range(len(X_test)): \n",
        "  X_test_list.append(X_test[i])"
      ]
    },
    {
      "cell_type": "markdown",
      "metadata": {
        "id": "FmNNcNLpsfoI"
      },
      "source": [
        "function to read glove vector file, which returns dictionary that maps the words to their embeddings"
      ]
    },
    {
      "cell_type": "code",
      "execution_count": 11,
      "metadata": {
        "id": "s_bq3HzRskoB"
      },
      "outputs": [],
      "source": [
        "import os\n",
        "os.chdir('/content/drive/MyDrive/Thesis/Data/Embedding files/')\n",
        "def read_glove_vector(glove_vec):\n",
        "  with open(glove_vec, 'r', encoding='UTF-8') as f:\n",
        "    words = set()\n",
        "    word_to_vec_map = {}\n",
        "    for line in f:\n",
        "      w_line = line.split()\n",
        "      curr_word = w_line[0]\n",
        "      word_to_vec_map[curr_word] = np.array(w_line[1:], dtype=np.float64)\n",
        "\n",
        "\n",
        "\n",
        "  return word_to_vec_map"
      ]
    },
    {
      "cell_type": "code",
      "execution_count": 12,
      "metadata": {
        "id": "tzmX4sRutIWx"
      },
      "outputs": [],
      "source": [
        "word_to_vec_map = read_glove_vector('glove.twitter.27B.100d.txt')"
      ]
    },
    {
      "cell_type": "code",
      "source": [
        "maxLen = 100"
      ],
      "metadata": {
        "id": "igCqDkdUzYs8"
      },
      "execution_count": 13,
      "outputs": []
    },
    {
      "cell_type": "markdown",
      "metadata": {
        "id": "dspNUWoUtSsV"
      },
      "source": [
        "embedding matrix"
      ]
    },
    {
      "cell_type": "code",
      "execution_count": 14,
      "metadata": {
        "id": "SebNcNKitUhy"
      },
      "outputs": [],
      "source": [
        "vocab_len = len(words_to_index)\n",
        "embed_vector_len = word_to_vec_map['virus'].shape[0]\n",
        "\n",
        "emb_matrix = np.zeros((vocab_len, embed_vector_len))\n",
        "\n",
        "for word, index in words_to_index.items():\n",
        "  embedding_vector = word_to_vec_map.get(word)\n",
        "  if embedding_vector is not None:\n",
        "    emb_matrix[index-1, :] = embedding_vector"
      ]
    },
    {
      "cell_type": "code",
      "source": [
        "vocab_len"
      ],
      "metadata": {
        "colab": {
          "base_uri": "https://localhost:8080/"
        },
        "id": "JBB-PU9Bl79p",
        "outputId": "5d33b311-4443-49b8-a0bb-7be361d1153a"
      },
      "execution_count": 21,
      "outputs": [
        {
          "output_type": "execute_result",
          "data": {
            "text/plain": [
              "10142"
            ]
          },
          "metadata": {},
          "execution_count": 21
        }
      ]
    },
    {
      "cell_type": "code",
      "execution_count": 15,
      "metadata": {
        "colab": {
          "base_uri": "https://localhost:8080/"
        },
        "id": "ihVqidHrvTYQ",
        "outputId": "3cff16c6-c86c-4559-9f6e-d0a656c5afa4"
      },
      "outputs": [
        {
          "output_type": "execute_result",
          "data": {
            "text/plain": [
              "array([[ 0.      ,  0.      ,  0.      , ...,  0.      ,  0.      ,\n",
              "         0.      ],\n",
              "       [ 0.21254 , -0.28039 , -0.86803 , ...,  0.083941, -0.089397,\n",
              "         0.18572 ],\n",
              "       [ 0.066068,  0.12279 , -1.1359  , ...,  1.0283  , -0.15395 ,\n",
              "         0.54496 ],\n",
              "       ...,\n",
              "       [-0.042443,  0.27053 , -0.46525 , ..., -0.87101 , -0.3004  ,\n",
              "         0.61371 ],\n",
              "       [ 0.051175, -0.13945 ,  0.49631 , ..., -0.15366 , -0.37818 ,\n",
              "        -0.086145],\n",
              "       [-1.1537  , -0.95074 , -0.12871 , ...,  0.059921, -0.1734  ,\n",
              "         0.71542 ]])"
            ]
          },
          "metadata": {},
          "execution_count": 15
        }
      ],
      "source": [
        "emb_matrix"
      ]
    },
    {
      "cell_type": "code",
      "execution_count": 16,
      "metadata": {
        "colab": {
          "base_uri": "https://localhost:8080/"
        },
        "id": "devWH6fav2OU",
        "outputId": "b75244dc-7c29-443c-cc3e-85cbd67777c5"
      },
      "outputs": [
        {
          "output_type": "execute_result",
          "data": {
            "text/plain": [
              "(6420, 100)"
            ]
          },
          "metadata": {},
          "execution_count": 16
        }
      ],
      "source": [
        "X_train_indices = tokenizer.texts_to_sequences(X_train_list)\n",
        "X_train_indices = pad_sequences(X_train_indices, maxlen=maxLen, padding='post')\n",
        "X_train_indices.shape"
      ]
    },
    {
      "cell_type": "code",
      "execution_count": 17,
      "metadata": {
        "colab": {
          "base_uri": "https://localhost:8080/"
        },
        "id": "UMhd0xK4wN5_",
        "outputId": "4d0323ef-ff3b-4629-d2ed-effc8088013b"
      },
      "outputs": [
        {
          "output_type": "execute_result",
          "data": {
            "text/plain": [
              "(2140, 100)"
            ]
          },
          "metadata": {},
          "execution_count": 17
        }
      ],
      "source": [
        "X_val_indices = tokenizer.texts_to_sequences(X_val_list)\n",
        "X_val_indices = pad_sequences(X_val_indices, maxlen=maxLen, padding='post')\n",
        "X_val_indices.shape"
      ]
    },
    {
      "cell_type": "code",
      "execution_count": 18,
      "metadata": {
        "colab": {
          "base_uri": "https://localhost:8080/"
        },
        "id": "cC1ZoilswOAQ",
        "outputId": "9c07a00a-3383-404e-84b2-a95a59906a07"
      },
      "outputs": [
        {
          "output_type": "execute_result",
          "data": {
            "text/plain": [
              "(2139, 100)"
            ]
          },
          "metadata": {},
          "execution_count": 18
        }
      ],
      "source": [
        "X_test_indices = tokenizer.texts_to_sequences(X_test_list)\n",
        "X_test_indices = pad_sequences(X_test_indices, maxlen=maxLen, padding='post')\n",
        "X_test_indices.shape"
      ]
    },
    {
      "cell_type": "markdown",
      "metadata": {
        "id": "2T7QuYucWZPB"
      },
      "source": [
        "**Oversampling**"
      ]
    },
    {
      "cell_type": "code",
      "execution_count": 19,
      "metadata": {
        "id": "Iy6ZzO_dWarc"
      },
      "outputs": [],
      "source": [
        "smote = SMOTE()\n",
        "X_train_indices, y_train = smote.fit_resample(X_train_indices,y_train)"
      ]
    },
    {
      "cell_type": "code",
      "source": [
        "from tensorflow.keras.layers import Dense, Embedding,GlobalMaxPooling1D, Conv1D\n",
        "from tensorflow.keras.models import Sequential\n",
        "from tensorflow.keras.layers import Dense\n",
        "from tensorflow.keras.layers import Embedding\n",
        "\n",
        "model = Sequential([\n",
        "    Embedding(vocab_len, 8, input_length=100),\n",
        "    Conv1D(128, 5, activation='relu'),\n",
        "    GlobalMaxPooling1D(),\n",
        "    Dense(10, activation='relu'),\n",
        "    Dense(1, activation='sigmoid')\n",
        "])"
      ],
      "metadata": {
        "id": "tnERBMWc0hV6"
      },
      "execution_count": 22,
      "outputs": []
    },
    {
      "cell_type": "code",
      "source": [
        "model.summary()"
      ],
      "metadata": {
        "colab": {
          "base_uri": "https://localhost:8080/"
        },
        "id": "3BE9lqd4FZ3Y",
        "outputId": "62e8060a-4d04-4d87-93a3-f6bcc4123f60"
      },
      "execution_count": null,
      "outputs": [
        {
          "output_type": "stream",
          "name": "stdout",
          "text": [
            "Model: \"sequential\"\n",
            "_________________________________________________________________\n",
            " Layer (type)                Output Shape              Param #   \n",
            "=================================================================\n",
            " embedding (Embedding)       (None, 100, 8)            40000     \n",
            "                                                                 \n",
            " conv1d (Conv1D)             (None, 96, 128)           5248      \n",
            "                                                                 \n",
            " global_max_pooling1d (Globa  (None, 128)              0         \n",
            " lMaxPooling1D)                                                  \n",
            "                                                                 \n",
            " dense (Dense)               (None, 10)                1290      \n",
            "                                                                 \n",
            " dense_1 (Dense)             (None, 1)                 11        \n",
            "                                                                 \n",
            "=================================================================\n",
            "Total params: 46,549\n",
            "Trainable params: 46,549\n",
            "Non-trainable params: 0\n",
            "_________________________________________________________________\n"
          ]
        }
      ]
    },
    {
      "cell_type": "code",
      "execution_count": 24,
      "metadata": {
        "id": "67afd9fb-1a4d-4654-ae96-81bf18cf303d"
      },
      "outputs": [],
      "source": [
        "import tensorflow\n",
        "from tensorflow.keras.callbacks import EarlyStopping, ModelCheckpoint\n",
        "checkpoint_path = \"/home/lowie/data/rnn_check/\"\n",
        "\n",
        "monitor = 'val_precision'\n",
        "keras_callbacks   = [\n",
        "      EarlyStopping(monitor=monitor, patience=30, mode='max', min_delta=0.0001),\n",
        "      ModelCheckpoint(checkpoint_path, monitor=monitor, save_best_only=True, mode='max')\n",
        "]\n",
        "model.compile(optimizer='adam', loss='binary_crossentropy', metrics=[tensorflow.keras.metrics.Precision()])"
      ]
    },
    {
      "cell_type": "code",
      "execution_count": 25,
      "metadata": {
        "colab": {
          "base_uri": "https://localhost:8080/"
        },
        "id": "18508232-76bb-4d40-9178-4296b81f6672",
        "outputId": "285f0a4d-4c52-4852-9dde-be8ed269fa78"
      },
      "outputs": [
        {
          "output_type": "stream",
          "name": "stdout",
          "text": [
            "Epoch 1/500\n",
            "210/210 [==============================] - ETA: 0s - loss: 0.5024 - precision: 0.7671INFO:tensorflow:Assets written to: /home/lowie/data/rnn_check/assets\n",
            "210/210 [==============================] - 5s 18ms/step - loss: 0.5024 - precision: 0.7671 - val_loss: 0.2621 - val_precision: 0.8857\n",
            "Epoch 2/500\n",
            "207/210 [============================>.] - ETA: 0s - loss: 0.2198 - precision: 0.9150INFO:tensorflow:Assets written to: /home/lowie/data/rnn_check/assets\n",
            "210/210 [==============================] - 3s 15ms/step - loss: 0.2192 - precision: 0.9147 - val_loss: 0.2133 - val_precision: 0.9157\n",
            "Epoch 3/500\n",
            "210/210 [==============================] - 3s 16ms/step - loss: 0.1300 - precision: 0.9522 - val_loss: 0.2269 - val_precision: 0.8986\n",
            "Epoch 4/500\n",
            "210/210 [==============================] - 3s 15ms/step - loss: 0.0763 - precision: 0.9750 - val_loss: 0.2532 - val_precision: 0.9038\n",
            "Epoch 5/500\n",
            "210/210 [==============================] - 4s 18ms/step - loss: 0.0433 - precision: 0.9872 - val_loss: 0.2911 - val_precision: 0.9127\n",
            "Epoch 6/500\n",
            "210/210 [==============================] - 3s 12ms/step - loss: 0.0233 - precision: 0.9929 - val_loss: 0.3204 - val_precision: 0.9088\n",
            "Epoch 7/500\n",
            "210/210 [==============================] - 3s 12ms/step - loss: 0.0137 - precision: 0.9967 - val_loss: 0.3581 - val_precision: 0.9073\n",
            "Epoch 8/500\n",
            "210/210 [==============================] - 3s 12ms/step - loss: 0.0073 - precision: 0.9985 - val_loss: 0.3944 - val_precision: 0.9049\n",
            "Epoch 9/500\n",
            "210/210 [==============================] - 2s 12ms/step - loss: 0.0039 - precision: 0.9994 - val_loss: 0.4228 - val_precision: 0.9013\n",
            "Epoch 10/500\n",
            "210/210 [==============================] - 2s 12ms/step - loss: 0.0023 - precision: 0.9997 - val_loss: 0.4504 - val_precision: 0.9120\n",
            "Epoch 11/500\n",
            "210/210 [==============================] - 3s 12ms/step - loss: 0.0017 - precision: 0.9997 - val_loss: 0.4698 - val_precision: 0.9013\n",
            "Epoch 12/500\n",
            "210/210 [==============================] - 3s 12ms/step - loss: 0.0013 - precision: 0.9997 - val_loss: 0.4926 - val_precision: 0.9016\n",
            "Epoch 13/500\n",
            "210/210 [==============================] - 3s 13ms/step - loss: 0.0012 - precision: 0.9994 - val_loss: 0.5119 - val_precision: 0.9004\n",
            "Epoch 14/500\n",
            "210/210 [==============================] - 3s 13ms/step - loss: 9.2380e-04 - precision: 0.9997 - val_loss: 0.5284 - val_precision: 0.9005\n",
            "Epoch 15/500\n",
            "210/210 [==============================] - 3s 12ms/step - loss: 8.2239e-04 - precision: 0.9997 - val_loss: 0.5445 - val_precision: 0.8987\n",
            "Epoch 16/500\n",
            "210/210 [==============================] - 2s 12ms/step - loss: 7.9488e-04 - precision: 0.9997 - val_loss: 0.5630 - val_precision: 0.9054\n",
            "Epoch 17/500\n",
            "210/210 [==============================] - 2s 12ms/step - loss: 7.2029e-04 - precision: 0.9997 - val_loss: 0.5783 - val_precision: 0.9053\n",
            "Epoch 18/500\n",
            "210/210 [==============================] - 2s 12ms/step - loss: 5.6408e-04 - precision: 0.9997 - val_loss: 0.5901 - val_precision: 0.9036\n",
            "Epoch 19/500\n",
            "210/210 [==============================] - 3s 12ms/step - loss: 5.4550e-04 - precision: 0.9997 - val_loss: 0.6001 - val_precision: 0.8983\n",
            "Epoch 20/500\n",
            "210/210 [==============================] - 3s 12ms/step - loss: 5.0421e-04 - precision: 0.9997 - val_loss: 0.6143 - val_precision: 0.9034\n",
            "Epoch 21/500\n",
            "210/210 [==============================] - 3s 12ms/step - loss: 6.9059e-04 - precision: 0.9997 - val_loss: 0.6354 - val_precision: 0.9017\n",
            "Epoch 22/500\n",
            "210/210 [==============================] - 3s 12ms/step - loss: 5.3033e-04 - precision: 0.9997 - val_loss: 0.6478 - val_precision: 0.9005\n",
            "Epoch 23/500\n",
            "210/210 [==============================] - 3s 12ms/step - loss: 6.8384e-04 - precision: 0.9997 - val_loss: 0.6719 - val_precision: 0.8813\n",
            "Epoch 24/500\n",
            "210/210 [==============================] - 2s 12ms/step - loss: 0.0013 - precision: 0.9997 - val_loss: 0.6730 - val_precision: 0.8982\n",
            "Epoch 25/500\n",
            "210/210 [==============================] - 2s 12ms/step - loss: 5.1200e-04 - precision: 0.9997 - val_loss: 0.6816 - val_precision: 0.8977\n",
            "Epoch 26/500\n",
            "210/210 [==============================] - 2s 12ms/step - loss: 4.4434e-04 - precision: 0.9997 - val_loss: 0.6917 - val_precision: 0.8964\n",
            "Epoch 27/500\n",
            "210/210 [==============================] - 3s 12ms/step - loss: 4.4458e-04 - precision: 0.9997 - val_loss: 0.7022 - val_precision: 0.9013\n",
            "Epoch 28/500\n",
            "210/210 [==============================] - 3s 12ms/step - loss: 3.5242e-04 - precision: 1.0000 - val_loss: 0.7229 - val_precision: 0.8896\n",
            "Epoch 29/500\n",
            "210/210 [==============================] - 3s 12ms/step - loss: 4.3275e-04 - precision: 0.9997 - val_loss: 0.7294 - val_precision: 0.8997\n",
            "Epoch 30/500\n",
            "210/210 [==============================] - 2s 12ms/step - loss: 4.0584e-04 - precision: 0.9997 - val_loss: 0.7434 - val_precision: 0.9036\n",
            "Epoch 31/500\n",
            "210/210 [==============================] - 3s 12ms/step - loss: 4.0532e-04 - precision: 1.0000 - val_loss: 0.7514 - val_precision: 0.8953\n",
            "Epoch 32/500\n",
            "210/210 [==============================] - 2s 12ms/step - loss: 4.1266e-04 - precision: 0.9997 - val_loss: 0.7525 - val_precision: 0.8964\n"
          ]
        }
      ],
      "source": [
        "history = model.fit(X_train_indices, y_train, epochs=500, validation_data=(X_val_indices, y_val),callbacks=keras_callbacks)"
      ]
    },
    {
      "cell_type": "code",
      "execution_count": 27,
      "metadata": {
        "id": "ae559e28-87ee-4f0d-ba7c-6b8d98ae3529",
        "outputId": "df8f48be-331a-4ddf-eee5-4d5c2b5931a1",
        "colab": {
          "base_uri": "https://localhost:8080/"
        }
      },
      "outputs": [
        {
          "output_type": "stream",
          "name": "stdout",
          "text": [
            "67/67 [==============================] - 1s 8ms/step - loss: 0.8107 - precision: 0.8776\n",
            "Testing Accuracy is 87.7629041671753 \n"
          ]
        }
      ],
      "source": [
        "loss, accuracy = model.evaluate(X_test_indices,y_test)\n",
        "print('Testing Accuracy is {} '.format(accuracy*100))"
      ]
    },
    {
      "cell_type": "code",
      "execution_count": 28,
      "metadata": {
        "id": "4f2f45a4-c58a-496d-9e0e-7cc67d7c44cd",
        "colab": {
          "base_uri": "https://localhost:8080/"
        },
        "outputId": "f9bab650-3a86-4bce-9fe6-1cea5432b50f"
      },
      "outputs": [
        {
          "output_type": "stream",
          "name": "stdout",
          "text": [
            "              precision    recall  f1-score   support\n",
            "\n",
            "           0    0.90668   0.88561   0.89602      1119\n",
            "           1    0.87763   0.90000   0.88867      1020\n",
            "\n",
            "    accuracy                        0.89247      2139\n",
            "   macro avg    0.89215   0.89281   0.89235      2139\n",
            "weighted avg    0.89283   0.89247   0.89252      2139\n",
            "\n",
            "[[991 128]\n",
            " [102 918]]\n"
          ]
        }
      ],
      "source": [
        "y_pred = model.predict(X_test_indices)\n",
        "y_pred = y_pred.round()\n",
        "\n",
        "print(metrics.classification_report(y_test, y_pred,  digits=5))\n",
        "print(confusion_matrix(y_test, y_pred))"
      ]
    },
    {
      "cell_type": "markdown",
      "source": [
        "**SAVE THE MODEL**"
      ],
      "metadata": {
        "id": "xMxV7J8_m6ni"
      }
    },
    {
      "cell_type": "code",
      "source": [
        "os.chdir('/content/drive/MyDrive/Thesis/Models/Replicated models /Simple models /CNN/')\n",
        "model.save('CNN_GLOVE.h5')"
      ],
      "metadata": {
        "id": "eQWtEjtjYXmB"
      },
      "execution_count": 29,
      "outputs": []
    },
    {
      "cell_type": "code",
      "source": [
        "from keras.models import model_from_json\n",
        "# serialize model to JSON\n",
        "model_json = model.to_json()\n",
        "with open(\"CNN_GLOVE.json\", \"w\") as json_file:\n",
        "    json_file.write(model_json)"
      ],
      "metadata": {
        "id": "SK6BoJS_Lmsu"
      },
      "execution_count": 30,
      "outputs": []
    },
    {
      "cell_type": "code",
      "source": [
        "from keras.models import model_from_json\n",
        "\n",
        "# load json and create model\n",
        "json_file = open('CNN_GLOVE.json', 'r')\n",
        "loaded_model_json = json_file.read()\n",
        "json_file.close()\n",
        "loaded_model = model_from_json(loaded_model_json)\n",
        "# load weights into new model\n",
        "loaded_model.load_weights(\"CNN_GLOVE.h5\")\n",
        "print(\"Loaded CNN_GLOVE from disk\")"
      ],
      "metadata": {
        "colab": {
          "base_uri": "https://localhost:8080/"
        },
        "id": "njWBU7foLYbn",
        "outputId": "67040701-c60b-43d7-fb4b-15bad89ee6a8"
      },
      "execution_count": 31,
      "outputs": [
        {
          "output_type": "stream",
          "name": "stdout",
          "text": [
            "Loaded CNN_GLOVE from disk\n"
          ]
        }
      ]
    }
  ],
  "metadata": {
    "colab": {
      "name": "CNN_GloVe.ipynb",
      "provenance": [],
      "collapsed_sections": []
    },
    "kernelspec": {
      "display_name": "Python 3",
      "name": "python3"
    },
    "language_info": {
      "name": "python"
    }
  },
  "nbformat": 4,
  "nbformat_minor": 0
}