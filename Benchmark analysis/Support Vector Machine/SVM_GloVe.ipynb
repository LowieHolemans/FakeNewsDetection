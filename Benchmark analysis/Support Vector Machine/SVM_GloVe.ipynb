{
  "nbformat": 4,
  "nbformat_minor": 0,
  "metadata": {
    "colab": {
      "name": "SVM_GloVe.ipynb",
      "provenance": []
    },
    "kernelspec": {
      "name": "python3",
      "display_name": "Python 3"
    },
    "language_info": {
      "name": "python"
    }
  },
  "cells": [
    {
      "cell_type": "markdown",
      "source": [
        "The notebook is equivalent for each GloVe embedding (standard or Twitter)"
      ],
      "metadata": {
        "id": "OA4BBAxkVRHU"
      }
    },
    {
      "cell_type": "code",
      "execution_count": 1,
      "metadata": {
        "colab": {
          "base_uri": "https://localhost:8080/"
        },
        "id": "r9pvuO4x2B4R",
        "outputId": "75b711e3-5097-46da-ad37-da75befb7445"
      },
      "outputs": [
        {
          "output_type": "stream",
          "name": "stdout",
          "text": [
            "Mounted at /content/drive\n"
          ]
        }
      ],
      "source": [
        "from google.colab import drive\n",
        "drive.mount('/content/drive')"
      ]
    },
    {
      "cell_type": "code",
      "execution_count": 2,
      "metadata": {
        "id": "ezk4crhH29IH"
      },
      "outputs": [],
      "source": [
        "import pandas as pd \n",
        "data = pd.read_csv('/content/drive/MyDrive/Thesis/Data/Filled Datasets/Second dataset (Kaggle)/Preprocessed/combined_train_val.csv',header=0)\n",
        "test = pd.read_csv('/content/drive/MyDrive/Thesis/Data/Filled Datasets/Second dataset (Kaggle)/Preprocessed/Constraint_Test_fullprep_with_labels.csv')"
      ]
    },
    {
      "cell_type": "code",
      "source": [
        "test"
      ],
      "metadata": {
        "colab": {
          "base_uri": "https://localhost:8080/",
          "height": 424
        },
        "id": "a2oxtdY7zL3S",
        "outputId": "494aefe8-49db-4dee-ba08-68a1e7de842d"
      },
      "execution_count": 3,
      "outputs": [
        {
          "output_type": "execute_result",
          "data": {
            "text/plain": [
              "        id                                              tweet  label\n",
              "0        1  daily update published states reported k tests...      0\n",
              "1        2                                 alfalfa cure covid      1\n",
              "2        3      president trump asked would catch coronavirus      1\n",
              "3        4  states reported deaths still seeing solid nati...      0\n",
              "4        5  sixth time global health emergency declared in...      0\n",
              "...    ...                                                ...    ...\n",
              "2134  2136  state wise details total confirmed cases till ...      0\n",
              "2135  2137  tonight midnight onwards disaster management a...      1\n",
              "2136  2138  new cases plateau enough yo lagos rivers ft fa...      0\n",
              "2137  2139  one stop shop resources section communicating ...      0\n",
              "2138  2140  half pregnant women recently admitted uk hospi...      0\n",
              "\n",
              "[2139 rows x 3 columns]"
            ],
            "text/html": [
              "\n",
              "  <div id=\"df-fc66afd2-885d-4735-b388-ed2fa51b189c\">\n",
              "    <div class=\"colab-df-container\">\n",
              "      <div>\n",
              "<style scoped>\n",
              "    .dataframe tbody tr th:only-of-type {\n",
              "        vertical-align: middle;\n",
              "    }\n",
              "\n",
              "    .dataframe tbody tr th {\n",
              "        vertical-align: top;\n",
              "    }\n",
              "\n",
              "    .dataframe thead th {\n",
              "        text-align: right;\n",
              "    }\n",
              "</style>\n",
              "<table border=\"1\" class=\"dataframe\">\n",
              "  <thead>\n",
              "    <tr style=\"text-align: right;\">\n",
              "      <th></th>\n",
              "      <th>id</th>\n",
              "      <th>tweet</th>\n",
              "      <th>label</th>\n",
              "    </tr>\n",
              "  </thead>\n",
              "  <tbody>\n",
              "    <tr>\n",
              "      <th>0</th>\n",
              "      <td>1</td>\n",
              "      <td>daily update published states reported k tests...</td>\n",
              "      <td>0</td>\n",
              "    </tr>\n",
              "    <tr>\n",
              "      <th>1</th>\n",
              "      <td>2</td>\n",
              "      <td>alfalfa cure covid</td>\n",
              "      <td>1</td>\n",
              "    </tr>\n",
              "    <tr>\n",
              "      <th>2</th>\n",
              "      <td>3</td>\n",
              "      <td>president trump asked would catch coronavirus</td>\n",
              "      <td>1</td>\n",
              "    </tr>\n",
              "    <tr>\n",
              "      <th>3</th>\n",
              "      <td>4</td>\n",
              "      <td>states reported deaths still seeing solid nati...</td>\n",
              "      <td>0</td>\n",
              "    </tr>\n",
              "    <tr>\n",
              "      <th>4</th>\n",
              "      <td>5</td>\n",
              "      <td>sixth time global health emergency declared in...</td>\n",
              "      <td>0</td>\n",
              "    </tr>\n",
              "    <tr>\n",
              "      <th>...</th>\n",
              "      <td>...</td>\n",
              "      <td>...</td>\n",
              "      <td>...</td>\n",
              "    </tr>\n",
              "    <tr>\n",
              "      <th>2134</th>\n",
              "      <td>2136</td>\n",
              "      <td>state wise details total confirmed cases till ...</td>\n",
              "      <td>0</td>\n",
              "    </tr>\n",
              "    <tr>\n",
              "      <th>2135</th>\n",
              "      <td>2137</td>\n",
              "      <td>tonight midnight onwards disaster management a...</td>\n",
              "      <td>1</td>\n",
              "    </tr>\n",
              "    <tr>\n",
              "      <th>2136</th>\n",
              "      <td>2138</td>\n",
              "      <td>new cases plateau enough yo lagos rivers ft fa...</td>\n",
              "      <td>0</td>\n",
              "    </tr>\n",
              "    <tr>\n",
              "      <th>2137</th>\n",
              "      <td>2139</td>\n",
              "      <td>one stop shop resources section communicating ...</td>\n",
              "      <td>0</td>\n",
              "    </tr>\n",
              "    <tr>\n",
              "      <th>2138</th>\n",
              "      <td>2140</td>\n",
              "      <td>half pregnant women recently admitted uk hospi...</td>\n",
              "      <td>0</td>\n",
              "    </tr>\n",
              "  </tbody>\n",
              "</table>\n",
              "<p>2139 rows × 3 columns</p>\n",
              "</div>\n",
              "      <button class=\"colab-df-convert\" onclick=\"convertToInteractive('df-fc66afd2-885d-4735-b388-ed2fa51b189c')\"\n",
              "              title=\"Convert this dataframe to an interactive table.\"\n",
              "              style=\"display:none;\">\n",
              "        \n",
              "  <svg xmlns=\"http://www.w3.org/2000/svg\" height=\"24px\"viewBox=\"0 0 24 24\"\n",
              "       width=\"24px\">\n",
              "    <path d=\"M0 0h24v24H0V0z\" fill=\"none\"/>\n",
              "    <path d=\"M18.56 5.44l.94 2.06.94-2.06 2.06-.94-2.06-.94-.94-2.06-.94 2.06-2.06.94zm-11 1L8.5 8.5l.94-2.06 2.06-.94-2.06-.94L8.5 2.5l-.94 2.06-2.06.94zm10 10l.94 2.06.94-2.06 2.06-.94-2.06-.94-.94-2.06-.94 2.06-2.06.94z\"/><path d=\"M17.41 7.96l-1.37-1.37c-.4-.4-.92-.59-1.43-.59-.52 0-1.04.2-1.43.59L10.3 9.45l-7.72 7.72c-.78.78-.78 2.05 0 2.83L4 21.41c.39.39.9.59 1.41.59.51 0 1.02-.2 1.41-.59l7.78-7.78 2.81-2.81c.8-.78.8-2.07 0-2.86zM5.41 20L4 18.59l7.72-7.72 1.47 1.35L5.41 20z\"/>\n",
              "  </svg>\n",
              "      </button>\n",
              "      \n",
              "  <style>\n",
              "    .colab-df-container {\n",
              "      display:flex;\n",
              "      flex-wrap:wrap;\n",
              "      gap: 12px;\n",
              "    }\n",
              "\n",
              "    .colab-df-convert {\n",
              "      background-color: #E8F0FE;\n",
              "      border: none;\n",
              "      border-radius: 50%;\n",
              "      cursor: pointer;\n",
              "      display: none;\n",
              "      fill: #1967D2;\n",
              "      height: 32px;\n",
              "      padding: 0 0 0 0;\n",
              "      width: 32px;\n",
              "    }\n",
              "\n",
              "    .colab-df-convert:hover {\n",
              "      background-color: #E2EBFA;\n",
              "      box-shadow: 0px 1px 2px rgba(60, 64, 67, 0.3), 0px 1px 3px 1px rgba(60, 64, 67, 0.15);\n",
              "      fill: #174EA6;\n",
              "    }\n",
              "\n",
              "    [theme=dark] .colab-df-convert {\n",
              "      background-color: #3B4455;\n",
              "      fill: #D2E3FC;\n",
              "    }\n",
              "\n",
              "    [theme=dark] .colab-df-convert:hover {\n",
              "      background-color: #434B5C;\n",
              "      box-shadow: 0px 1px 3px 1px rgba(0, 0, 0, 0.15);\n",
              "      filter: drop-shadow(0px 1px 2px rgba(0, 0, 0, 0.3));\n",
              "      fill: #FFFFFF;\n",
              "    }\n",
              "  </style>\n",
              "\n",
              "      <script>\n",
              "        const buttonEl =\n",
              "          document.querySelector('#df-fc66afd2-885d-4735-b388-ed2fa51b189c button.colab-df-convert');\n",
              "        buttonEl.style.display =\n",
              "          google.colab.kernel.accessAllowed ? 'block' : 'none';\n",
              "\n",
              "        async function convertToInteractive(key) {\n",
              "          const element = document.querySelector('#df-fc66afd2-885d-4735-b388-ed2fa51b189c');\n",
              "          const dataTable =\n",
              "            await google.colab.kernel.invokeFunction('convertToInteractive',\n",
              "                                                     [key], {});\n",
              "          if (!dataTable) return;\n",
              "\n",
              "          const docLinkHtml = 'Like what you see? Visit the ' +\n",
              "            '<a target=\"_blank\" href=https://colab.research.google.com/notebooks/data_table.ipynb>data table notebook</a>'\n",
              "            + ' to learn more about interactive tables.';\n",
              "          element.innerHTML = '';\n",
              "          dataTable['output_type'] = 'display_data';\n",
              "          await google.colab.output.renderOutput(dataTable, element);\n",
              "          const docLink = document.createElement('div');\n",
              "          docLink.innerHTML = docLinkHtml;\n",
              "          element.appendChild(docLink);\n",
              "        }\n",
              "      </script>\n",
              "    </div>\n",
              "  </div>\n",
              "  "
            ]
          },
          "metadata": {},
          "execution_count": 3
        }
      ]
    },
    {
      "cell_type": "code",
      "execution_count": 4,
      "metadata": {
        "id": "GyS58upCOZCs"
      },
      "outputs": [],
      "source": [
        "import pandas as pd\n",
        "import numpy as np\n",
        "import os\n",
        "import matplotlib.pyplot as plt\n",
        "import seaborn as sn\n",
        "import pickle\n",
        "\n",
        "%matplotlib inline\n",
        "\n",
        "#Import module to split the datasets\n",
        "from sklearn.model_selection import train_test_split\n",
        "# Import modules to evaluate the metrics\n",
        "from sklearn import metrics\n",
        "from sklearn.metrics import confusion_matrix,accuracy_score,roc_auc_score,roc_curve,auc"
      ]
    },
    {
      "cell_type": "code",
      "execution_count": 5,
      "metadata": {
        "id": "XZBwAV8z-B2H"
      },
      "outputs": [],
      "source": [
        "y_train = data[\"label\"]\n",
        "X_train = data[\"tweet\"]\n",
        "y_test = test[\"label\"]\n",
        "X_test = test[\"tweet\"]"
      ]
    },
    {
      "cell_type": "code",
      "execution_count": 14,
      "metadata": {
        "id": "OHJI-InJTvHL",
        "colab": {
          "base_uri": "https://localhost:8080/"
        },
        "outputId": "967fbc15-8c2e-4ffd-928e-c165d19c1ad3"
      },
      "outputs": [
        {
          "output_type": "execute_result",
          "data": {
            "text/plain": [
              "(400001, 100)"
            ]
          },
          "metadata": {},
          "execution_count": 14
        }
      ],
      "source": [
        "# We just need to run this code once, the function glove2word2vec saves the Glove embeddings in the word2vec format \n",
        "# that will be loaded in the next section\n",
        "from gensim.scripts.glove2word2vec import glove2word2vec\n",
        "\n",
        "#glove_input_file = glove_filename\n",
        "word2vec_output_file = 'glove.twitter.27B.100d.txt.word2vec'\n",
        "glove2word2vec(\"/content/drive/MyDrive/Thesis/Data/Embedding files/glove.6B.100d.txt\", word2vec_output_file)"
      ]
    },
    {
      "cell_type": "code",
      "execution_count": 15,
      "metadata": {
        "id": "MVybZAFIX7xK"
      },
      "outputs": [],
      "source": [
        "from gensim.models import KeyedVectors\n",
        "# load the Stanford GloVe model\n",
        "model = KeyedVectors.load_word2vec_format(word2vec_output_file, binary=False)"
      ]
    },
    {
      "cell_type": "markdown",
      "metadata": {
        "id": "43MvrGQ4lHps"
      },
      "source": [
        "**Vectorization**"
      ]
    },
    {
      "cell_type": "code",
      "execution_count": 16,
      "metadata": {
        "id": "HmlwDbyNY4bB"
      },
      "outputs": [],
      "source": [
        "class Word2VecVectorizer:\n",
        "  def __init__(self, model):\n",
        "    print(\"Loading in word vectors...\")\n",
        "    self.word_vectors = model\n",
        "    print(\"Finished loading in word vectors\")\n",
        "\n",
        "  def fit(self, data):\n",
        "    pass\n",
        "\n",
        "  def transform(self, data):\n",
        "    # determine the dimensionality of vectors\n",
        "    v = self.word_vectors.get_vector('virus')\n",
        "    self.D = v.shape[0]\n",
        "\n",
        "    X = np.zeros((len(data), self.D))\n",
        "    n = 0\n",
        "    emptycount = 0\n",
        "    for sentence in data:\n",
        "      tokens = sentence.split()\n",
        "      vecs = []\n",
        "      m = 0\n",
        "      for word in tokens:\n",
        "        try:\n",
        "          # throws KeyError if word not found\n",
        "          vec = self.word_vectors.get_vector(word)\n",
        "          vecs.append(vec)\n",
        "          m += 1\n",
        "        except KeyError:\n",
        "          pass\n",
        "      if len(vecs) > 0:\n",
        "        vecs = np.array(vecs)\n",
        "        X[n] = vecs.mean(axis=0)\n",
        "      else:\n",
        "        emptycount += 1\n",
        "      n += 1\n",
        "    print(\"Numer of samples with no words found: %s / %s\" % (emptycount, len(data)))\n",
        "    return X\n",
        "\n",
        "\n",
        "  def fit_transform(self, data):\n",
        "    self.fit(data)\n",
        "    return self.transform(data)"
      ]
    },
    {
      "cell_type": "code",
      "execution_count": 17,
      "metadata": {
        "colab": {
          "base_uri": "https://localhost:8080/"
        },
        "id": "BFbi9p7RY7zi",
        "outputId": "f3ac2c3c-3564-4c6a-fa55-7eed4e3dfcd7"
      },
      "outputs": [
        {
          "output_type": "stream",
          "name": "stdout",
          "text": [
            "Loading in word vectors...\n",
            "Finished loading in word vectors\n",
            "Numer of samples with no words found: 1 / 8558\n",
            "Numer of samples with no words found: 0 / 2139\n"
          ]
        }
      ],
      "source": [
        "import numpy as np\n",
        "# Set a word vectorizer\n",
        "vectorizer = Word2VecVectorizer(model)\n",
        "# Get the sentence embeddings for the train dataset\n",
        "Xtrain = vectorizer.fit_transform(X_train)\n",
        "Ytrain = y_train\n",
        "# Get the sentence embeddings for the test dataset\n",
        "Xtest = vectorizer.transform(X_test)\n",
        "Ytest = y_test"
      ]
    },
    {
      "cell_type": "markdown",
      "source": [
        "oversampling"
      ],
      "metadata": {
        "id": "qC_LvBtNnYCe"
      }
    },
    {
      "cell_type": "code",
      "source": [
        "from imblearn.over_sampling import SMOTE\n",
        "smote = SMOTE()\n",
        "Xtrain, Ytrain = smote.fit_resample(Xtrain,Ytrain)"
      ],
      "metadata": {
        "id": "9_dZmmdinIv5"
      },
      "execution_count": 18,
      "outputs": []
    },
    {
      "cell_type": "markdown",
      "metadata": {
        "id": "doofPRDlZX2X"
      },
      "source": [
        "For evaluation metrics: "
      ]
    },
    {
      "cell_type": "code",
      "execution_count": 19,
      "metadata": {
        "id": "npj_KAdGZSh8"
      },
      "outputs": [],
      "source": [
        "# Create the confussion matrix\n",
        "def plot_confussion_matrix(y_test, y_pred):\n",
        "    ''' Plot the confussion matrix for the target labels and predictions '''\n",
        "    cm = confusion_matrix(y_test, y_pred)\n",
        "\n",
        "    # Create a dataframe with the confussion matrix values\n",
        "    df_cm = pd.DataFrame(cm, range(cm.shape[0]),\n",
        "                  range(cm.shape[1]))\n",
        "    #plt.figure(figsize = (10,7))\n",
        "    # Plot the confussion matrix\n",
        "    sn.set(font_scale=1.4) #for label size\n",
        "    sn.heatmap(df_cm, annot=True,fmt='.0f',annot_kws={\"size\": 10})# font size\n",
        "    plt.show()\n",
        "    \n",
        "# ROC Curve\n",
        "# plot no skill\n",
        "# Calculate the points in the ROC curve\n",
        "def plot_roc_curve(y_test, y_pred):\n",
        "    ''' Plot the ROC curve for the target labels and predictions'''\n",
        "    fpr, tpr, thresholds = roc_curve(y_test, y_pred, pos_label=1)\n",
        "    roc_auc= auc(fpr,tpr)\n",
        "\n",
        "    plt.title('Receiver Operating Characteristic')\n",
        "    plt.plot(fpr, tpr, 'b', label = 'AUC = %0.2f' % roc_auc)\n",
        "    plt.legend(loc = 'lower right')\n",
        "    plt.plot([0, 1], [0, 1],'r--')\n",
        "    plt.xlim([0, 1])\n",
        "    plt.ylim([0, 1])\n",
        "    plt.ylabel('True Positive Rate')\n",
        "    plt.xlabel('False Positive Rate')\n",
        "    plt.show()"
      ]
    },
    {
      "cell_type": "markdown",
      "source": [
        "**The SVM Model**"
      ],
      "metadata": {
        "id": "mfnCjBN3VX4W"
      }
    },
    {
      "cell_type": "code",
      "source": [
        "from sklearn.svm import SVC\n",
        "SVM = SVC()\n",
        "SVM.fit(Xtrain, Ytrain)\n"
      ],
      "metadata": {
        "id": "dWBZ4oXzaeOW",
        "colab": {
          "base_uri": "https://localhost:8080/"
        },
        "outputId": "fc4b9f73-43ff-43c1-d847-cc1ccbeda6f7"
      },
      "execution_count": 20,
      "outputs": [
        {
          "output_type": "execute_result",
          "data": {
            "text/plain": [
              "SVC()"
            ]
          },
          "metadata": {},
          "execution_count": 20
        }
      ]
    },
    {
      "cell_type": "code",
      "source": [
        "y_pred = SVM.predict(Xtest)\n",
        "\n",
        "print(metrics.classification_report(Ytest, y_pred,  digits=5))\n",
        "print(confusion_matrix(Ytest, y_pred))"
      ],
      "metadata": {
        "colab": {
          "base_uri": "https://localhost:8080/"
        },
        "id": "eAV6ss9faKLG",
        "outputId": "43e699f1-bd76-400f-ce84-57e4f24fb9ab"
      },
      "execution_count": 21,
      "outputs": [
        {
          "output_type": "stream",
          "name": "stdout",
          "text": [
            "              precision    recall  f1-score   support\n",
            "\n",
            "           0    0.88655   0.86595   0.87613      1119\n",
            "           1    0.85660   0.87843   0.86738      1020\n",
            "\n",
            "    accuracy                        0.87190      2139\n",
            "   macro avg    0.87157   0.87219   0.87175      2139\n",
            "weighted avg    0.87227   0.87190   0.87196      2139\n",
            "\n",
            "[[969 150]\n",
            " [124 896]]\n"
          ]
        }
      ]
    }
  ]
}