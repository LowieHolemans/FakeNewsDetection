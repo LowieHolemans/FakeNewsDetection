{
  "nbformat": 4,
  "nbformat_minor": 0,
  "metadata": {
    "colab": {
      "name": "SVM_TF_IDF.ipynb",
      "provenance": []
    },
    "kernelspec": {
      "name": "python3",
      "display_name": "Python 3"
    },
    "language_info": {
      "name": "python"
    }
  },
  "cells": [
    {
      "cell_type": "code",
      "execution_count": 1,
      "metadata": {
        "colab": {
          "base_uri": "https://localhost:8080/"
        },
        "id": "r9pvuO4x2B4R",
        "outputId": "7b889201-d938-4ef2-a97f-2cc341f8348c"
      },
      "outputs": [
        {
          "output_type": "stream",
          "name": "stdout",
          "text": [
            "Mounted at /content/drive\n"
          ]
        }
      ],
      "source": [
        "from google.colab import drive\n",
        "drive.mount('/content/drive')"
      ]
    },
    {
      "cell_type": "code",
      "execution_count": 2,
      "metadata": {
        "id": "ezk4crhH29IH"
      },
      "outputs": [],
      "source": [
        "import pandas as pd \n",
        "data = pd.read_csv('/content/drive/MyDrive/Thesis/Data/Filled Datasets/Second dataset (Kaggle)/Preprocessed/combined_train_val.csv',header=0)\n",
        "test = pd.read_csv('/content/drive/MyDrive/Thesis/Data/Filled Datasets/Second dataset (Kaggle)/Preprocessed/Constraint_Test_fullprep_with_labels.csv')"
      ]
    },
    {
      "cell_type": "code",
      "source": [
        "test"
      ],
      "metadata": {
        "colab": {
          "base_uri": "https://localhost:8080/",
          "height": 424
        },
        "id": "a2oxtdY7zL3S",
        "outputId": "4fbe06e9-8c81-4179-8cc5-117bbab62df8"
      },
      "execution_count": 3,
      "outputs": [
        {
          "output_type": "execute_result",
          "data": {
            "text/plain": [
              "        id                                              tweet  label\n",
              "0        1  daily update published states reported k tests...      0\n",
              "1        2                                 alfalfa cure covid      1\n",
              "2        3      president trump asked would catch coronavirus      1\n",
              "3        4  states reported deaths still seeing solid nati...      0\n",
              "4        5  sixth time global health emergency declared in...      0\n",
              "...    ...                                                ...    ...\n",
              "2134  2136  state wise details total confirmed cases till ...      0\n",
              "2135  2137  tonight midnight onwards disaster management a...      1\n",
              "2136  2138  new cases plateau enough yo lagos rivers ft fa...      0\n",
              "2137  2139  one stop shop resources section communicating ...      0\n",
              "2138  2140  half pregnant women recently admitted uk hospi...      0\n",
              "\n",
              "[2139 rows x 3 columns]"
            ],
            "text/html": [
              "\n",
              "  <div id=\"df-f5853c70-ec74-423c-91f7-b3dd3ac06ac9\">\n",
              "    <div class=\"colab-df-container\">\n",
              "      <div>\n",
              "<style scoped>\n",
              "    .dataframe tbody tr th:only-of-type {\n",
              "        vertical-align: middle;\n",
              "    }\n",
              "\n",
              "    .dataframe tbody tr th {\n",
              "        vertical-align: top;\n",
              "    }\n",
              "\n",
              "    .dataframe thead th {\n",
              "        text-align: right;\n",
              "    }\n",
              "</style>\n",
              "<table border=\"1\" class=\"dataframe\">\n",
              "  <thead>\n",
              "    <tr style=\"text-align: right;\">\n",
              "      <th></th>\n",
              "      <th>id</th>\n",
              "      <th>tweet</th>\n",
              "      <th>label</th>\n",
              "    </tr>\n",
              "  </thead>\n",
              "  <tbody>\n",
              "    <tr>\n",
              "      <th>0</th>\n",
              "      <td>1</td>\n",
              "      <td>daily update published states reported k tests...</td>\n",
              "      <td>0</td>\n",
              "    </tr>\n",
              "    <tr>\n",
              "      <th>1</th>\n",
              "      <td>2</td>\n",
              "      <td>alfalfa cure covid</td>\n",
              "      <td>1</td>\n",
              "    </tr>\n",
              "    <tr>\n",
              "      <th>2</th>\n",
              "      <td>3</td>\n",
              "      <td>president trump asked would catch coronavirus</td>\n",
              "      <td>1</td>\n",
              "    </tr>\n",
              "    <tr>\n",
              "      <th>3</th>\n",
              "      <td>4</td>\n",
              "      <td>states reported deaths still seeing solid nati...</td>\n",
              "      <td>0</td>\n",
              "    </tr>\n",
              "    <tr>\n",
              "      <th>4</th>\n",
              "      <td>5</td>\n",
              "      <td>sixth time global health emergency declared in...</td>\n",
              "      <td>0</td>\n",
              "    </tr>\n",
              "    <tr>\n",
              "      <th>...</th>\n",
              "      <td>...</td>\n",
              "      <td>...</td>\n",
              "      <td>...</td>\n",
              "    </tr>\n",
              "    <tr>\n",
              "      <th>2134</th>\n",
              "      <td>2136</td>\n",
              "      <td>state wise details total confirmed cases till ...</td>\n",
              "      <td>0</td>\n",
              "    </tr>\n",
              "    <tr>\n",
              "      <th>2135</th>\n",
              "      <td>2137</td>\n",
              "      <td>tonight midnight onwards disaster management a...</td>\n",
              "      <td>1</td>\n",
              "    </tr>\n",
              "    <tr>\n",
              "      <th>2136</th>\n",
              "      <td>2138</td>\n",
              "      <td>new cases plateau enough yo lagos rivers ft fa...</td>\n",
              "      <td>0</td>\n",
              "    </tr>\n",
              "    <tr>\n",
              "      <th>2137</th>\n",
              "      <td>2139</td>\n",
              "      <td>one stop shop resources section communicating ...</td>\n",
              "      <td>0</td>\n",
              "    </tr>\n",
              "    <tr>\n",
              "      <th>2138</th>\n",
              "      <td>2140</td>\n",
              "      <td>half pregnant women recently admitted uk hospi...</td>\n",
              "      <td>0</td>\n",
              "    </tr>\n",
              "  </tbody>\n",
              "</table>\n",
              "<p>2139 rows × 3 columns</p>\n",
              "</div>\n",
              "      <button class=\"colab-df-convert\" onclick=\"convertToInteractive('df-f5853c70-ec74-423c-91f7-b3dd3ac06ac9')\"\n",
              "              title=\"Convert this dataframe to an interactive table.\"\n",
              "              style=\"display:none;\">\n",
              "        \n",
              "  <svg xmlns=\"http://www.w3.org/2000/svg\" height=\"24px\"viewBox=\"0 0 24 24\"\n",
              "       width=\"24px\">\n",
              "    <path d=\"M0 0h24v24H0V0z\" fill=\"none\"/>\n",
              "    <path d=\"M18.56 5.44l.94 2.06.94-2.06 2.06-.94-2.06-.94-.94-2.06-.94 2.06-2.06.94zm-11 1L8.5 8.5l.94-2.06 2.06-.94-2.06-.94L8.5 2.5l-.94 2.06-2.06.94zm10 10l.94 2.06.94-2.06 2.06-.94-2.06-.94-.94-2.06-.94 2.06-2.06.94z\"/><path d=\"M17.41 7.96l-1.37-1.37c-.4-.4-.92-.59-1.43-.59-.52 0-1.04.2-1.43.59L10.3 9.45l-7.72 7.72c-.78.78-.78 2.05 0 2.83L4 21.41c.39.39.9.59 1.41.59.51 0 1.02-.2 1.41-.59l7.78-7.78 2.81-2.81c.8-.78.8-2.07 0-2.86zM5.41 20L4 18.59l7.72-7.72 1.47 1.35L5.41 20z\"/>\n",
              "  </svg>\n",
              "      </button>\n",
              "      \n",
              "  <style>\n",
              "    .colab-df-container {\n",
              "      display:flex;\n",
              "      flex-wrap:wrap;\n",
              "      gap: 12px;\n",
              "    }\n",
              "\n",
              "    .colab-df-convert {\n",
              "      background-color: #E8F0FE;\n",
              "      border: none;\n",
              "      border-radius: 50%;\n",
              "      cursor: pointer;\n",
              "      display: none;\n",
              "      fill: #1967D2;\n",
              "      height: 32px;\n",
              "      padding: 0 0 0 0;\n",
              "      width: 32px;\n",
              "    }\n",
              "\n",
              "    .colab-df-convert:hover {\n",
              "      background-color: #E2EBFA;\n",
              "      box-shadow: 0px 1px 2px rgba(60, 64, 67, 0.3), 0px 1px 3px 1px rgba(60, 64, 67, 0.15);\n",
              "      fill: #174EA6;\n",
              "    }\n",
              "\n",
              "    [theme=dark] .colab-df-convert {\n",
              "      background-color: #3B4455;\n",
              "      fill: #D2E3FC;\n",
              "    }\n",
              "\n",
              "    [theme=dark] .colab-df-convert:hover {\n",
              "      background-color: #434B5C;\n",
              "      box-shadow: 0px 1px 3px 1px rgba(0, 0, 0, 0.15);\n",
              "      filter: drop-shadow(0px 1px 2px rgba(0, 0, 0, 0.3));\n",
              "      fill: #FFFFFF;\n",
              "    }\n",
              "  </style>\n",
              "\n",
              "      <script>\n",
              "        const buttonEl =\n",
              "          document.querySelector('#df-f5853c70-ec74-423c-91f7-b3dd3ac06ac9 button.colab-df-convert');\n",
              "        buttonEl.style.display =\n",
              "          google.colab.kernel.accessAllowed ? 'block' : 'none';\n",
              "\n",
              "        async function convertToInteractive(key) {\n",
              "          const element = document.querySelector('#df-f5853c70-ec74-423c-91f7-b3dd3ac06ac9');\n",
              "          const dataTable =\n",
              "            await google.colab.kernel.invokeFunction('convertToInteractive',\n",
              "                                                     [key], {});\n",
              "          if (!dataTable) return;\n",
              "\n",
              "          const docLinkHtml = 'Like what you see? Visit the ' +\n",
              "            '<a target=\"_blank\" href=https://colab.research.google.com/notebooks/data_table.ipynb>data table notebook</a>'\n",
              "            + ' to learn more about interactive tables.';\n",
              "          element.innerHTML = '';\n",
              "          dataTable['output_type'] = 'display_data';\n",
              "          await google.colab.output.renderOutput(dataTable, element);\n",
              "          const docLink = document.createElement('div');\n",
              "          docLink.innerHTML = docLinkHtml;\n",
              "          element.appendChild(docLink);\n",
              "        }\n",
              "      </script>\n",
              "    </div>\n",
              "  </div>\n",
              "  "
            ]
          },
          "metadata": {},
          "execution_count": 3
        }
      ]
    },
    {
      "cell_type": "code",
      "execution_count": 4,
      "metadata": {
        "id": "GyS58upCOZCs"
      },
      "outputs": [],
      "source": [
        "import pandas as pd\n",
        "import numpy as np\n",
        "import os\n",
        "import matplotlib.pyplot as plt\n",
        "import seaborn as sn\n",
        "import pickle\n",
        "\n",
        "%matplotlib inline\n",
        "\n",
        "#Import module to split the datasets\n",
        "from sklearn.model_selection import train_test_split\n",
        "# Import modules to evaluate the metrics\n",
        "from sklearn import metrics\n",
        "from sklearn.metrics import confusion_matrix,accuracy_score,roc_auc_score,roc_curve,auc"
      ]
    },
    {
      "cell_type": "code",
      "execution_count": 5,
      "metadata": {
        "id": "XZBwAV8z-B2H"
      },
      "outputs": [],
      "source": [
        "y_train = data[\"label\"]\n",
        "X_train = data[\"tweet\"]\n",
        "y_test = test[\"label\"]\n",
        "X_test = test[\"tweet\"]"
      ]
    },
    {
      "cell_type": "markdown",
      "metadata": {
        "id": "doofPRDlZX2X"
      },
      "source": [
        "For evaluation metrics: "
      ]
    },
    {
      "cell_type": "code",
      "execution_count": 6,
      "metadata": {
        "id": "npj_KAdGZSh8"
      },
      "outputs": [],
      "source": [
        "# Create the confussion matrix\n",
        "def plot_confussion_matrix(y_test, y_pred):\n",
        "    ''' Plot the confussion matrix for the target labels and predictions '''\n",
        "    cm = confusion_matrix(y_test, y_pred)\n",
        "\n",
        "    # Create a dataframe with the confussion matrix values\n",
        "    df_cm = pd.DataFrame(cm, range(cm.shape[0]),\n",
        "                  range(cm.shape[1]))\n",
        "    #plt.figure(figsize = (10,7))\n",
        "    # Plot the confussion matrix\n",
        "    sn.set(font_scale=1.4) #for label size\n",
        "    sn.heatmap(df_cm, annot=True,fmt='.0f',annot_kws={\"size\": 10})# font size\n",
        "    plt.show()\n",
        "    \n",
        "# ROC Curve\n",
        "# plot no skill\n",
        "# Calculate the points in the ROC curve\n",
        "def plot_roc_curve(y_test, y_pred):\n",
        "    ''' Plot the ROC curve for the target labels and predictions'''\n",
        "    fpr, tpr, thresholds = roc_curve(y_test, y_pred, pos_label=1)\n",
        "    roc_auc= auc(fpr,tpr)\n",
        "\n",
        "    plt.title('Receiver Operating Characteristic')\n",
        "    plt.plot(fpr, tpr, 'b', label = 'AUC = %0.2f' % roc_auc)\n",
        "    plt.legend(loc = 'lower right')\n",
        "    plt.plot([0, 1], [0, 1],'r--')\n",
        "    plt.xlim([0, 1])\n",
        "    plt.ylim([0, 1])\n",
        "    plt.ylabel('True Positive Rate')\n",
        "    plt.xlabel('False Positive Rate')\n",
        "    plt.show()"
      ]
    },
    {
      "cell_type": "code",
      "source": [
        "from imblearn.over_sampling import SMOTE"
      ],
      "metadata": {
        "id": "UY3kzXORq_S3"
      },
      "execution_count": 8,
      "outputs": []
    },
    {
      "cell_type": "markdown",
      "metadata": {
        "id": "bUXvM_VSZbog"
      },
      "source": [
        "**THE SVM MODEL:**\n",
        "\n"
      ]
    },
    {
      "cell_type": "markdown",
      "source": [
        "With TF unigram:"
      ],
      "metadata": {
        "id": "Pufru-rALKHq"
      }
    },
    {
      "cell_type": "code",
      "source": [
        "from sklearn.svm import SVC\n",
        "SVM_tf = SVC()\n",
        "\n",
        "from sklearn.feature_extraction.text import CountVectorizer\n",
        "\n",
        "tf = CountVectorizer()\n",
        "\n",
        "X_train_tf = tf.fit_transform(X_train)\n",
        "X_test_tf = tf.transform(X_test)\n",
        "\n",
        "smote = SMOTE()\n",
        "X_train_tf, y_train_tf = smote.fit_resample(X_train_tf,y_train)\n",
        "\n",
        "SVM_tf.fit(X_train_tf, y_train_tf)\n",
        "\n",
        "y_pred = SVM_tf.predict(X_test_tf)\n",
        "\n",
        "print(metrics.classification_report(y_test, y_pred,  digits=5))\n",
        "print(confusion_matrix(y_test, y_pred))"
      ],
      "metadata": {
        "colab": {
          "base_uri": "https://localhost:8080/"
        },
        "id": "vlM1iInQLLEq",
        "outputId": "70ddbd6d-16dd-4041-9548-26af38618e4f"
      },
      "execution_count": 12,
      "outputs": [
        {
          "output_type": "stream",
          "name": "stdout",
          "text": [
            "              precision    recall  f1-score   support\n",
            "\n",
            "           0    0.93814   0.89455   0.91583      1119\n",
            "           1    0.88993   0.93529   0.91205      1020\n",
            "\n",
            "    accuracy                        0.91398      2139\n",
            "   macro avg    0.91403   0.91492   0.91394      2139\n",
            "weighted avg    0.91515   0.91398   0.91402      2139\n",
            "\n",
            "[[1001  118]\n",
            " [  66  954]]\n"
          ]
        }
      ]
    },
    {
      "cell_type": "markdown",
      "source": [
        "With TF bigram:"
      ],
      "metadata": {
        "id": "_J0T21VyQoQ7"
      }
    },
    {
      "cell_type": "code",
      "source": [
        "from sklearn.svm import SVC\n",
        "SVM_tf_bi = SVC()\n",
        "\n",
        "from sklearn.feature_extraction.text import CountVectorizer\n",
        "\n",
        "tf_bi = CountVectorizer(ngram_range = (2,2))\n",
        "\n",
        "X_train_tf_bi = tf_bi.fit_transform(X_train)\n",
        "X_test_tf_bi = tf_bi.transform(X_test)\n",
        "\n",
        "smote = SMOTE()\n",
        "X_train_tf_bi, y_train_tf_bi = smote.fit_resample(X_train_tf_bi,y_train)\n",
        "\n",
        "SVM_tf_bi.fit(X_train_tf_bi, y_train_tf_bi)\n",
        "\n",
        "y_pred = SVM_tf_bi.predict(X_test_tf_bi)\n",
        "\n",
        "print(metrics.classification_report(y_test, y_pred,  digits=5))\n",
        "print(confusion_matrix(y_test, y_pred))"
      ],
      "metadata": {
        "colab": {
          "base_uri": "https://localhost:8080/"
        },
        "id": "rN6j21EiQmDh",
        "outputId": "90b2e653-beb6-4ca3-fa22-5a83f9981ff8"
      },
      "execution_count": null,
      "outputs": [
        {
          "output_type": "stream",
          "name": "stdout",
          "text": [
            "              precision    recall  f1-score   support\n",
            "\n",
            "           0    0.98292   0.56568   0.71809      1119\n",
            "           1    0.67492   0.98922   0.80239      1020\n",
            "\n",
            "    accuracy                        0.76765      2139\n",
            "   macro avg    0.82892   0.77745   0.76024      2139\n",
            "weighted avg    0.83605   0.76765   0.75829      2139\n",
            "\n",
            "[[ 633  486]\n",
            " [  11 1009]]\n"
          ]
        }
      ]
    },
    {
      "cell_type": "markdown",
      "source": [
        "With TFIDF unigram:"
      ],
      "metadata": {
        "id": "PnMwYsICLLWN"
      }
    },
    {
      "cell_type": "code",
      "source": [
        "from sklearn.svm import SVC\n",
        "SVM_tfidf = SVC()\n",
        "\n",
        "from sklearn.feature_extraction.text import TfidfVectorizer\n",
        "\n",
        "tfidf = TfidfVectorizer()\n",
        "\n",
        "X_train_tfidf = tfidf.fit_transform(X_train)\n",
        "X_test_tfidf = tfidf.transform(X_test)\n",
        "\n",
        "smote = SMOTE()\n",
        "X_train_tfidf, y_train_tfidf = smote.fit_resample(X_train_tfidf,y_train)\n",
        "\n",
        "SVM_tfidf.fit(X_train_tfidf, y_train_tfidf)\n",
        "\n",
        "y_pred = SVM_tfidf.predict(X_test_tfidf)\n",
        "\n",
        "print(metrics.classification_report(y_test, y_pred,  digits=5))\n",
        "print(confusion_matrix(y_test, y_pred))"
      ],
      "metadata": {
        "colab": {
          "base_uri": "https://localhost:8080/"
        },
        "id": "iRhtMWa7LL8V",
        "outputId": "d4daf99e-1c59-45ba-82a5-1099d2bde8ec"
      },
      "execution_count": null,
      "outputs": [
        {
          "output_type": "stream",
          "name": "stdout",
          "text": [
            "              precision    recall  f1-score   support\n",
            "\n",
            "           0    0.94800   0.91242   0.92987      1119\n",
            "           1    0.90772   0.94510   0.92603      1020\n",
            "\n",
            "    accuracy                        0.92800      2139\n",
            "   macro avg    0.92786   0.92876   0.92795      2139\n",
            "weighted avg    0.92879   0.92800   0.92804      2139\n",
            "\n",
            "[[1021   98]\n",
            " [  56  964]]\n"
          ]
        }
      ]
    },
    {
      "cell_type": "markdown",
      "source": [
        "With TFIDF bigram:"
      ],
      "metadata": {
        "id": "2Ph6wnXaQr98"
      }
    },
    {
      "cell_type": "code",
      "source": [
        "from sklearn.svm import SVC\n",
        "SVM_tfidf_bi = SVC()\n",
        "\n",
        "from sklearn.feature_extraction.text import TfidfVectorizer\n",
        "\n",
        "tfidf_bi = TfidfVectorizer(ngram_range = (2,2))\n",
        "\n",
        "X_train_tfidf_bi = tfidf_bi.fit_transform(X_train)\n",
        "X_test_tfidf_bi = tfidf_bi.transform(X_test)\n",
        "\n",
        "smote = SMOTE()\n",
        "X_train_tfidf_bi, y_train_tfidf_bi = smote.fit_resample(X_train_tfidf_bi,y_train)\n",
        "\n",
        "SVM_tfidf_bi.fit(X_train_tfidf_bi, y_train_tfidf_bi)\n",
        "\n",
        "y_pred = SVM_tfidf_bi.predict(X_test_tfidf_bi)\n",
        "\n",
        "print(metrics.classification_report(y_test, y_pred,  digits=5))\n",
        "print(confusion_matrix(y_test, y_pred))"
      ],
      "metadata": {
        "colab": {
          "base_uri": "https://localhost:8080/"
        },
        "id": "ggnzxNMgQtx4",
        "outputId": "4e79fd4e-b8ff-438d-85d9-699f53fec5e2"
      },
      "execution_count": null,
      "outputs": [
        {
          "output_type": "stream",
          "name": "stdout",
          "text": [
            "              precision    recall  f1-score   support\n",
            "\n",
            "           0    0.94559   0.82306   0.88008      1119\n",
            "           1    0.83004   0.94804   0.88513      1020\n",
            "\n",
            "    accuracy                        0.88266      2139\n",
            "   macro avg    0.88781   0.88555   0.88260      2139\n",
            "weighted avg    0.89049   0.88266   0.88248      2139\n",
            "\n",
            "[[921 198]\n",
            " [ 53 967]]\n"
          ]
        }
      ]
    },
    {
      "cell_type": "markdown",
      "source": [
        "**Now we try gridsearch on the optimal model = TFIDF unigram**"
      ],
      "metadata": {
        "id": "ca04FFG1qxWx"
      }
    },
    {
      "cell_type": "markdown",
      "source": [
        "Base model:"
      ],
      "metadata": {
        "id": "U6UVIJ3Nq4w7"
      }
    },
    {
      "cell_type": "code",
      "source": [
        "from sklearn.svm import SVC\n",
        "SVM_tfidf = SVC()\n",
        "\n",
        "from sklearn.feature_extraction.text import TfidfVectorizer\n",
        "\n",
        "tfidf = TfidfVectorizer()\n",
        "\n",
        "X_train_tfidf = tfidf.fit_transform(X_train)\n",
        "X_test_tfidf = tfidf.transform(X_test)\n",
        "\n",
        "smote = SMOTE()\n",
        "X_train_tfidf, y_train_tfidf = smote.fit_resample(X_train_tfidf,y_train)\n",
        "\n",
        "SVM_tfidf.fit(X_train_tfidf, y_train_tfidf)\n",
        "\n",
        "y_pred = SVM_tfidf.predict(X_test_tfidf)\n",
        "\n",
        "print(metrics.classification_report(y_test, y_pred,  digits=5))\n",
        "print(confusion_matrix(y_test, y_pred))"
      ],
      "metadata": {
        "colab": {
          "base_uri": "https://localhost:8080/"
        },
        "outputId": "30f93cb5-45f7-4d05-d494-2437eb9ba8fe",
        "id": "qW7miECRrTWH"
      },
      "execution_count": 13,
      "outputs": [
        {
          "output_type": "stream",
          "name": "stdout",
          "text": [
            "              precision    recall  f1-score   support\n",
            "\n",
            "           0    0.94537   0.91242   0.92860      1119\n",
            "           1    0.90746   0.94216   0.92448      1020\n",
            "\n",
            "    accuracy                        0.92660      2139\n",
            "   macro avg    0.92642   0.92729   0.92654      2139\n",
            "weighted avg    0.92729   0.92660   0.92664      2139\n",
            "\n",
            "[[1021   98]\n",
            " [  59  961]]\n"
          ]
        }
      ]
    },
    {
      "cell_type": "markdown",
      "source": [
        "Grid search:\n",
        "\n",
        "grid = {\n",
        "    'C': [0.1, 1, 10, 100, 1000],\n",
        "    'gamma': [1, 0.1, 0.01, 0.001, 0.0001]\n",
        "    }"
      ],
      "metadata": {
        "id": "518VyOzDtncY"
      }
    },
    {
      "cell_type": "code",
      "execution_count": null,
      "metadata": {
        "tags": [],
        "id": "fCkE_Lv-thfy",
        "outputId": "343be192-1a0e-4f4b-de0d-ec2b4a488a7d"
      },
      "outputs": [
        {
          "name": "stdout",
          "output_type": "stream",
          "text": [
            "Fitting 3 folds for each of 25 candidates, totalling 75 fits\n",
            "train score: 1.0\n",
            "test score: 0.9308087891538102\n",
            " Results from Grid Search\n",
            "\n",
            " The best estimator across ALL searched params:\n",
            " SVC(C=10, gamma=1)\n",
            "\n",
            " The best score across ALL searched params:\n",
            " 0.9308036319922612\n",
            "\n",
            " The best parameters across ALL searched params:\n",
            " {'C': 10, 'gamma': 1}\n"
          ]
        }
      ],
      "source": [
        "#this works, and output is written to file\n",
        "from sklearn.model_selection import GridSearchCV\n",
        "from sklearn.svm import SVC\n",
        "\n",
        "import sys\n",
        "import logging\n",
        "import uuid\n",
        "os.chdir(\"/content/drive/MyDrive/Thesis/Models/Replicated models/Simple models/SVM/\")\n",
        "so = open(\"data.log - SVM TFIDF GRID\" +str(uuid.uuid4()), 'w', 10)\n",
        "sys.stdout.echo = so\n",
        "sys.stderr.echo = so\n",
        "\n",
        "get_ipython().log.handlers[0].stream = so\n",
        "get_ipython().log.setLevel(logging.INFO)\n",
        "\n",
        "from sklearn.model_selection import GridSearchCV\n",
        "from sklearn.svm import SVC\n",
        "\n",
        "parameters = {\n",
        "    'C': [0.1, 1, 10, 100, 1000],\n",
        "    'gamma': [1, 0.1, 0.01, 0.001, 0.0001]\n",
        "    }\n",
        "\n",
        "SVM = GridSearchCV(SVC(kernel='rbf'), parameters, cv=3, n_jobs=-1,verbose = 2).fit(X_train_tfidf, y_train_tfidf)\n",
        "print(\"train score:\", SVM.score(X_train_tfidf, y_train_tfidf))\n",
        "print(\"test score:\", SVM.score(X_test_tfidf, y_test))\n",
        "print(\" Results from Grid Search\" )\n",
        "print(\"\\n The best estimator across ALL searched params:\\n\",SVM.best_estimator_)\n",
        "print(\"\\n The best score across ALL searched params:\\n\",SVM.best_score_)\n",
        "print(\"\\n The best parameters across ALL searched params:\\n\",SVM.best_params_)"
      ]
    },
    {
      "cell_type": "code",
      "execution_count": 15,
      "metadata": {
        "id": "swK5PiTFthf0"
      },
      "outputs": [],
      "source": [
        "from sklearn import svm\n",
        "\n",
        "SVM_optimal = svm.SVC(C=10, gamma = 1)"
      ]
    },
    {
      "cell_type": "code",
      "execution_count": 16,
      "metadata": {
        "id": "sc21-NTnthf1",
        "outputId": "afd99382-3c88-498b-8687-e2fc937b7e86",
        "colab": {
          "base_uri": "https://localhost:8080/"
        }
      },
      "outputs": [
        {
          "output_type": "execute_result",
          "data": {
            "text/plain": [
              "SVC(C=10, gamma=1)"
            ]
          },
          "metadata": {},
          "execution_count": 16
        }
      ],
      "source": [
        "SVM_optimal.fit(X_train_tfidf, y_train_tfidf)"
      ]
    },
    {
      "cell_type": "code",
      "source": [
        "y_pred = SVM_optimal.predict(X_test_tfidf)\n",
        "\n",
        "print(metrics.classification_report(y_test, y_pred,  digits=2))\n",
        "print(confusion_matrix(y_test, y_pred))"
      ],
      "metadata": {
        "colab": {
          "base_uri": "https://localhost:8080/"
        },
        "id": "zxZpFPCsvJMk",
        "outputId": "558024f4-5afc-4385-9a7a-679c41d807a3"
      },
      "execution_count": 18,
      "outputs": [
        {
          "output_type": "stream",
          "name": "stdout",
          "text": [
            "              precision    recall  f1-score   support\n",
            "\n",
            "           0       0.94      0.93      0.93      1119\n",
            "           1       0.92      0.94      0.93      1020\n",
            "\n",
            "    accuracy                           0.93      2139\n",
            "   macro avg       0.93      0.93      0.93      2139\n",
            "weighted avg       0.93      0.93      0.93      2139\n",
            "\n",
            "[[1036   83]\n",
            " [  65  955]]\n"
          ]
        }
      ]
    },
    {
      "cell_type": "markdown",
      "source": [
        "**Now we'll do the grid search again with TFIDF bigrams**"
      ],
      "metadata": {
        "id": "N5unwEv2vXVD"
      }
    },
    {
      "cell_type": "code",
      "source": [
        "tfidf_bi=TfidfVectorizer(ngram_range=(2,2))\n",
        "\n",
        "# transform and fit the training set with vectoriser\n",
        "X_train_tfidf_bi = tfidf_bi.fit_transform(X_train)\n",
        "# transform the test set with vectoriser\n",
        "X_test_tfidf_bi = tfidf_bi.transform(X_test)\n",
        "\n",
        "smote = SMOTE()\n",
        "X_train_tfidf_bi, y_train_tfidf_bi = smote.fit_resample(X_train_tfidf_bi,y_train)"
      ],
      "metadata": {
        "id": "oAEGiWOlvi9U"
      },
      "execution_count": 19,
      "outputs": []
    },
    {
      "cell_type": "code",
      "execution_count": null,
      "metadata": {
        "id": "r9bFhJ7TxZ6Q",
        "outputId": "c6ece742-2c2a-4239-f700-a0f20eb88330"
      },
      "outputs": [
        {
          "name": "stdout",
          "output_type": "stream",
          "text": [
            "Fitting 3 folds for each of 25 candidates, totalling 75 fits\n",
            "train score: 0.9997767857142857\n",
            "test score: 0.8966806919121084\n",
            " Results from Grid Search\n",
            "\n",
            " The best estimator across ALL searched params:\n",
            " SVC(C=100, gamma=0.1)\n",
            "\n",
            " The best score across ALL searched params:\n",
            " 0.8774554288349163\n",
            "\n",
            " The best parameters across ALL searched params:\n",
            " {'C': 100, 'gamma': 0.1}\n"
          ]
        }
      ],
      "source": [
        "#this works, and output is written to file\n",
        "from sklearn.model_selection import GridSearchCV\n",
        "from sklearn.svm import SVC\n",
        "\n",
        "import sys\n",
        "import logging\n",
        "import uuid\n",
        "os.chdir(\"/content/drive/MyDrive/Thesis/Models/Replicated models/Simple models/SVM/\")\n",
        "so = open(\"data.log - SVM TFIDF BIGRAM GRID\" +str(uuid.uuid4()), 'w', 10)\n",
        "sys.stdout.echo = so\n",
        "sys.stderr.echo = so\n",
        "\n",
        "get_ipython().log.handlers[0].stream = so\n",
        "get_ipython().log.setLevel(logging.INFO)\n",
        "\n",
        "from sklearn.model_selection import GridSearchCV\n",
        "from sklearn.svm import SVC\n",
        "\n",
        "parameters = {\n",
        "    'C': [0.1, 1, 10, 100, 1000],\n",
        "    'gamma': [1, 0.1, 0.01, 0.001, 0.0001]\n",
        "    }\n",
        "\n",
        "SVM = GridSearchCV(SVC(kernel='rbf'), parameters, cv=3, n_jobs=-1,verbose = 2).fit(X_train_tfidf_bi, y_train_tfidf_bi)\n",
        "print(\"train score:\", SVM.score(X_train_tfidf_bi, y_train_tfidf_bi))\n",
        "print(\"test score:\", SVM.score(X_test_tfidf_bi, y_test))\n",
        "print(\" Results from Grid Search\" )\n",
        "print(\"\\n The best estimator across ALL searched params:\\n\",SVM.best_estimator_)\n",
        "print(\"\\n The best score across ALL searched params:\\n\",SVM.best_score_)\n",
        "print(\"\\n The best parameters across ALL searched params:\\n\",SVM.best_params_)"
      ]
    },
    {
      "cell_type": "code",
      "execution_count": 20,
      "metadata": {
        "id": "C174Il5Rxp_0"
      },
      "outputs": [],
      "source": [
        "from sklearn import svm\n",
        "\n",
        "SVM_optimal_bi = svm.SVC(C=100, gamma = 0.1)"
      ]
    },
    {
      "cell_type": "code",
      "execution_count": 21,
      "metadata": {
        "outputId": "e868babb-b39d-4827-e142-2270b65f9d85",
        "colab": {
          "base_uri": "https://localhost:8080/"
        },
        "id": "IelncVSOxp_0"
      },
      "outputs": [
        {
          "output_type": "execute_result",
          "data": {
            "text/plain": [
              "SVC(C=100, gamma=0.1)"
            ]
          },
          "metadata": {},
          "execution_count": 21
        }
      ],
      "source": [
        "SVM_optimal_bi.fit(X_train_tfidf_bi, y_train_tfidf_bi)"
      ]
    },
    {
      "cell_type": "code",
      "source": [
        "y_pred = SVM_optimal_bi.predict(X_test_tfidf_bi)\n",
        "\n",
        "print(metrics.classification_report(y_test, y_pred,  digits=2))\n",
        "print(confusion_matrix(y_test, y_pred))"
      ],
      "metadata": {
        "colab": {
          "base_uri": "https://localhost:8080/"
        },
        "outputId": "9711e7d9-d9c4-4650-dfe1-07dbb1927429",
        "id": "dNP4D3Ncxp_1"
      },
      "execution_count": 22,
      "outputs": [
        {
          "output_type": "stream",
          "name": "stdout",
          "text": [
            "              precision    recall  f1-score   support\n",
            "\n",
            "           0       0.92      0.88      0.90      1119\n",
            "           1       0.87      0.92      0.89      1020\n",
            "\n",
            "    accuracy                           0.90      2139\n",
            "   macro avg       0.90      0.90      0.90      2139\n",
            "weighted avg       0.90      0.90      0.90      2139\n",
            "\n",
            "[[981 138]\n",
            " [ 83 937]]\n"
          ]
        }
      ]
    }
  ]
}