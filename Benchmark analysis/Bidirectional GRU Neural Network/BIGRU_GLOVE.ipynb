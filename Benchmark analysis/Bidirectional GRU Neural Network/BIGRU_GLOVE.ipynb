{
  "cells": [
    {
      "cell_type": "markdown",
      "source": [
        "Bigru. Need to run it in colab because GPU required rather than regular CPU\n",
        "\n",
        "source: https://www.kaggle.com/alber8295/bigru-w-attention-visualized-for-beginners\n",
        "\n",
        "\n",
        "The notebook is equivalent for both GloVe embeddings tried (standard and Twitter)\n"
      ],
      "metadata": {
        "id": "KqvtE-Oxy_CC"
      },
      "id": "KqvtE-Oxy_CC"
    },
    {
      "cell_type": "code",
      "source": [
        "from google.colab import drive\n",
        "drive.mount('/content/drive')"
      ],
      "metadata": {
        "colab": {
          "base_uri": "https://localhost:8080/"
        },
        "id": "XUbAhHuswZkC",
        "outputId": "6003ef96-3ed5-42f4-8931-2f61d227b6f9"
      },
      "id": "XUbAhHuswZkC",
      "execution_count": null,
      "outputs": [
        {
          "output_type": "stream",
          "name": "stdout",
          "text": [
            "Mounted at /content/drive\n"
          ]
        }
      ]
    },
    {
      "cell_type": "code",
      "execution_count": null,
      "metadata": {
        "id": "r2nYHbWSwTA3"
      },
      "outputs": [],
      "source": [
        "# Imports\n",
        "# Basic\n",
        "import numpy as np # linear algebra\n",
        "import pandas as pd # data processing, CSV file I/O (e.g. pd.read_csv)\n",
        "import os, random, math\n",
        "from sklearn.model_selection import train_test_split\n",
        "from sklearn import metrics\n",
        "\n",
        "# DL\n",
        "import tensorflow as tf\n",
        "import keras\n",
        "import keras.backend as K\n",
        "from keras.callbacks import Callback\n",
        "from keras.preprocessing.text import Tokenizer\n",
        "from keras.preprocessing.sequence import pad_sequences\n",
        "from keras import Model\n",
        "from keras.layers import Layer, Input, Embedding, Dropout, SpatialDropout1D, GlobalAveragePooling1D, Attention\n",
        "from keras.layers import GlobalMaxPooling1D, Bidirectional, GRU, CuDNNGRU, Activation, Dense\n",
        "from keras.layers import Dot, Reshape, TimeDistributed, concatenate, BatchNormalization\n",
        "from keras import initializers, regularizers, constraints\n",
        "from tensorflow.keras.optimizers import Adam, SGD, RMSprop\n",
        "\n",
        "\n",
        "# Visualization\n",
        "import matplotlib.pyplot as plt\n",
        "from IPython.core.display import display, HTML\n",
        "import seaborn as sns\n",
        "sns.set()"
      ],
      "id": "r2nYHbWSwTA3"
    },
    {
      "cell_type": "code",
      "execution_count": null,
      "metadata": {
        "id": "Pri_rJGhwTA_"
      },
      "outputs": [],
      "source": [
        "#Hyperparameters\n",
        "\n",
        "EMB_SIZE = 100\n",
        "MAX_FEATURES = 50000 # how many unique words to use (i.e num rows in embedding vector)\n",
        "MAX_LEN = 100 # Maximum length for texts\n",
        "EMBEDDING_FILE = \"/content/drive/MyDrive/Thesis/Data/Embedding files/glove.twitter.27B.100d.txt\""
      ],
      "id": "Pri_rJGhwTA_"
    },
    {
      "cell_type": "code",
      "execution_count": null,
      "metadata": {
        "id": "bVtCnxujwTBA"
      },
      "outputs": [],
      "source": [
        "# Util functions\n",
        "# Custom F1 callback\n",
        "class F1Evaluation(Callback):\n",
        "    def __init__(self, validation_data=(), interval=1):\n",
        "        super(Callback, self).__init__()\n",
        "\n",
        "        self.interval = interval\n",
        "        self.X_val, self.y_val = validation_data\n",
        "\n",
        "    def on_epoch_end(self, epoch, logs={}):\n",
        "        if epoch % self.interval == 0:\n",
        "            y_pred = self.model.predict(self.X_val, verbose=0)\n",
        "            y_pred = (y_pred > 0.35).astype(int)\n",
        "            score = metrics.f1_score(self.y_val, y_pred, average=\"micro\")\n",
        "            print(\"\\n F1 Score - epoch: %d - score: %.6f \\n\" % (epoch+1, score))\n",
        "\n",
        "def make_plot(loss, val_loss, acc, val_acc):\n",
        "    t = np.arange(1,len(loss)+1,1)\n",
        "\n",
        "    f, (ax1, ax2) = plt.subplots(1, 2, figsize=(15,3))\n",
        "    plt.subplots_adjust(wspace=0.2)\n",
        "\n",
        "    ax1.plot(t, loss)\n",
        "    ax1.plot(t, val_loss)\n",
        "    ax1.set_xlabel('epoch')\n",
        "    ax1.set_ylabel('loss')\n",
        "    ax1.set_title('Train vs Val loss')\n",
        "    ax1.legend(['train','val'], ncol=2, loc='upper right')\n",
        "\n",
        "    ax2.plot(t, acc)\n",
        "    ax2.plot(t, val_acc)\n",
        "    ax2.set_xlabel('epoch')\n",
        "    ax2.set_ylabel('acc')\n",
        "    ax2.set_title('Train vs Val acc')\n",
        "    ax2.legend(['train','val'], ncol=2, loc='upper right')\n",
        "\n",
        "    plt.show();\n",
        "\n",
        "def rgb_to_hex(rgb):\n",
        "    return '#%02x%02x%02x' % rgb\n",
        "    \n",
        "def attention2color(attention_score):\n",
        "    r = 255 - int(attention_score * 255)\n",
        "    color = rgb_to_hex((255, r, r))\n",
        "    return str(color)\n",
        "\n",
        "def visualize_attention():\n",
        "    # Make new model for output predictions and attentions\n",
        "    model_att = Model(inputs=model.input, \\\n",
        "                            outputs=[model.output, model.get_layer('attention_vec').output])\n",
        "    idx = np.random.randint(low = 0, high=X_te.shape[0]) # Get a random test\n",
        "    tokenized_sample = np.trim_zeros(X_te[idx]) # Get the tokenized text\n",
        "    label_probs, attentions = model_att.predict(X_te[idx:idx+1]) # Perform the prediction\n",
        "\n",
        "    # Get decoded text and labels\n",
        "    id2word = dict(map(reversed, tokenizer.word_index.items()))\n",
        "    decoded_text = [id2word[word] for word in tokenized_sample] \n",
        "    \n",
        "    # Get classification\n",
        "    label = np.argmax((label_probs>0.5).astype(int).squeeze()) # Only one\n",
        "    label2id = ['Sincere', 'Insincere']\n",
        "\n",
        "    # Get word attentions using attenion vector\n",
        "    token_attention_dic = {}\n",
        "    max_score = 0.0\n",
        "    min_score = 0.0\n",
        "    for token, attention_score in zip(decoded_text, attentions[0][-len(tokenized_sample):]):\n",
        "        token_attention_dic[token] = attention_score\n",
        "        \n",
        "\n",
        "    # Build HTML String to viualize attentions\n",
        "    html_text = \"<hr><p style='font-size: large'><b>Text:  </b>\"\n",
        "    for token, attention in token_attention_dic.items():\n",
        "        html_text += \"<span style='background-color:{};'>{} <span> \".format(attention2color(attention),\n",
        "                                                                            token)\n",
        "    #html_text += \"</p><br>\"\n",
        "    #html_text += \"<p style='font-size: large'><b>Classified as:</b> \"\n",
        "    #html_text += label2id[label] \n",
        "    #html_text += \"</p>\"\n",
        "    \n",
        "    # Display text enriched with attention scores \n",
        "    display(HTML(html_text))\n",
        "    \n",
        "    # PLOT EMOTION SCORES\n",
        "    \n",
        "    _labels = ['sincere', 'insincere']\n",
        "    plt.figure(figsize=(5,2))\n",
        "    plt.bar(np.arange(len(_labels)), label_probs.squeeze(), align='center', alpha=0.5, color=['black', 'red', 'green', 'blue', 'cyan', \"purple\"])\n",
        "    plt.xticks(np.arange(len(_labels)), _labels)\n",
        "    plt.ylabel('Scores')\n",
        "    plt.show()\n",
        "    \n",
        "def under_sample(train_df):\n",
        "    # UNDER SAMPLE\n",
        "    insincere = len(train_df[train_df.target == 1])\n",
        "    insincere_indices = train_df[train_df.target == 1].index\n",
        "\n",
        "    sincere_indices = train_df[train_df.target == 0].index\n",
        "    random_indices = np.random.choice(sincere_indices, insincere, replace=False)\n",
        "\n",
        "    under_sample_indices = np.concatenate([insincere_indices,random_indices])\n",
        "    under_sample = train_df.loc[under_sample_indices]\n",
        "    train_df = under_sample.sample(frac=1)\n",
        "    train_df.info()\n",
        "    return train_df\n",
        "\n",
        "def get_coefs(word, *arr): return word, np.asarray(arr, dtype='float32')\n",
        "\n",
        "def get_embeddings_matrix():\n",
        "    embeddings_index = dict(get_coefs(*o.rstrip().rsplit(' ')) for o in open(EMBEDDING_FILE,encoding=\"UTF-8\"))\n",
        "\n",
        "    word_index = tokenizer.word_index\n",
        "    nb_words = min(MAX_FEATURES, len(word_index))\n",
        "    print('nb_words: %d' % nb_words)\n",
        "    embedding_matrix = np.zeros((nb_words, EMB_SIZE))\n",
        "    print('Embedding matrix shape: %d/%d' % (nb_words, EMB_SIZE))\n",
        "    for word, i in word_index.items():\n",
        "        if i >= nb_words: continue\n",
        "        embedding_vector = embeddings_index.get(word)\n",
        "        if embedding_vector is not None: embedding_matrix[i] = embedding_vector\n",
        "    return embedding_matrix\n",
        "\n",
        "def visualize_attention():\n",
        "    # Make new model for output predictions and attentions\n",
        "    '''\n",
        "    model.get_layer('attention_vec').output:\n",
        "    attention_vec (Attention)    [(None, 128), (None, 54)] <- We want (None,54) that is the word att\n",
        "    '''\n",
        "    model_att = Model(inputs=model.input, \\\n",
        "                            outputs=[model.output, model.get_layer('attention_vec').output[-1]])\n",
        "    idx = np.random.randint(low = 0, high=X_te.shape[0]) # Get a random test\n",
        "    tokenized_sample = np.trim_zeros(X_te[idx]) # Get the tokenized text\n",
        "    label_probs, attentions = model_att.predict(X_te[idx:idx+1]) # Perform the prediction\n",
        "\n",
        "    # Get decoded text and labels\n",
        "    id2word = dict(map(reversed, tokenizer.word_index.items()))\n",
        "    decoded_text = [id2word[word] for word in tokenized_sample] \n",
        "    \n",
        "    # Get classification\n",
        "    label = (label_probs>0.5).astype(int).squeeze() # Only one\n",
        "    label2id = ['Sincere', 'Insincere']\n",
        "\n",
        "    # Get word attentions using attenion vector\n",
        "    token_attention_dic = {}\n",
        "    max_score = 0.0\n",
        "    min_score = 0.0\n",
        "    \n",
        "    attentions_text = attentions[0,-len(tokenized_sample):]\n",
        "    #plt.bar(np.arange(0,len(attentions.squeeze())), attentions.squeeze())\n",
        "    #plt.show();\n",
        "    #print(attentions_text)\n",
        "    attentions_text = (attentions_text - np.min(attentions_text)) / (np.max(attentions_text) - np.min(attentions_text))\n",
        "    for token, attention_score in zip(decoded_text, attentions_text):\n",
        "        #print(token, attention_score)\n",
        "        token_attention_dic[token] = attention_score\n",
        "        \n",
        "\n",
        "    # Build HTML String to viualize attentions\n",
        "    html_text = \"<hr><p style='font-size: large'><b>Text:  </b>\"\n",
        "    for token, attention in token_attention_dic.items():\n",
        "        html_text += \"<span style='background-color:{};'>{} <span> \".format(attention2color(attention),\n",
        "                                                                            token)\n",
        "    #html_text += \"</p><br>\"\n",
        "    #html_text += \"<p style='font-size: large'><b>Classified as:</b> \"\n",
        "    #html_text += label2id[label] \n",
        "    #html_text += \"</p>\"\n",
        "    \n",
        "    # Display text enriched with attention scores \n",
        "    display(HTML(html_text))\n",
        "    \n",
        "    # PLOT EMOTION SCORES\n",
        "    _labels = ['sincere', 'insincere']\n",
        "    probs = np.zeros(2)\n",
        "    probs[1] = label_probs\n",
        "    probs[0] = 1- label_probs\n",
        "    plt.figure(figsize=(5,2))\n",
        "    plt.bar(np.arange(len(_labels)), probs.squeeze(), align='center', alpha=0.5, color=['black', 'red', 'green', 'blue', 'cyan', \"purple\"])\n",
        "    plt.xticks(np.arange(len(_labels)), _labels)\n",
        "    plt.ylabel('Scores')\n",
        "    plt.show()"
      ],
      "id": "bVtCnxujwTBA"
    },
    {
      "cell_type": "code",
      "execution_count": null,
      "metadata": {
        "id": "bmhg7mOJwTBF"
      },
      "outputs": [],
      "source": [
        "# Util classes\n",
        "class Attention(Layer):\n",
        "      \n",
        "    def __init__(self,\n",
        "                W_regularizer=None, b_regularizer=None,\n",
        "                 W_constraint=None, b_constraint=None,\n",
        "                 bias=True, return_attention=False,\n",
        "                 **kwargs):\n",
        "        self.supports_masking = True\n",
        "        self.return_attention = return_attention\n",
        "        self.init = initializers.get('glorot_uniform')\n",
        "\n",
        "        self.W_regularizer = regularizers.get(W_regularizer)\n",
        "        self.b_regularizer = regularizers.get(b_regularizer)\n",
        "\n",
        "        self.W_constraint = constraints.get(W_constraint)\n",
        "        self.b_constraint = constraints.get(b_constraint)\n",
        "\n",
        "        self.bias = bias\n",
        "        super(Attention, self).__init__(**kwargs)\n",
        "\n",
        "\n",
        "    def build(self, input_shape):\n",
        "        assert len(input_shape) == 3\n",
        "\n",
        "        self.W = self.add_weight(shape=(input_shape[-1],),\n",
        "                                 initializer=self.init,\n",
        "                                 name='{}_W'.format(self.name),\n",
        "                                 regularizer=self.W_regularizer,\n",
        "                                 constraint=self.W_constraint)\n",
        "        if self.bias:\n",
        "            self.b = self.add_weight(shape=(input_shape[1],),\n",
        "                                     initializer='zero',\n",
        "                                     name='{}_b'.format(self.name),\n",
        "                                     regularizer=self.b_regularizer,\n",
        "                                     constraint=self.b_constraint)\n",
        "        else:\n",
        "            self.b = None\n",
        "\n",
        "        self.built = True\n",
        "\n",
        "    def compute_mask(self, input, input_mask=None):\n",
        "        # do not pass the mask to the next layers\n",
        "        return None\n",
        "\n",
        "    def call(self, x, mask=None):\n",
        "        eij = K.squeeze(K.dot(x, K.expand_dims(self.W)), axis=-1)\n",
        "\n",
        "        if self.bias:\n",
        "            eij += self.b\n",
        "\n",
        "        eij = K.tanh(eij)\n",
        "\n",
        "        a = K.exp(eij)\n",
        "\n",
        "        # apply mask after the exp. will be re-normalized next\n",
        "        if mask is not None:\n",
        "            # Cast the mask to floatX to avoid float64 upcasting in theano\n",
        "            a *= K.cast(mask, K.floatx())\n",
        "\n",
        "        # in some cases especially in the early stages of training the sum may be almost zero\n",
        "        # and this results in NaN's. A workaround is to add a very small positive number ε to the sum.\n",
        "        # a /= K.cast(K.sum(a, axis=1, keepdims=True), K.floatx())\n",
        "        a /= K.cast(K.sum(a, axis=1, keepdims=True) + K.epsilon(), K.floatx())\n",
        "\n",
        "        weighted_input = x * K.expand_dims(a)\n",
        "\n",
        "        result = K.sum(weighted_input, axis=1)\n",
        "\n",
        "        if self.return_attention:\n",
        "            return [result, a]\n",
        "        return result\n",
        "\n",
        "    def compute_output_shape(self, input_shape):\n",
        "        if self.return_attention:\n",
        "            return [(input_shape[0], input_shape[-1]),\n",
        "                    (input_shape[0], input_shape[1])]\n",
        "        else:\n",
        "            return input_shape[0], input_shape[-1]"
      ],
      "id": "bmhg7mOJwTBF"
    },
    {
      "cell_type": "code",
      "execution_count": null,
      "metadata": {
        "id": "UEgmgD9kwTBH"
      },
      "outputs": [],
      "source": [
        "# use the first 2 lines of the file to detect separator\n",
        "#temp_lines = csv_file.readline() + '\\n' + csv_file.readline()\n",
        "#dialect = csv.Sniffer().sniff(temp_lines, delimiters=';,')\n",
        "\n",
        "# remember to go back to the start of the file for the next time it's read\n",
        "#csv_file.seek(0) \n",
        "\n",
        "#df = pd.read_csv(csv_file, sep=dialect.delimiter)"
      ],
      "id": "UEgmgD9kwTBH"
    },
    {
      "cell_type": "code",
      "execution_count": null,
      "metadata": {
        "id": "0ZgKPK_ywTBI"
      },
      "outputs": [],
      "source": [
        "# Load data and split train/test\n",
        "train_df = pd.read_csv(\"/content/drive/MyDrive/Thesis/Data/Filled Datasets/Second dataset (Kaggle)/Preprocessed/combined_train_val.csv\")\n",
        "test_df = pd.read_excel(\"/content/drive/MyDrive/Thesis/Data/Filled Datasets/Second dataset (Kaggle)/Preprocessed/Constraint_Test_fullprep_with_labels.xlsx\")\n",
        "#train_df, test_df = train_test_split(data, test_size=0.33,random_state = 2022)\n",
        "train_df, val_df = train_test_split(train_df, test_size=0.05,random_state = 2022)"
      ],
      "id": "0ZgKPK_ywTBI"
    },
    {
      "cell_type": "code",
      "execution_count": null,
      "metadata": {
        "id": "NY5RIRF-wTBI"
      },
      "outputs": [],
      "source": [
        "# RandomOverSampler\n",
        "from imblearn.over_sampling import RandomOverSampler\n",
        "\n",
        "ros = RandomOverSampler(random_state=47)\n",
        "\n",
        "# fit predictor and target variable\n",
        "train_df, label_train = ros.fit_resample(train_df,train_df[\"label\"])\n",
        "val_df, label_val = ros.fit_resample(val_df,val_df[\"label\"])\n",
        "\n",
        "#text = pd.DataFrame(data_os[\"text\"])\n",
        "#label_os = pd.DataFrame(label_os)"
      ],
      "id": "NY5RIRF-wTBI"
    },
    {
      "cell_type": "code",
      "source": [
        "train_df = train_df.rename(columns={\"tweet\": \"text\"})\n",
        "test_df = test_df.rename(columns={\"tweet\": \"text\"})\n",
        "val_df = val_df.rename(columns={\"tweet\": \"text\"})"
      ],
      "metadata": {
        "id": "IkrNUebVfupK"
      },
      "id": "IkrNUebVfupK",
      "execution_count": null,
      "outputs": []
    },
    {
      "cell_type": "code",
      "source": [
        "test_df"
      ],
      "metadata": {
        "id": "-K6J_r2GUrmZ"
      },
      "id": "-K6J_r2GUrmZ",
      "execution_count": null,
      "outputs": []
    },
    {
      "cell_type": "code",
      "execution_count": null,
      "metadata": {
        "id": "0FD76e5nwTBJ"
      },
      "outputs": [],
      "source": [
        "## some config values \n",
        "embed_size = 100 # how big is each word vector\n",
        "max_features = 50000 # how many unique words to use (i.e num rows in embedding vector)\n",
        "maxlen = 300 # max number of words in a question to use\n",
        "\n",
        "X_tra = train_df[\"text\"].fillna(\"_na_\").values\n",
        "X_val = val_df[\"text\"].fillna(\"_na_\").values\n",
        "X_te = test_df[\"text\"].fillna(\"_na_\").values\n",
        "\n",
        "## Tokenize the sentences\n",
        "tokenizer = Tokenizer(num_words=MAX_FEATURES)\n",
        "tokenizer.fit_on_texts(list(X_tra))\n",
        "X_tra = tokenizer.texts_to_sequences(X_tra)\n",
        "X_val = tokenizer.texts_to_sequences(X_val)\n",
        "X_te = tokenizer.texts_to_sequences(X_te)\n",
        "\n",
        "## Pad the sentences \n",
        "MAX_LEN = min(MAX_LEN, len(max(X_tra, key=len)))\n",
        "X_tra = pad_sequences(X_tra, maxlen=MAX_LEN)\n",
        "X_val = pad_sequences(X_val, maxlen=MAX_LEN)\n",
        "X_te = pad_sequences(X_te, maxlen=MAX_LEN)\n",
        "\n",
        "## Get the target values\n",
        "Y_tra = label_train\n",
        "Y_val = label_val\n",
        "Y_te = test_df[\"label\"].fillna(\"_na_\").values"
      ],
      "id": "0FD76e5nwTBJ"
    },
    {
      "cell_type": "code",
      "execution_count": null,
      "metadata": {
        "colab": {
          "base_uri": "https://localhost:8080/"
        },
        "id": "s0ormOyowTBK",
        "outputId": "166e02cf-6b58-4dee-b9bc-4fa107af63ec"
      },
      "outputs": [
        {
          "output_type": "stream",
          "name": "stdout",
          "text": [
            "nb_words: 11147\n",
            "Embedding matrix shape: 11147/100\n"
          ]
        }
      ],
      "source": [
        "embedding_matrix = get_embeddings_matrix()"
      ],
      "id": "s0ormOyowTBK"
    },
    {
      "cell_type": "code",
      "source": [
        "X_tra.shape[1]"
      ],
      "metadata": {
        "colab": {
          "base_uri": "https://localhost:8080/"
        },
        "id": "HPJourSN8Bzg",
        "outputId": "d335dfb9-ab23-4574-bd03-8f9026a7464e"
      },
      "id": "HPJourSN8Bzg",
      "execution_count": null,
      "outputs": [
        {
          "output_type": "execute_result",
          "data": {
            "text/plain": [
              "100"
            ]
          },
          "metadata": {},
          "execution_count": 21
        }
      ]
    },
    {
      "cell_type": "code",
      "execution_count": null,
      "metadata": {
        "id": "_u9ABBvuwTBL"
      },
      "outputs": [],
      "source": [
        "# Define input tensor\n",
        "inp = Input(shape=(X_tra.shape[1],), dtype='int32')\n",
        "\n",
        "# Word embedding layer\n",
        "embedded_inputs = Embedding(embedding_matrix.shape[0], embedding_matrix.shape[1], \n",
        "                            weights=[embedding_matrix], trainable = False)(inp)\n",
        "\n",
        "# Apply dropout to prevent overfitting\n",
        "embedded_inputs = SpatialDropout1D(0.2)(embedded_inputs)\n",
        "\n",
        "# Apply Bidirectional GRU over embedded inputs\n",
        "rnn_outs = Bidirectional(\\\n",
        "                CuDNNGRU(64, return_sequences=True))(embedded_inputs)\n",
        "rnn_outs = Dropout(0.2)(rnn_outs) # Apply dropout to GRU outputs to prevent overfitting\n",
        "\n",
        "# Attention Mechanism - Generate attention vectors\n",
        "sentence, word_scores = Attention(return_attention=True, name = \"attention_vec\")(rnn_outs)\n",
        "\n",
        "# Dense layers\n",
        "fc = Dense(64, activation='relu')(sentence)\n",
        "fc = Dropout(0.5)(fc)\n",
        "output = Dense(1, activation='sigmoid')(fc)\n",
        "\n",
        "# Finally building model\n",
        "model = Model(inputs=inp, outputs=output)\n",
        "model.compile(loss='binary_crossentropy', metrics=[\"accuracy\"], optimizer='adam')\n",
        "\n",
        "# Print model summary\n",
        "model.summary()"
      ],
      "id": "_u9ABBvuwTBL"
    },
    {
      "cell_type": "code",
      "execution_count": null,
      "metadata": {
        "id": "ACQ1YmmWwTBM",
        "colab": {
          "base_uri": "https://localhost:8080/"
        },
        "outputId": "4374d3bd-ec12-405e-edbb-15fa0ab39adc"
      },
      "outputs": [
        {
          "output_type": "stream",
          "name": "stdout",
          "text": [
            "Epoch 1/15\n",
            " 6/17 [=========>....................] - ETA: 0s - loss: 0.0910 - accuracy: 0.9668WARNING:tensorflow:Callback method `on_train_batch_end` is slow compared to the batch time (batch time: 0.0395s vs `on_train_batch_end` time: 0.0402s). Check your callbacks.\n",
            "17/17 [==============================] - ETA: 0s - loss: 0.0922 - accuracy: 0.9666\n",
            " F1 Score - epoch: 1 - score: 0.905830 \n",
            "\n",
            "17/17 [==============================] - 2s 103ms/step - loss: 0.0922 - accuracy: 0.9666 - val_loss: 0.2669 - val_accuracy: 0.9103\n",
            "Epoch 2/15\n",
            "17/17 [==============================] - ETA: 0s - loss: 0.0885 - accuracy: 0.9689\n",
            " F1 Score - epoch: 2 - score: 0.908072 \n",
            "\n",
            "17/17 [==============================] - 1s 85ms/step - loss: 0.0885 - accuracy: 0.9689 - val_loss: 0.2736 - val_accuracy: 0.9103\n",
            "Epoch 3/15\n",
            "17/17 [==============================] - ETA: 0s - loss: 0.0900 - accuracy: 0.9668\n",
            " F1 Score - epoch: 3 - score: 0.908072 \n",
            "\n",
            "17/17 [==============================] - 1s 84ms/step - loss: 0.0900 - accuracy: 0.9668 - val_loss: 0.2568 - val_accuracy: 0.9103\n",
            "Epoch 4/15\n",
            "16/17 [===========================>..] - ETA: 0s - loss: 0.0859 - accuracy: 0.9691\n",
            " F1 Score - epoch: 4 - score: 0.912556 \n",
            "\n",
            "17/17 [==============================] - 1s 76ms/step - loss: 0.0861 - accuracy: 0.9692 - val_loss: 0.2529 - val_accuracy: 0.9103\n",
            "Epoch 5/15\n",
            "16/17 [===========================>..] - ETA: 0s - loss: 0.0879 - accuracy: 0.9663\n",
            " F1 Score - epoch: 5 - score: 0.914798 \n",
            "\n",
            "17/17 [==============================] - 1s 74ms/step - loss: 0.0882 - accuracy: 0.9663 - val_loss: 0.2408 - val_accuracy: 0.9126\n",
            "Epoch 6/15\n",
            "17/17 [==============================] - ETA: 0s - loss: 0.0917 - accuracy: 0.9654\n",
            " F1 Score - epoch: 6 - score: 0.905830 \n",
            "\n",
            "17/17 [==============================] - 1s 74ms/step - loss: 0.0917 - accuracy: 0.9654 - val_loss: 0.2898 - val_accuracy: 0.9036\n",
            "Epoch 7/15\n",
            "17/17 [==============================] - ETA: 0s - loss: 0.0762 - accuracy: 0.9728\n",
            " F1 Score - epoch: 7 - score: 0.901345 \n",
            "\n",
            "17/17 [==============================] - 1s 74ms/step - loss: 0.0762 - accuracy: 0.9728 - val_loss: 0.2880 - val_accuracy: 0.9081\n",
            "Epoch 8/15\n",
            "17/17 [==============================] - ETA: 0s - loss: 0.0720 - accuracy: 0.9746\n",
            " F1 Score - epoch: 8 - score: 0.899103 \n",
            "\n",
            "17/17 [==============================] - 1s 75ms/step - loss: 0.0720 - accuracy: 0.9746 - val_loss: 0.3007 - val_accuracy: 0.9058\n",
            "Epoch 9/15\n",
            "17/17 [==============================] - ETA: 0s - loss: 0.0701 - accuracy: 0.9751\n",
            " F1 Score - epoch: 9 - score: 0.903587 \n",
            "\n",
            "17/17 [==============================] - 1s 74ms/step - loss: 0.0701 - accuracy: 0.9751 - val_loss: 0.3025 - val_accuracy: 0.9013\n",
            "Epoch 10/15\n",
            "16/17 [===========================>..] - ETA: 0s - loss: 0.0740 - accuracy: 0.9745\n",
            " F1 Score - epoch: 10 - score: 0.901345 \n",
            "\n",
            "17/17 [==============================] - 1s 73ms/step - loss: 0.0747 - accuracy: 0.9744 - val_loss: 0.3181 - val_accuracy: 0.8991\n",
            "Epoch 11/15\n",
            "17/17 [==============================] - ETA: 0s - loss: 0.0781 - accuracy: 0.9705\n",
            " F1 Score - epoch: 11 - score: 0.908072 \n",
            "\n",
            "17/17 [==============================] - 1s 75ms/step - loss: 0.0781 - accuracy: 0.9705 - val_loss: 0.2781 - val_accuracy: 0.9013\n",
            "Epoch 12/15\n",
            "16/17 [===========================>..] - ETA: 0s - loss: 0.0777 - accuracy: 0.9723\n",
            " F1 Score - epoch: 12 - score: 0.914798 \n",
            "\n",
            "17/17 [==============================] - 1s 74ms/step - loss: 0.0782 - accuracy: 0.9723 - val_loss: 0.2651 - val_accuracy: 0.9036\n",
            "Epoch 13/15\n",
            "16/17 [===========================>..] - ETA: 0s - loss: 0.0650 - accuracy: 0.9762\n",
            " F1 Score - epoch: 13 - score: 0.910314 \n",
            "\n",
            "17/17 [==============================] - 1s 74ms/step - loss: 0.0651 - accuracy: 0.9759 - val_loss: 0.2945 - val_accuracy: 0.9081\n",
            "Epoch 14/15\n",
            "17/17 [==============================] - ETA: 0s - loss: 0.0658 - accuracy: 0.9760\n",
            " F1 Score - epoch: 14 - score: 0.908072 \n",
            "\n",
            "17/17 [==============================] - 1s 74ms/step - loss: 0.0658 - accuracy: 0.9760 - val_loss: 0.2908 - val_accuracy: 0.9058\n",
            "Epoch 15/15\n",
            "17/17 [==============================] - ETA: 0s - loss: 0.0631 - accuracy: 0.9778\n",
            " F1 Score - epoch: 15 - score: 0.910314 \n",
            "\n",
            "17/17 [==============================] - 1s 74ms/step - loss: 0.0631 - accuracy: 0.9778 - val_loss: 0.2949 - val_accuracy: 0.9126\n"
          ]
        }
      ],
      "source": [
        "# Train model\n",
        "F1_Score = F1Evaluation(validation_data=(X_val, Y_val), interval=1)\n",
        "hist = model.fit(X_tra, Y_tra, validation_data=(X_val, Y_val), \n",
        "                 epochs=15, batch_size=512, callbacks=[F1_Score])\n",
        "val_loss = hist.history['val_loss']; val_acc = hist.history['val_accuracy']\n",
        "loss = hist.history['loss'];acc = hist.history['accuracy']\n",
        "#solution to error: conclusion from online research seems to be that i have to switch to GPU in colab.\n",
        "#problem: we don't have a gpu --> solved, we do. Go to 'resources bekijken' --> 'runtimetype wijzigen' --> GPU\n",
        "\n",
        "#have a look at bazel(isk): https://github.com/bazelbuild/bazelisk\n",
        "#and the compatibilities: https://www.tensorflow.org/install/source_windows"
      ],
      "id": "ACQ1YmmWwTBM"
    },
    {
      "cell_type": "code",
      "execution_count": null,
      "metadata": {
        "colab": {
          "base_uri": "https://localhost:8080/",
          "height": 246
        },
        "id": "2f34oTXOwTBM",
        "outputId": "e49e78d9-b351-4ba1-b781-7368665feb45"
      },
      "outputs": [
        {
          "output_type": "display_data",
          "data": {
            "text/plain": [
              "<Figure size 1080x216 with 2 Axes>"
            ],
            "image/png": "[encoded data removed]"
          },
          "metadata": {}
        }
      ],
      "source": [
        "make_plot(loss, val_loss, acc, val_acc)\n"
      ],
      "id": "2f34oTXOwTBM"
    },
    {
      "cell_type": "code",
      "execution_count": null,
      "metadata": {
        "colab": {
          "base_uri": "https://localhost:8080/"
        },
        "id": "NZiZBSNIwTBN",
        "outputId": "d8e3f400-a385-4e97-d4db-6a355ebc0e54"
      },
      "outputs": [
        {
          "output_type": "stream",
          "name": "stdout",
          "text": [
            "1/1 [==============================] - 1s 856ms/step\n",
            "Validation set: Max F1-Score: 0.92 - reached with threshold: 0.10\n"
          ]
        }
      ],
      "source": [
        "val_pred = model.predict([X_val], batch_size=1024, verbose=1)\n",
        "f1s = []\n",
        "max_thresh, max_f1 = 0, 0\n",
        "for thresh in np.arange(0.1, 0.9, 0.01):\n",
        "    f1s.append(metrics.f1_score(Y_val, (val_pred>thresh)))\n",
        "max_f1 = np.max(f1s)\n",
        "max_thresh = np.arange(0.1, 0.9, 0.01)[np.argmax(f1s)]\n",
        "print('Validation set: Max F1-Score: %.2f - reached with threshold: %.2f' % (max_f1, max_thresh))"
      ],
      "id": "NZiZBSNIwTBN"
    },
    {
      "cell_type": "code",
      "source": [
        "np.unique(val_pred)"
      ],
      "metadata": {
        "id": "8W01ick7JHMd"
      },
      "id": "8W01ick7JHMd",
      "execution_count": null,
      "outputs": []
    },
    {
      "cell_type": "code",
      "execution_count": null,
      "metadata": {
        "id": "WYgf970SwTBO"
      },
      "outputs": [],
      "source": [
        "for _ in range(25):\n",
        "    visualize_attention()"
      ],
      "id": "WYgf970SwTBO"
    },
    {
      "cell_type": "code",
      "source": [
        "test_pred = model.predict([X_te], batch_size=1024, verbose=1)\n",
        "test_pred_thresh = (test_pred>max_thresh).astype(int)"
      ],
      "metadata": {
        "colab": {
          "base_uri": "https://localhost:8080/"
        },
        "id": "Yaol11rbHj9M",
        "outputId": "94001ba1-90c0-4eab-fcbb-47c7481ccb75"
      },
      "id": "Yaol11rbHj9M",
      "execution_count": null,
      "outputs": [
        {
          "output_type": "stream",
          "name": "stdout",
          "text": [
            "3/3 [==============================] - 0s 49ms/step\n"
          ]
        }
      ]
    },
    {
      "cell_type": "markdown",
      "source": [
        "\n",
        "1.   no oversampling: always predicts 0 (real)\n",
        "\n",
        "\n",
        "1.   if oversampling and 3 epochs (same for 15 epochs): always predicts 1 (fake)\n",
        "\n",
        "\n"
      ],
      "metadata": {
        "id": "9mB5ysehIREl"
      },
      "id": "9mB5ysehIREl"
    },
    {
      "cell_type": "code",
      "source": [
        "from sklearn.metrics import confusion_matrix,accuracy_score,roc_auc_score,roc_curve,auc\n",
        "test_pred = test_pred.round()\n",
        "\n",
        "print(metrics.classification_report(Y_te, test_pred,  digits=5))\n",
        "print(confusion_matrix(Y_te, test_pred))\n"
      ],
      "metadata": {
        "colab": {
          "base_uri": "https://localhost:8080/"
        },
        "id": "MJIWL7SQSwSz",
        "outputId": "52f21684-50fa-481d-c533-b9cebafa5c62"
      },
      "id": "MJIWL7SQSwSz",
      "execution_count": null,
      "outputs": [
        {
          "output_type": "stream",
          "name": "stdout",
          "text": [
            "              precision    recall  f1-score   support\n",
            "\n",
            "           0    0.92431   0.92761   0.92596      1119\n",
            "           1    0.92028   0.91667   0.91847      1020\n",
            "\n",
            "    accuracy                        0.92239      2139\n",
            "   macro avg    0.92229   0.92214   0.92221      2139\n",
            "weighted avg    0.92239   0.92239   0.92239      2139\n",
            "\n",
            "[[1038   81]\n",
            " [  85  935]]\n"
          ]
        }
      ]
    }
  ],
  "metadata": {
    "kernelspec": {
      "display_name": "Python 3",
      "language": "python",
      "name": "python3"
    },
    "language_info": {
      "codemirror_mode": {
        "name": "ipython",
        "version": 3
      },
      "file_extension": ".py",
      "mimetype": "text/x-python",
      "name": "python",
      "nbconvert_exporter": "python",
      "pygments_lexer": "ipython3",
      "version": "3.8.5"
    },
    "colab": {
      "name": "BIGRU_GLOVE.ipynb",
      "provenance": []
    },
    "accelerator": "GPU"
  },
  "nbformat": 4,
  "nbformat_minor": 5
}