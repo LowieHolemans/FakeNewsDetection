{
  "nbformat": 4,
  "nbformat_minor": 0,
  "metadata": {
    "colab": {
      "name": "Preprocessing kaggle.ipynb",
      "provenance": []
    },
    "kernelspec": {
      "name": "python3",
      "display_name": "Python 3"
    },
    "language_info": {
      "name": "python"
    }
  },
  "cells": [
    {
      "cell_type": "code",
      "execution_count": null,
      "metadata": {
        "colab": {
          "base_uri": "https://localhost:8080/"
        },
        "id": "YVCf7ElxuJgh",
        "outputId": "124adb15-908f-4fa3-ee0a-c478ef6d6145"
      },
      "outputs": [
        {
          "output_type": "stream",
          "name": "stdout",
          "text": [
            "Mounted at /content/drive\n"
          ]
        }
      ],
      "source": [
        "from google.colab import drive\n",
        "drive.mount('/content/drive')"
      ]
    },
    {
      "cell_type": "code",
      "source": [
        "import pandas as pd \n",
        "import os \n",
        "os.chdir('/content/drive/MyDrive/Thesis/Data/Filled Datasets/Second dataset (Kaggle)/Raw/')\n",
        "train = pd.read_csv('Constraint_Train.csv')\n",
        "test = pd.read_csv('Constraint_Test.csv')\n",
        "val = pd.read_csv('Constraint_Val.csv')"
      ],
      "metadata": {
        "id": "5Au3sLsWunpV"
      },
      "execution_count": null,
      "outputs": []
    },
    {
      "cell_type": "code",
      "source": [
        "train.head(n=20)"
      ],
      "metadata": {
        "id": "55GhowV-vINe"
      },
      "execution_count": null,
      "outputs": []
    },
    {
      "cell_type": "code",
      "source": [
        "def dropcolumns(inputdata):\n",
        "  if \"withheld\" in inputdata.columns:\n",
        "    inputdata.drop(labels=['withheld'], axis=1)\n",
        "  else:\n",
        "    True\n",
        "  inputdata = inputdata.drop(labels=['attachments','geo'], axis=1)\n",
        "  return inputdata"
      ],
      "metadata": {
        "id": "n0cCVaN8ed26"
      },
      "execution_count": null,
      "outputs": []
    },
    {
      "cell_type": "code",
      "source": [
        "def drop_na(inputdata):\n",
        "  inputdata = inputdata[inputdata['tweet'].notna()]\n",
        "  return inputdata"
      ],
      "metadata": {
        "id": "BR0hymiVhTph"
      },
      "execution_count": null,
      "outputs": []
    },
    {
      "cell_type": "code",
      "source": [
        "!pip install tweet-preprocessor\n",
        "import preprocessor as p"
      ],
      "metadata": {
        "id": "tVl_tjRmiSNm",
        "colab": {
          "base_uri": "https://localhost:8080/"
        },
        "outputId": "405c0233-b4f6-4ed8-fdbe-a9f4aa096cdb"
      },
      "execution_count": null,
      "outputs": [
        {
          "output_type": "stream",
          "name": "stdout",
          "text": [
            "Collecting tweet-preprocessor\n",
            "  Downloading tweet_preprocessor-0.6.0-py3-none-any.whl (27 kB)\n",
            "Installing collected packages: tweet-preprocessor\n",
            "Successfully installed tweet-preprocessor-0.6.0\n"
          ]
        }
      ]
    },
    {
      "cell_type": "code",
      "source": [
        "def data_cleaning(inputdata):\n",
        "  for i in range(len(inputdata[\"tweet\"])):\n",
        "    inputdata[\"tweet\"].iloc[i] = p.clean(str(inputdata['tweet'].iloc[i]))\n",
        "  return inputdata"
      ],
      "metadata": {
        "id": "-k2lM3tthjTY"
      },
      "execution_count": null,
      "outputs": []
    },
    {
      "cell_type": "code",
      "source": [
        "#important libraries for preprocessing using NLTK\n",
        "import nltk\n",
        "from nltk import word_tokenize, FreqDist\n",
        "from nltk.corpus import stopwords\n",
        "from nltk.stem import WordNetLemmatizer\n",
        "nltk.download\n",
        "nltk.download('wordnet')\n",
        "nltk.download('stopwords')\n",
        "from nltk.tokenize import TweetTokenizer"
      ],
      "metadata": {
        "id": "0W7BotOTjtso",
        "colab": {
          "base_uri": "https://localhost:8080/"
        },
        "outputId": "6db5114b-1096-44b0-a4f1-32a530ef6b44"
      },
      "execution_count": null,
      "outputs": [
        {
          "output_type": "stream",
          "name": "stdout",
          "text": [
            "[nltk_data] Downloading package wordnet to /root/nltk_data...\n",
            "[nltk_data]   Unzipping corpora/wordnet.zip.\n",
            "[nltk_data] Downloading package stopwords to /root/nltk_data...\n",
            "[nltk_data]   Unzipping corpora/stopwords.zip.\n"
          ]
        }
      ]
    },
    {
      "cell_type": "code",
      "source": [
        "import re\n",
        "import string\n",
        "def remove_numbers(inputdata):\n",
        "  for i in range(len(inputdata[\"tweet\"])):\n",
        "    inputdata[\"tweet\"].iloc[i] = re.sub(r'\\d+','',str(inputdata[\"tweet\"].iloc[i]))\n",
        "  return inputdata"
      ],
      "metadata": {
        "id": "o-BimSvIkHJB"
      },
      "execution_count": null,
      "outputs": []
    },
    {
      "cell_type": "code",
      "source": [
        "def lowercase(inputdata):\n",
        "  for i in range(len(inputdata[\"tweet\"])):\n",
        "    inputdata[\"tweet\"].iloc[i] = str(inputdata[\"tweet\"].iloc[i]).lower() \n",
        "  return inputdata"
      ],
      "metadata": {
        "id": "yh1BWzGJlXVO"
      },
      "execution_count": null,
      "outputs": []
    },
    {
      "cell_type": "code",
      "source": [
        "!pip install autocorrect\n",
        "from autocorrect import Speller"
      ],
      "metadata": {
        "id": "0Iyp6kLa-QiV",
        "colab": {
          "base_uri": "https://localhost:8080/"
        },
        "outputId": "ae6566f6-e216-464e-cc80-3529e8495c40"
      },
      "execution_count": null,
      "outputs": [
        {
          "output_type": "stream",
          "name": "stdout",
          "text": [
            "Collecting autocorrect\n",
            "  Downloading autocorrect-2.6.1.tar.gz (622 kB)\n",
            "\u001b[?25l\r\u001b[K     |▌                               | 10 kB 20.9 MB/s eta 0:00:01\r\u001b[K     |█                               | 20 kB 23.3 MB/s eta 0:00:01\r\u001b[K     |█▋                              | 30 kB 19.2 MB/s eta 0:00:01\r\u001b[K     |██                              | 40 kB 8.4 MB/s eta 0:00:01\r\u001b[K     |██▋                             | 51 kB 6.7 MB/s eta 0:00:01\r\u001b[K     |███▏                            | 61 kB 7.9 MB/s eta 0:00:01\r\u001b[K     |███▊                            | 71 kB 8.9 MB/s eta 0:00:01\r\u001b[K     |████▏                           | 81 kB 8.4 MB/s eta 0:00:01\r\u001b[K     |████▊                           | 92 kB 9.3 MB/s eta 0:00:01\r\u001b[K     |█████▎                          | 102 kB 8.7 MB/s eta 0:00:01\r\u001b[K     |█████▉                          | 112 kB 8.7 MB/s eta 0:00:01\r\u001b[K     |██████▎                         | 122 kB 8.7 MB/s eta 0:00:01\r\u001b[K     |██████▉                         | 133 kB 8.7 MB/s eta 0:00:01\r\u001b[K     |███████▍                        | 143 kB 8.7 MB/s eta 0:00:01\r\u001b[K     |████████                        | 153 kB 8.7 MB/s eta 0:00:01\r\u001b[K     |████████▍                       | 163 kB 8.7 MB/s eta 0:00:01\r\u001b[K     |█████████                       | 174 kB 8.7 MB/s eta 0:00:01\r\u001b[K     |█████████▌                      | 184 kB 8.7 MB/s eta 0:00:01\r\u001b[K     |██████████                      | 194 kB 8.7 MB/s eta 0:00:01\r\u001b[K     |██████████▌                     | 204 kB 8.7 MB/s eta 0:00:01\r\u001b[K     |███████████                     | 215 kB 8.7 MB/s eta 0:00:01\r\u001b[K     |███████████▋                    | 225 kB 8.7 MB/s eta 0:00:01\r\u001b[K     |████████████                    | 235 kB 8.7 MB/s eta 0:00:01\r\u001b[K     |████████████▋                   | 245 kB 8.7 MB/s eta 0:00:01\r\u001b[K     |█████████████▏                  | 256 kB 8.7 MB/s eta 0:00:01\r\u001b[K     |█████████████▊                  | 266 kB 8.7 MB/s eta 0:00:01\r\u001b[K     |██████████████▏                 | 276 kB 8.7 MB/s eta 0:00:01\r\u001b[K     |██████████████▊                 | 286 kB 8.7 MB/s eta 0:00:01\r\u001b[K     |███████████████▎                | 296 kB 8.7 MB/s eta 0:00:01\r\u001b[K     |███████████████▉                | 307 kB 8.7 MB/s eta 0:00:01\r\u001b[K     |████████████████▎               | 317 kB 8.7 MB/s eta 0:00:01\r\u001b[K     |████████████████▉               | 327 kB 8.7 MB/s eta 0:00:01\r\u001b[K     |█████████████████▍              | 337 kB 8.7 MB/s eta 0:00:01\r\u001b[K     |██████████████████              | 348 kB 8.7 MB/s eta 0:00:01\r\u001b[K     |██████████████████▍             | 358 kB 8.7 MB/s eta 0:00:01\r\u001b[K     |███████████████████             | 368 kB 8.7 MB/s eta 0:00:01\r\u001b[K     |███████████████████▌            | 378 kB 8.7 MB/s eta 0:00:01\r\u001b[K     |████████████████████            | 389 kB 8.7 MB/s eta 0:00:01\r\u001b[K     |████████████████████▌           | 399 kB 8.7 MB/s eta 0:00:01\r\u001b[K     |█████████████████████           | 409 kB 8.7 MB/s eta 0:00:01\r\u001b[K     |█████████████████████▋          | 419 kB 8.7 MB/s eta 0:00:01\r\u001b[K     |██████████████████████          | 430 kB 8.7 MB/s eta 0:00:01\r\u001b[K     |██████████████████████▋         | 440 kB 8.7 MB/s eta 0:00:01\r\u001b[K     |███████████████████████▏        | 450 kB 8.7 MB/s eta 0:00:01\r\u001b[K     |███████████████████████▊        | 460 kB 8.7 MB/s eta 0:00:01\r\u001b[K     |████████████████████████▏       | 471 kB 8.7 MB/s eta 0:00:01\r\u001b[K     |████████████████████████▊       | 481 kB 8.7 MB/s eta 0:00:01\r\u001b[K     |█████████████████████████▎      | 491 kB 8.7 MB/s eta 0:00:01\r\u001b[K     |█████████████████████████▉      | 501 kB 8.7 MB/s eta 0:00:01\r\u001b[K     |██████████████████████████▎     | 512 kB 8.7 MB/s eta 0:00:01\r\u001b[K     |██████████████████████████▉     | 522 kB 8.7 MB/s eta 0:00:01\r\u001b[K     |███████████████████████████▍    | 532 kB 8.7 MB/s eta 0:00:01\r\u001b[K     |███████████████████████████▉    | 542 kB 8.7 MB/s eta 0:00:01\r\u001b[K     |████████████████████████████▍   | 552 kB 8.7 MB/s eta 0:00:01\r\u001b[K     |█████████████████████████████   | 563 kB 8.7 MB/s eta 0:00:01\r\u001b[K     |█████████████████████████████▌  | 573 kB 8.7 MB/s eta 0:00:01\r\u001b[K     |██████████████████████████████  | 583 kB 8.7 MB/s eta 0:00:01\r\u001b[K     |██████████████████████████████▌ | 593 kB 8.7 MB/s eta 0:00:01\r\u001b[K     |███████████████████████████████ | 604 kB 8.7 MB/s eta 0:00:01\r\u001b[K     |███████████████████████████████▋| 614 kB 8.7 MB/s eta 0:00:01\r\u001b[K     |████████████████████████████████| 622 kB 8.7 MB/s \n",
            "\u001b[?25hBuilding wheels for collected packages: autocorrect\n",
            "  Building wheel for autocorrect (setup.py) ... \u001b[?25l\u001b[?25hdone\n",
            "  Created wheel for autocorrect: filename=autocorrect-2.6.1-py3-none-any.whl size=622382 sha256=4b0fd7bf69dcd1d5575ec83d75a0290e4c2dbf7e12c649f9257f02e754dd12a7\n",
            "  Stored in directory: /root/.cache/pip/wheels/54/d4/37/8244101ad50b0f7d9bffd93ce58ed7991ee1753b290923934b\n",
            "Successfully built autocorrect\n",
            "Installing collected packages: autocorrect\n",
            "Successfully installed autocorrect-2.6.1\n"
          ]
        }
      ]
    },
    {
      "cell_type": "code",
      "source": [
        "def spell_check(inputdata):\n",
        "  spell = Speller(lang='en')\n",
        "  for i in range(len(inputdata[\"tweet\"])):\n",
        "    inputdata[\"tweet\"].iloc[i] = spell(inputdata[\"tweet\"].iloc[i])\n",
        "  return inputdata"
      ],
      "metadata": {
        "id": "aSck9pMi-gaJ"
      },
      "execution_count": null,
      "outputs": []
    },
    {
      "cell_type": "code",
      "source": [
        "from nltk.stem import WordNetLemmatizer\n",
        "from nltk.tokenize import word_tokenize\n",
        "lemmatizer = nltk.stem.WordNetLemmatizer()\n",
        "w_tokenizer = TweetTokenizer()\n",
        "def lemmatize_text(inputdata):\n",
        " return [(lemmatizer.lemmatize(w)) for w in \\\n",
        "                                     w_tokenizer.tokenize((str(inputdata[\"tweet\"])))]"
      ],
      "metadata": {
        "id": "tC8HGgxnnflb"
      },
      "execution_count": null,
      "outputs": []
    },
    {
      "cell_type": "code",
      "source": [
        "import nltk\n",
        "nltk.download('wordnet')\n",
        "import nltk\n",
        "nltk.download('stopwords')\n",
        "from nltk.corpus import stopwords\n",
        "nltk.download('punkt')\n",
        "def rm_stop(inputdata): \n",
        "  stop_words = set(stopwords.words('english'))\n",
        "  for i in range(len(inputdata[\"tweet\"])):\n",
        "    word_tokens = word_tokenize(str(inputdata[\"tweet\"].iloc[i])) \n",
        "    filtered_sentence = [w for w in word_tokens if not w.lower() in stop_words]\n",
        "    filtered_sentence = []\n",
        "    for w in word_tokens:\n",
        "      if w not in stop_words:\n",
        "        filtered_sentence.append(w)\n",
        "    inputdata[\"tweet\"].iloc[i] = filtered_sentence\n",
        "  return inputdata"
      ],
      "metadata": {
        "id": "CJENB5hLzkei",
        "colab": {
          "base_uri": "https://localhost:8080/"
        },
        "outputId": "cd2883ad-b973-4e9b-aefd-ea46c2721baa"
      },
      "execution_count": null,
      "outputs": [
        {
          "output_type": "stream",
          "name": "stdout",
          "text": [
            "[nltk_data] Downloading package wordnet to /root/nltk_data...\n",
            "[nltk_data]   Package wordnet is already up-to-date!\n",
            "[nltk_data] Downloading package stopwords to /root/nltk_data...\n",
            "[nltk_data]   Package stopwords is already up-to-date!\n",
            "[nltk_data] Downloading package punkt to /root/nltk_data...\n",
            "[nltk_data]   Package punkt is already up-to-date!\n"
          ]
        }
      ]
    },
    {
      "cell_type": "code",
      "source": [
        "from nltk.tokenize import RegexpTokenizer\n",
        "def rm_punct(inputdata):\n",
        "  tokenizer = RegexpTokenizer(r'\\w+')\n",
        "  for i in range(len(inputdata[\"tweet\"])):\n",
        "    inputdata[\"tweet\"].iloc[i] = tokenizer.tokenize(str(inputdata[\"tweet\"].iloc[i]))\n",
        "  return inputdata"
      ],
      "metadata": {
        "id": "tYl8I3fBm1Hs"
      },
      "execution_count": null,
      "outputs": []
    },
    {
      "cell_type": "code",
      "source": [
        "def text_prep(inputdata):\n",
        "    data_cleaning(inputdata)\n",
        "    remove_numbers(inputdata)\n",
        "    lowercase(inputdata)\n",
        "    spell_check(inputdata)\n",
        "    lemmatize_text(inputdata)\n",
        "    rm_stop(inputdata)\n",
        "    rm_punct(inputdata)\n",
        "    return inputdata"
      ],
      "metadata": {
        "id": "3dRC_Tcyx-8l"
      },
      "execution_count": null,
      "outputs": []
    },
    {
      "cell_type": "code",
      "source": [
        "def full_preprocess(inputdata):\n",
        "  inputdata = text_prep(inputdata)\n",
        "  return inputdata"
      ],
      "metadata": {
        "id": "eAtYSzMZb63U"
      },
      "execution_count": null,
      "outputs": []
    },
    {
      "cell_type": "code",
      "source": [
        "train = full_preprocess(train)"
      ],
      "metadata": {
        "colab": {
          "base_uri": "https://localhost:8080/"
        },
        "id": "gkb6F2VGvc_f",
        "outputId": "3b76219d-2b18-4600-c150-d535ab05b268"
      },
      "execution_count": null,
      "outputs": [
        {
          "output_type": "stream",
          "name": "stderr",
          "text": [
            "/usr/local/lib/python3.7/dist-packages/pandas/core/indexing.py:1732: SettingWithCopyWarning: \n",
            "A value is trying to be set on a copy of a slice from a DataFrame\n",
            "\n",
            "See the caveats in the documentation: https://pandas.pydata.org/pandas-docs/stable/user_guide/indexing.html#returning-a-view-versus-a-copy\n",
            "  self._setitem_single_block(indexer, value, name)\n"
          ]
        }
      ]
    },
    {
      "cell_type": "code",
      "source": [
        "test = full_preprocess(test)\n",
        "test.to_csv(\"/content/drive/MyDrive/Thesis/Data/Filled Datasets/Second dataset (Kaggle)/Preprocessed/Constraint_Test_prep.csv\",index=False)"
      ],
      "metadata": {
        "colab": {
          "base_uri": "https://localhost:8080/"
        },
        "id": "TqSaDdanyxUB",
        "outputId": "cee6f8c2-3eeb-4500-9665-16c3afa2ce6c"
      },
      "execution_count": null,
      "outputs": [
        {
          "output_type": "stream",
          "name": "stderr",
          "text": [
            "/usr/local/lib/python3.7/dist-packages/pandas/core/indexing.py:1732: SettingWithCopyWarning: \n",
            "A value is trying to be set on a copy of a slice from a DataFrame\n",
            "\n",
            "See the caveats in the documentation: https://pandas.pydata.org/pandas-docs/stable/user_guide/indexing.html#returning-a-view-versus-a-copy\n",
            "  self._setitem_single_block(indexer, value, name)\n"
          ]
        }
      ]
    },
    {
      "cell_type": "code",
      "source": [
        "val = full_preprocess(val)\n",
        "val.to_csv(\"/content/drive/MyDrive/Thesis/Data/Filled Datasets/Second dataset (Kaggle)/Preprocessed/Constraint_Val_prep.csv\",index=False)"
      ],
      "metadata": {
        "colab": {
          "base_uri": "https://localhost:8080/"
        },
        "id": "fp9j6rSuyxWD",
        "outputId": "d2775946-1c5e-4b4f-c849-2e136c915c2e"
      },
      "execution_count": null,
      "outputs": [
        {
          "output_type": "stream",
          "name": "stderr",
          "text": [
            "/usr/local/lib/python3.7/dist-packages/pandas/core/indexing.py:1732: SettingWithCopyWarning: \n",
            "A value is trying to be set on a copy of a slice from a DataFrame\n",
            "\n",
            "See the caveats in the documentation: https://pandas.pydata.org/pandas-docs/stable/user_guide/indexing.html#returning-a-view-versus-a-copy\n",
            "  self._setitem_single_block(indexer, value, name)\n"
          ]
        }
      ]
    },
    {
      "cell_type": "code",
      "source": [
        "os.chdir('/content/drive/MyDrive/Thesis/Data/Filled Datasets/Second dataset (Kaggle)/Preprocessed/')\n",
        "train.to_csv(\"/content/drive/MyDrive/Thesis/Data/Filled Datasets/Second dataset (Kaggle)/Preprocessed/Constraint_Train_prep.csv\",index=False)"
      ],
      "metadata": {
        "id": "fRNiJy-HwN0C"
      },
      "execution_count": null,
      "outputs": []
    },
    {
      "cell_type": "code",
      "source": [
        "train = pd.read_csv('Constraint_Train_prep.csv')"
      ],
      "metadata": {
        "id": "FePNQPOY1WAq"
      },
      "execution_count": null,
      "outputs": []
    },
    {
      "cell_type": "code",
      "source": [
        "train.head()"
      ],
      "metadata": {
        "colab": {
          "base_uri": "https://localhost:8080/",
          "height": 206
        },
        "id": "n7Cn1Wue0X_Q",
        "outputId": "fc7cdb19-29f2-4cc3-aa59-c370cbbbb716"
      },
      "execution_count": null,
      "outputs": [
        {
          "output_type": "execute_result",
          "data": {
            "text/html": [
              "\n",
              "  <div id=\"df-38dc0076-d7d9-4438-b344-e9819958197f\">\n",
              "    <div class=\"colab-df-container\">\n",
              "      <div>\n",
              "<style scoped>\n",
              "    .dataframe tbody tr th:only-of-type {\n",
              "        vertical-align: middle;\n",
              "    }\n",
              "\n",
              "    .dataframe tbody tr th {\n",
              "        vertical-align: top;\n",
              "    }\n",
              "\n",
              "    .dataframe thead th {\n",
              "        text-align: right;\n",
              "    }\n",
              "</style>\n",
              "<table border=\"1\" class=\"dataframe\">\n",
              "  <thead>\n",
              "    <tr style=\"text-align: right;\">\n",
              "      <th></th>\n",
              "      <th>id</th>\n",
              "      <th>tweet</th>\n",
              "      <th>label</th>\n",
              "    </tr>\n",
              "  </thead>\n",
              "  <tbody>\n",
              "    <tr>\n",
              "      <th>0</th>\n",
              "      <td>1</td>\n",
              "      <td>['cdc', 'currently', 'reports', 'deaths', 'gen...</td>\n",
              "      <td>real</td>\n",
              "    </tr>\n",
              "    <tr>\n",
              "      <th>1</th>\n",
              "      <td>2</td>\n",
              "      <td>['states', 'reported', 'deaths', 'small', 'ris...</td>\n",
              "      <td>real</td>\n",
              "    </tr>\n",
              "    <tr>\n",
              "      <th>2</th>\n",
              "      <td>3</td>\n",
              "      <td>['politically', 'correct', 'woman', 'almost', ...</td>\n",
              "      <td>fake</td>\n",
              "    </tr>\n",
              "    <tr>\n",
              "      <th>3</th>\n",
              "      <td>4</td>\n",
              "      <td>['testing', 'laboratories', 'india', 'th', 'au...</td>\n",
              "      <td>real</td>\n",
              "    </tr>\n",
              "    <tr>\n",
              "      <th>4</th>\n",
              "      <td>5</td>\n",
              "      <td>['populous', 'states', 'generate', 'large', 'c...</td>\n",
              "      <td>real</td>\n",
              "    </tr>\n",
              "  </tbody>\n",
              "</table>\n",
              "</div>\n",
              "      <button class=\"colab-df-convert\" onclick=\"convertToInteractive('df-38dc0076-d7d9-4438-b344-e9819958197f')\"\n",
              "              title=\"Convert this dataframe to an interactive table.\"\n",
              "              style=\"display:none;\">\n",
              "        \n",
              "  <svg xmlns=\"http://www.w3.org/2000/svg\" height=\"24px\"viewBox=\"0 0 24 24\"\n",
              "       width=\"24px\">\n",
              "    <path d=\"M0 0h24v24H0V0z\" fill=\"none\"/>\n",
              "    <path d=\"M18.56 5.44l.94 2.06.94-2.06 2.06-.94-2.06-.94-.94-2.06-.94 2.06-2.06.94zm-11 1L8.5 8.5l.94-2.06 2.06-.94-2.06-.94L8.5 2.5l-.94 2.06-2.06.94zm10 10l.94 2.06.94-2.06 2.06-.94-2.06-.94-.94-2.06-.94 2.06-2.06.94z\"/><path d=\"M17.41 7.96l-1.37-1.37c-.4-.4-.92-.59-1.43-.59-.52 0-1.04.2-1.43.59L10.3 9.45l-7.72 7.72c-.78.78-.78 2.05 0 2.83L4 21.41c.39.39.9.59 1.41.59.51 0 1.02-.2 1.41-.59l7.78-7.78 2.81-2.81c.8-.78.8-2.07 0-2.86zM5.41 20L4 18.59l7.72-7.72 1.47 1.35L5.41 20z\"/>\n",
              "  </svg>\n",
              "      </button>\n",
              "      \n",
              "  <style>\n",
              "    .colab-df-container {\n",
              "      display:flex;\n",
              "      flex-wrap:wrap;\n",
              "      gap: 12px;\n",
              "    }\n",
              "\n",
              "    .colab-df-convert {\n",
              "      background-color: #E8F0FE;\n",
              "      border: none;\n",
              "      border-radius: 50%;\n",
              "      cursor: pointer;\n",
              "      display: none;\n",
              "      fill: #1967D2;\n",
              "      height: 32px;\n",
              "      padding: 0 0 0 0;\n",
              "      width: 32px;\n",
              "    }\n",
              "\n",
              "    .colab-df-convert:hover {\n",
              "      background-color: #E2EBFA;\n",
              "      box-shadow: 0px 1px 2px rgba(60, 64, 67, 0.3), 0px 1px 3px 1px rgba(60, 64, 67, 0.15);\n",
              "      fill: #174EA6;\n",
              "    }\n",
              "\n",
              "    [theme=dark] .colab-df-convert {\n",
              "      background-color: #3B4455;\n",
              "      fill: #D2E3FC;\n",
              "    }\n",
              "\n",
              "    [theme=dark] .colab-df-convert:hover {\n",
              "      background-color: #434B5C;\n",
              "      box-shadow: 0px 1px 3px 1px rgba(0, 0, 0, 0.15);\n",
              "      filter: drop-shadow(0px 1px 2px rgba(0, 0, 0, 0.3));\n",
              "      fill: #FFFFFF;\n",
              "    }\n",
              "  </style>\n",
              "\n",
              "      <script>\n",
              "        const buttonEl =\n",
              "          document.querySelector('#df-38dc0076-d7d9-4438-b344-e9819958197f button.colab-df-convert');\n",
              "        buttonEl.style.display =\n",
              "          google.colab.kernel.accessAllowed ? 'block' : 'none';\n",
              "\n",
              "        async function convertToInteractive(key) {\n",
              "          const element = document.querySelector('#df-38dc0076-d7d9-4438-b344-e9819958197f');\n",
              "          const dataTable =\n",
              "            await google.colab.kernel.invokeFunction('convertToInteractive',\n",
              "                                                     [key], {});\n",
              "          if (!dataTable) return;\n",
              "\n",
              "          const docLinkHtml = 'Like what you see? Visit the ' +\n",
              "            '<a target=\"_blank\" href=https://colab.research.google.com/notebooks/data_table.ipynb>data table notebook</a>'\n",
              "            + ' to learn more about interactive tables.';\n",
              "          element.innerHTML = '';\n",
              "          dataTable['output_type'] = 'display_data';\n",
              "          await google.colab.output.renderOutput(dataTable, element);\n",
              "          const docLink = document.createElement('div');\n",
              "          docLink.innerHTML = docLinkHtml;\n",
              "          element.appendChild(docLink);\n",
              "        }\n",
              "      </script>\n",
              "    </div>\n",
              "  </div>\n",
              "  "
            ],
            "text/plain": [
              "   id                                              tweet label\n",
              "0   1  ['cdc', 'currently', 'reports', 'deaths', 'gen...  real\n",
              "1   2  ['states', 'reported', 'deaths', 'small', 'ris...  real\n",
              "2   3  ['politically', 'correct', 'woman', 'almost', ...  fake\n",
              "3   4  ['testing', 'laboratories', 'india', 'th', 'au...  real\n",
              "4   5  ['populous', 'states', 'generate', 'large', 'c...  real"
            ]
          },
          "metadata": {},
          "execution_count": 50
        }
      ]
    },
    {
      "cell_type": "code",
      "source": [
        "train.iloc[0,1]"
      ],
      "metadata": {
        "colab": {
          "base_uri": "https://localhost:8080/",
          "height": 53
        },
        "id": "Mz8kzL7R0bPy",
        "outputId": "25b636f8-29c1-4cc8-8e6b-d264703c9de1"
      },
      "execution_count": null,
      "outputs": [
        {
          "output_type": "execute_result",
          "data": {
            "application/vnd.google.colaboratory.intrinsic+json": {
              "type": "string"
            },
            "text/plain": [
              "\"['cdc', 'currently', 'reports', 'deaths', 'general', 'discrepancies', 'death', 'counts', 'different', 'sources', 'small', 'applicable', 'death', 'toll', 'stands', 'roughly', 'people', 'today']\""
            ]
          },
          "metadata": {},
          "execution_count": 51
        }
      ]
    },
    {
      "cell_type": "code",
      "source": [
        "train.iloc[0,1] = str(train.iloc[0,1]).replace('[','')\n",
        "train.iloc[0,1] = str(train.iloc[0,1]).replace(']','')\n",
        "train.iloc[0,1] = str(train.iloc[0,1]).replace(\"',\",'')\n",
        "train.iloc[0,1] = str(train.iloc[0,1]).replace(\"'\",'')"
      ],
      "metadata": {
        "id": "EDhniqNm0wTd"
      },
      "execution_count": null,
      "outputs": []
    },
    {
      "cell_type": "code",
      "source": [
        "train.iloc[0,1]"
      ],
      "metadata": {
        "colab": {
          "base_uri": "https://localhost:8080/",
          "height": 35
        },
        "id": "9UN0XWmH1Bwh",
        "outputId": "858b6c74-5b67-4a42-9b49-222783fd7099"
      },
      "execution_count": null,
      "outputs": [
        {
          "output_type": "execute_result",
          "data": {
            "application/vnd.google.colaboratory.intrinsic+json": {
              "type": "string"
            },
            "text/plain": [
              "'cdc currently reports deaths general discrepancies death counts different sources small applicable death toll stands roughly people today'"
            ]
          },
          "metadata": {},
          "execution_count": 53
        }
      ]
    },
    {
      "cell_type": "code",
      "source": [
        "def prep_string(data):\n",
        "  for i in range(len(data)): \n",
        "    data.iloc[i,1] = str(data.iloc[i,1]).replace('[','')\n",
        "    data.iloc[i,1] = str(data.iloc[i,1]).replace(']','')\n",
        "    data.iloc[i,1] = str(data.iloc[i,1]).replace(\"',\",'')\n",
        "    data.iloc[i,1] = str(data.iloc[i,1]).replace(\"'\",'')\n"
      ],
      "metadata": {
        "id": "ZIDqCCNY0ebm"
      },
      "execution_count": null,
      "outputs": []
    },
    {
      "cell_type": "code",
      "source": [
        "prep_string(train)\n",
        "prep_string(test)\n",
        "prep_string(val)\n",
        "train.to_csv(\"/content/drive/MyDrive/Thesis/Data/Filled Datasets/Second dataset (Kaggle)/Preprocessed/Constraint_Train_fullprep.csv\",index=False)\n",
        "test.to_csv(\"/content/drive/MyDrive/Thesis/Data/Filled Datasets/Second dataset (Kaggle)/Preprocessed/Constraint_Test_fullprep.csv\",index=False)\n",
        "val.to_csv(\"/content/drive/MyDrive/Thesis/Data/Filled Datasets/Second dataset (Kaggle)/Preprocessed/Constraint_Val_fullprep.csv\",index=False)"
      ],
      "metadata": {
        "id": "TrCMZwgR146L"
      },
      "execution_count": null,
      "outputs": []
    },
    {
      "cell_type": "code",
      "source": [
        "train_fp = pd.read_csv(\"Constraint_Train_fullprep.csv\")"
      ],
      "metadata": {
        "id": "78yl4PeD2Wl1"
      },
      "execution_count": null,
      "outputs": []
    },
    {
      "cell_type": "code",
      "source": [
        "train_fp.head(n=20)"
      ],
      "metadata": {
        "id": "NNfD3gtK2n0l",
        "outputId": "ee8f11e2-7034-4b2f-ee47-78709dc1934e",
        "colab": {
          "base_uri": "https://localhost:8080/",
          "height": 677
        }
      },
      "execution_count": null,
      "outputs": [
        {
          "output_type": "execute_result",
          "data": {
            "text/html": [
              "\n",
              "  <div id=\"df-5dd7337f-5f83-4282-aa20-f54a09fd1103\">\n",
              "    <div class=\"colab-df-container\">\n",
              "      <div>\n",
              "<style scoped>\n",
              "    .dataframe tbody tr th:only-of-type {\n",
              "        vertical-align: middle;\n",
              "    }\n",
              "\n",
              "    .dataframe tbody tr th {\n",
              "        vertical-align: top;\n",
              "    }\n",
              "\n",
              "    .dataframe thead th {\n",
              "        text-align: right;\n",
              "    }\n",
              "</style>\n",
              "<table border=\"1\" class=\"dataframe\">\n",
              "  <thead>\n",
              "    <tr style=\"text-align: right;\">\n",
              "      <th></th>\n",
              "      <th>id</th>\n",
              "      <th>tweet</th>\n",
              "      <th>label</th>\n",
              "    </tr>\n",
              "  </thead>\n",
              "  <tbody>\n",
              "    <tr>\n",
              "      <th>0</th>\n",
              "      <td>1</td>\n",
              "      <td>cdc currently reports deaths general discrepan...</td>\n",
              "      <td>real</td>\n",
              "    </tr>\n",
              "    <tr>\n",
              "      <th>1</th>\n",
              "      <td>2</td>\n",
              "      <td>states reported deaths small rise last tuesday...</td>\n",
              "      <td>real</td>\n",
              "    </tr>\n",
              "    <tr>\n",
              "      <th>2</th>\n",
              "      <td>3</td>\n",
              "      <td>politically correct woman almost uses pandemic...</td>\n",
              "      <td>fake</td>\n",
              "    </tr>\n",
              "    <tr>\n",
              "      <th>3</th>\n",
              "      <td>4</td>\n",
              "      <td>testing laboratories india th august tests don...</td>\n",
              "      <td>real</td>\n",
              "    </tr>\n",
              "    <tr>\n",
              "      <th>4</th>\n",
              "      <td>5</td>\n",
              "      <td>populous states generate large case counts loo...</td>\n",
              "      <td>real</td>\n",
              "    </tr>\n",
              "    <tr>\n",
              "      <th>5</th>\n",
              "      <td>6</td>\n",
              "      <td>covid act found average person illinois covid ...</td>\n",
              "      <td>real</td>\n",
              "    </tr>\n",
              "    <tr>\n",
              "      <th>6</th>\n",
              "      <td>7</td>\n",
              "      <td>tested positive symptoms stay home away people...</td>\n",
              "      <td>real</td>\n",
              "    </tr>\n",
              "    <tr>\n",
              "      <th>7</th>\n",
              "      <td>8</td>\n",
              "      <td>obama calls trumps coronavirus response chaoti...</td>\n",
              "      <td>fake</td>\n",
              "    </tr>\n",
              "    <tr>\n",
              "      <th>8</th>\n",
              "      <td>9</td>\n",
              "      <td>clearly obama administration leave kind game p...</td>\n",
              "      <td>fake</td>\n",
              "    </tr>\n",
              "    <tr>\n",
              "      <th>9</th>\n",
              "      <td>10</td>\n",
              "      <td>retractionhydroxychloroquine chloroquine witho...</td>\n",
              "      <td>fake</td>\n",
              "    </tr>\n",
              "    <tr>\n",
              "      <th>10</th>\n",
              "      <td>11</td>\n",
              "      <td>take simple daily precautions help prevent spr...</td>\n",
              "      <td>real</td>\n",
              "    </tr>\n",
              "    <tr>\n",
              "      <th>11</th>\n",
              "      <td>12</td>\n",
              "      <td>nba poised restart month march reported utah j...</td>\n",
              "      <td>fake</td>\n",
              "    </tr>\n",
              "    <tr>\n",
              "      <th>12</th>\n",
              "      <td>13</td>\n",
              "      <td>announced first participants age cohort dose p...</td>\n",
              "      <td>real</td>\n",
              "    </tr>\n",
              "    <tr>\n",
              "      <th>13</th>\n",
              "      <td>14</td>\n",
              "      <td>lakh tests done rd successive day cumulative t...</td>\n",
              "      <td>real</td>\n",
              "    </tr>\n",
              "    <tr>\n",
              "      <th>14</th>\n",
              "      <td>15</td>\n",
              "      <td>protect others using public transportation pra...</td>\n",
              "      <td>real</td>\n",
              "    </tr>\n",
              "    <tr>\n",
              "      <th>15</th>\n",
              "      <td>16</td>\n",
              "      <td>august till total positive cases amp related d...</td>\n",
              "      <td>real</td>\n",
              "    </tr>\n",
              "    <tr>\n",
              "      <th>16</th>\n",
              "      <td>17</td>\n",
              "      <td>donald trump s negligence incompetence people ...</td>\n",
              "      <td>fake</td>\n",
              "    </tr>\n",
              "    <tr>\n",
              "      <th>17</th>\n",
              "      <td>18</td>\n",
              "      <td>india continues scale new peaks tests lakh sam...</td>\n",
              "      <td>real</td>\n",
              "    </tr>\n",
              "    <tr>\n",
              "      <th>18</th>\n",
              "      <td>19</td>\n",
              "      <td>announced shipped dials mra company vaccine no...</td>\n",
              "      <td>real</td>\n",
              "    </tr>\n",
              "    <tr>\n",
              "      <th>19</th>\n",
              "      <td>20</td>\n",
              "      <td>multiple facebook posts claim aussie fined fou...</td>\n",
              "      <td>fake</td>\n",
              "    </tr>\n",
              "  </tbody>\n",
              "</table>\n",
              "</div>\n",
              "      <button class=\"colab-df-convert\" onclick=\"convertToInteractive('df-5dd7337f-5f83-4282-aa20-f54a09fd1103')\"\n",
              "              title=\"Convert this dataframe to an interactive table.\"\n",
              "              style=\"display:none;\">\n",
              "        \n",
              "  <svg xmlns=\"http://www.w3.org/2000/svg\" height=\"24px\"viewBox=\"0 0 24 24\"\n",
              "       width=\"24px\">\n",
              "    <path d=\"M0 0h24v24H0V0z\" fill=\"none\"/>\n",
              "    <path d=\"M18.56 5.44l.94 2.06.94-2.06 2.06-.94-2.06-.94-.94-2.06-.94 2.06-2.06.94zm-11 1L8.5 8.5l.94-2.06 2.06-.94-2.06-.94L8.5 2.5l-.94 2.06-2.06.94zm10 10l.94 2.06.94-2.06 2.06-.94-2.06-.94-.94-2.06-.94 2.06-2.06.94z\"/><path d=\"M17.41 7.96l-1.37-1.37c-.4-.4-.92-.59-1.43-.59-.52 0-1.04.2-1.43.59L10.3 9.45l-7.72 7.72c-.78.78-.78 2.05 0 2.83L4 21.41c.39.39.9.59 1.41.59.51 0 1.02-.2 1.41-.59l7.78-7.78 2.81-2.81c.8-.78.8-2.07 0-2.86zM5.41 20L4 18.59l7.72-7.72 1.47 1.35L5.41 20z\"/>\n",
              "  </svg>\n",
              "      </button>\n",
              "      \n",
              "  <style>\n",
              "    .colab-df-container {\n",
              "      display:flex;\n",
              "      flex-wrap:wrap;\n",
              "      gap: 12px;\n",
              "    }\n",
              "\n",
              "    .colab-df-convert {\n",
              "      background-color: #E8F0FE;\n",
              "      border: none;\n",
              "      border-radius: 50%;\n",
              "      cursor: pointer;\n",
              "      display: none;\n",
              "      fill: #1967D2;\n",
              "      height: 32px;\n",
              "      padding: 0 0 0 0;\n",
              "      width: 32px;\n",
              "    }\n",
              "\n",
              "    .colab-df-convert:hover {\n",
              "      background-color: #E2EBFA;\n",
              "      box-shadow: 0px 1px 2px rgba(60, 64, 67, 0.3), 0px 1px 3px 1px rgba(60, 64, 67, 0.15);\n",
              "      fill: #174EA6;\n",
              "    }\n",
              "\n",
              "    [theme=dark] .colab-df-convert {\n",
              "      background-color: #3B4455;\n",
              "      fill: #D2E3FC;\n",
              "    }\n",
              "\n",
              "    [theme=dark] .colab-df-convert:hover {\n",
              "      background-color: #434B5C;\n",
              "      box-shadow: 0px 1px 3px 1px rgba(0, 0, 0, 0.15);\n",
              "      filter: drop-shadow(0px 1px 2px rgba(0, 0, 0, 0.3));\n",
              "      fill: #FFFFFF;\n",
              "    }\n",
              "  </style>\n",
              "\n",
              "      <script>\n",
              "        const buttonEl =\n",
              "          document.querySelector('#df-5dd7337f-5f83-4282-aa20-f54a09fd1103 button.colab-df-convert');\n",
              "        buttonEl.style.display =\n",
              "          google.colab.kernel.accessAllowed ? 'block' : 'none';\n",
              "\n",
              "        async function convertToInteractive(key) {\n",
              "          const element = document.querySelector('#df-5dd7337f-5f83-4282-aa20-f54a09fd1103');\n",
              "          const dataTable =\n",
              "            await google.colab.kernel.invokeFunction('convertToInteractive',\n",
              "                                                     [key], {});\n",
              "          if (!dataTable) return;\n",
              "\n",
              "          const docLinkHtml = 'Like what you see? Visit the ' +\n",
              "            '<a target=\"_blank\" href=https://colab.research.google.com/notebooks/data_table.ipynb>data table notebook</a>'\n",
              "            + ' to learn more about interactive tables.';\n",
              "          element.innerHTML = '';\n",
              "          dataTable['output_type'] = 'display_data';\n",
              "          await google.colab.output.renderOutput(dataTable, element);\n",
              "          const docLink = document.createElement('div');\n",
              "          docLink.innerHTML = docLinkHtml;\n",
              "          element.appendChild(docLink);\n",
              "        }\n",
              "      </script>\n",
              "    </div>\n",
              "  </div>\n",
              "  "
            ],
            "text/plain": [
              "    id                                              tweet label\n",
              "0    1  cdc currently reports deaths general discrepan...  real\n",
              "1    2  states reported deaths small rise last tuesday...  real\n",
              "2    3  politically correct woman almost uses pandemic...  fake\n",
              "3    4  testing laboratories india th august tests don...  real\n",
              "4    5  populous states generate large case counts loo...  real\n",
              "5    6  covid act found average person illinois covid ...  real\n",
              "6    7  tested positive symptoms stay home away people...  real\n",
              "7    8  obama calls trumps coronavirus response chaoti...  fake\n",
              "8    9  clearly obama administration leave kind game p...  fake\n",
              "9   10  retractionhydroxychloroquine chloroquine witho...  fake\n",
              "10  11  take simple daily precautions help prevent spr...  real\n",
              "11  12  nba poised restart month march reported utah j...  fake\n",
              "12  13  announced first participants age cohort dose p...  real\n",
              "13  14  lakh tests done rd successive day cumulative t...  real\n",
              "14  15  protect others using public transportation pra...  real\n",
              "15  16  august till total positive cases amp related d...  real\n",
              "16  17  donald trump s negligence incompetence people ...  fake\n",
              "17  18  india continues scale new peaks tests lakh sam...  real\n",
              "18  19  announced shipped dials mra company vaccine no...  real\n",
              "19  20  multiple facebook posts claim aussie fined fou...  fake"
            ]
          },
          "metadata": {},
          "execution_count": 60
        }
      ]
    }
  ]
}