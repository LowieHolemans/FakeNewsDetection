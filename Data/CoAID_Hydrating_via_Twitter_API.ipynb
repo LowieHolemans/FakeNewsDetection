{
  "cells": [
    {
      "cell_type": "code",
      "source": [
        "from google.colab import drive\n",
        "drive.mount('/content/drive')"
      ],
      "metadata": {
        "colab": {
          "base_uri": "https://localhost:8080/"
        },
        "id": "1l-JQrsPuXtZ",
        "outputId": "b66b1a5c-2fd7-49b7-b676-689356d275f4"
      },
      "id": "1l-JQrsPuXtZ",
      "execution_count": 1,
      "outputs": [
        {
          "output_type": "stream",
          "name": "stdout",
          "text": [
            "Mounted at /content/drive\n"
          ]
        }
      ]
    },
    {
      "cell_type": "code",
      "source": [
        "import os \n",
        "os.chdir(\"/content/drive/MyDrive/Thesis/Data/retrieved tweets\")"
      ],
      "metadata": {
        "id": "xPrZ8vxDuVIx"
      },
      "id": "xPrZ8vxDuVIx",
      "execution_count": 2,
      "outputs": []
    },
    {
      "cell_type": "code",
      "execution_count": 3,
      "id": "63032ff3-ea8d-4e48-9962-14301dba4fea",
      "metadata": {
        "id": "63032ff3-ea8d-4e48-9962-14301dba4fea"
      },
      "outputs": [],
      "source": [
        "import pandas as pd\n",
        "\n",
        "folder = \"07-01-2020\"\n",
        "ftype = \"News\"\n",
        "ttype = \"Real\"\n",
        "reply = False \n",
        "\n",
        "if ftype == \"Claim\" :\n",
        "    n_id = 'claim_id'\n",
        "elif ftype == \"News\" :\n",
        "    n_id = 'news_id'\n",
        "\n",
        "if reply :\n",
        "    tweets = \"tweets_replies\"\n",
        "    t_id = \"reply_id\"\n",
        "else :\n",
        "    tweets = \"tweets\"\n",
        "    t_id = \"tweet_id\"\n",
        "    \n",
        "path_source = \"/content/drive/MyDrive/Thesis/Data/retrieved tweets/\" + folder + \"/\" + ftype + ttype + \"COVID-19_\" + tweets + \"_\" + folder +  \".txt\"\n",
        "path_target = \"/content/drive/MyDrive/Thesis/Data/Filled Datasets/\" + folder + \"/\" + ftype + ttype + \"COVID-19_\" + tweets + \"_\" + folder + \"_hydr.csv\"\n",
        "\n",
        "df = pd.read_csv(path_source)\n",
        "\n",
        "if reply :\n",
        "    df.set_axis([n_id,'tweet_id','reply_id'], axis=1, inplace=True)\n",
        "    df.tweet_id = df.tweet_id.astype(int)\n",
        "else :\n",
        "    df.set_axis([n_id,'tweet_id'], axis=1, inplace=True)\n",
        "    df.tweet_id = df.tweet_id.astype(int)"
      ]
    },
    {
      "cell_type": "code",
      "execution_count": 4,
      "id": "f455d293-1a6f-4de4-a8d6-0d9fd7c7a103",
      "metadata": {
        "id": "f455d293-1a6f-4de4-a8d6-0d9fd7c7a103",
        "outputId": "571dfc4a-b6bb-4f02-a38b-a13a1e28ed13",
        "colab": {
          "base_uri": "https://localhost:8080/",
          "height": 261
        }
      },
      "outputs": [
        {
          "output_type": "stream",
          "name": "stdout",
          "text": [
            "news_id     54224\n",
            "tweet_id    54224\n",
            "dtype: int64\n"
          ]
        },
        {
          "output_type": "execute_result",
          "data": {
            "text/plain": [
              "   news_id             tweet_id\n",
              "0     1558  1278459263720009736\n",
              "1     1558  1278390989032435713\n",
              "2     1558  1278368893246091264\n",
              "3     1558  1277714217186013188\n",
              "4     1558  1277189612218339328"
            ],
            "text/html": [
              "\n",
              "  <div id=\"df-440223d0-d851-405b-976a-eb6770d74ca1\">\n",
              "    <div class=\"colab-df-container\">\n",
              "      <div>\n",
              "<style scoped>\n",
              "    .dataframe tbody tr th:only-of-type {\n",
              "        vertical-align: middle;\n",
              "    }\n",
              "\n",
              "    .dataframe tbody tr th {\n",
              "        vertical-align: top;\n",
              "    }\n",
              "\n",
              "    .dataframe thead th {\n",
              "        text-align: right;\n",
              "    }\n",
              "</style>\n",
              "<table border=\"1\" class=\"dataframe\">\n",
              "  <thead>\n",
              "    <tr style=\"text-align: right;\">\n",
              "      <th></th>\n",
              "      <th>news_id</th>\n",
              "      <th>tweet_id</th>\n",
              "    </tr>\n",
              "  </thead>\n",
              "  <tbody>\n",
              "    <tr>\n",
              "      <th>0</th>\n",
              "      <td>1558</td>\n",
              "      <td>1278459263720009736</td>\n",
              "    </tr>\n",
              "    <tr>\n",
              "      <th>1</th>\n",
              "      <td>1558</td>\n",
              "      <td>1278390989032435713</td>\n",
              "    </tr>\n",
              "    <tr>\n",
              "      <th>2</th>\n",
              "      <td>1558</td>\n",
              "      <td>1278368893246091264</td>\n",
              "    </tr>\n",
              "    <tr>\n",
              "      <th>3</th>\n",
              "      <td>1558</td>\n",
              "      <td>1277714217186013188</td>\n",
              "    </tr>\n",
              "    <tr>\n",
              "      <th>4</th>\n",
              "      <td>1558</td>\n",
              "      <td>1277189612218339328</td>\n",
              "    </tr>\n",
              "  </tbody>\n",
              "</table>\n",
              "</div>\n",
              "      <button class=\"colab-df-convert\" onclick=\"convertToInteractive('df-440223d0-d851-405b-976a-eb6770d74ca1')\"\n",
              "              title=\"Convert this dataframe to an interactive table.\"\n",
              "              style=\"display:none;\">\n",
              "        \n",
              "  <svg xmlns=\"http://www.w3.org/2000/svg\" height=\"24px\"viewBox=\"0 0 24 24\"\n",
              "       width=\"24px\">\n",
              "    <path d=\"M0 0h24v24H0V0z\" fill=\"none\"/>\n",
              "    <path d=\"M18.56 5.44l.94 2.06.94-2.06 2.06-.94-2.06-.94-.94-2.06-.94 2.06-2.06.94zm-11 1L8.5 8.5l.94-2.06 2.06-.94-2.06-.94L8.5 2.5l-.94 2.06-2.06.94zm10 10l.94 2.06.94-2.06 2.06-.94-2.06-.94-.94-2.06-.94 2.06-2.06.94z\"/><path d=\"M17.41 7.96l-1.37-1.37c-.4-.4-.92-.59-1.43-.59-.52 0-1.04.2-1.43.59L10.3 9.45l-7.72 7.72c-.78.78-.78 2.05 0 2.83L4 21.41c.39.39.9.59 1.41.59.51 0 1.02-.2 1.41-.59l7.78-7.78 2.81-2.81c.8-.78.8-2.07 0-2.86zM5.41 20L4 18.59l7.72-7.72 1.47 1.35L5.41 20z\"/>\n",
              "  </svg>\n",
              "      </button>\n",
              "      \n",
              "  <style>\n",
              "    .colab-df-container {\n",
              "      display:flex;\n",
              "      flex-wrap:wrap;\n",
              "      gap: 12px;\n",
              "    }\n",
              "\n",
              "    .colab-df-convert {\n",
              "      background-color: #E8F0FE;\n",
              "      border: none;\n",
              "      border-radius: 50%;\n",
              "      cursor: pointer;\n",
              "      display: none;\n",
              "      fill: #1967D2;\n",
              "      height: 32px;\n",
              "      padding: 0 0 0 0;\n",
              "      width: 32px;\n",
              "    }\n",
              "\n",
              "    .colab-df-convert:hover {\n",
              "      background-color: #E2EBFA;\n",
              "      box-shadow: 0px 1px 2px rgba(60, 64, 67, 0.3), 0px 1px 3px 1px rgba(60, 64, 67, 0.15);\n",
              "      fill: #174EA6;\n",
              "    }\n",
              "\n",
              "    [theme=dark] .colab-df-convert {\n",
              "      background-color: #3B4455;\n",
              "      fill: #D2E3FC;\n",
              "    }\n",
              "\n",
              "    [theme=dark] .colab-df-convert:hover {\n",
              "      background-color: #434B5C;\n",
              "      box-shadow: 0px 1px 3px 1px rgba(0, 0, 0, 0.15);\n",
              "      filter: drop-shadow(0px 1px 2px rgba(0, 0, 0, 0.3));\n",
              "      fill: #FFFFFF;\n",
              "    }\n",
              "  </style>\n",
              "\n",
              "      <script>\n",
              "        const buttonEl =\n",
              "          document.querySelector('#df-440223d0-d851-405b-976a-eb6770d74ca1 button.colab-df-convert');\n",
              "        buttonEl.style.display =\n",
              "          google.colab.kernel.accessAllowed ? 'block' : 'none';\n",
              "\n",
              "        async function convertToInteractive(key) {\n",
              "          const element = document.querySelector('#df-440223d0-d851-405b-976a-eb6770d74ca1');\n",
              "          const dataTable =\n",
              "            await google.colab.kernel.invokeFunction('convertToInteractive',\n",
              "                                                     [key], {});\n",
              "          if (!dataTable) return;\n",
              "\n",
              "          const docLinkHtml = 'Like what you see? Visit the ' +\n",
              "            '<a target=\"_blank\" href=https://colab.research.google.com/notebooks/data_table.ipynb>data table notebook</a>'\n",
              "            + ' to learn more about interactive tables.';\n",
              "          element.innerHTML = '';\n",
              "          dataTable['output_type'] = 'display_data';\n",
              "          await google.colab.output.renderOutput(dataTable, element);\n",
              "          const docLink = document.createElement('div');\n",
              "          docLink.innerHTML = docLinkHtml;\n",
              "          element.appendChild(docLink);\n",
              "        }\n",
              "      </script>\n",
              "    </div>\n",
              "  </div>\n",
              "  "
            ]
          },
          "metadata": {},
          "execution_count": 4
        }
      ],
      "source": [
        "print(df.count())\n",
        "df.head()"
      ]
    },
    {
      "cell_type": "code",
      "execution_count": 5,
      "id": "121e6fce-e7ae-499e-8c6d-dc273b1dd400",
      "metadata": {
        "id": "121e6fce-e7ae-499e-8c6d-dc273b1dd400"
      },
      "outputs": [],
      "source": [
        "import requests\n",
        "import os\n",
        "import json"
      ]
    },
    {
      "cell_type": "code",
      "execution_count": 6,
      "id": "2ab0644f-0614-431c-89c5-78f449e302be",
      "metadata": {
        "id": "2ab0644f-0614-431c-89c5-78f449e302be"
      },
      "outputs": [],
      "source": [
        "with open('/content/drive/MyDrive/Thesis/Data/retrieved tweets/07-01-2020/bearer_token') as f:\n",
        "    bearer_token = f.read().strip()"
      ]
    },
    {
      "cell_type": "code",
      "execution_count": 7,
      "id": "70374406-033d-4add-8a6f-137f8d6c3525",
      "metadata": {
        "id": "70374406-033d-4add-8a6f-137f8d6c3525"
      },
      "outputs": [],
      "source": [
        "def create_url(ids):\n",
        "    tweet_fields = \"tweet.fields=author_id,created_at,text,in_reply_to_user_id,public_metrics,possibly_sensitive\"\n",
        "    # Tweet fields are adjustable.\n",
        "    # Options include:\n",
        "    # attachments, author_id, context_annotations,\n",
        "    # conversation_id, created_at, entities, geo, id,\n",
        "    # in_reply_to_user_id, lang, non_public_metrics, organic_metrics,\n",
        "    # possibly_sensitive, promoted_metrics, public_metrics, referenced_tweets,\n",
        "    # source, text, and withheld\n",
        "    ids = \"ids=\" + ids\n",
        "    url = \"https://api.twitter.com/2/tweets?{}&{}\".format(ids, tweet_fields)\n",
        "    return url"
      ]
    },
    {
      "cell_type": "code",
      "execution_count": 8,
      "id": "c8437aba-88ac-4cff-908c-fe19c58bcd1d",
      "metadata": {
        "id": "c8437aba-88ac-4cff-908c-fe19c58bcd1d"
      },
      "outputs": [],
      "source": [
        "def bearer_oauth(r):\n",
        "    # Method required by bearer token authentication.\n",
        "    r.headers[\"Authorization\"] = f\"Bearer {bearer_token}\"\n",
        "    r.headers[\"User-Agent\"] = \"v2TweetLookupPython\"\n",
        "    return r"
      ]
    },
    {
      "cell_type": "code",
      "execution_count": 9,
      "id": "df7a034a-0bdc-4c42-b369-1a88dfd5acb6",
      "metadata": {
        "id": "df7a034a-0bdc-4c42-b369-1a88dfd5acb6"
      },
      "outputs": [],
      "source": [
        "def connect_to_endpoint(url):\n",
        "    response = requests.request(\"GET\", url, auth=bearer_oauth)\n",
        "    print(response.status_code)\n",
        "    if response.status_code != 200:\n",
        "        raise Exception(\n",
        "            \"Request returned an error: {} {}\".format(\n",
        "                response.status_code, response.text\n",
        "            )\n",
        "        )\n",
        "    return response.json()"
      ]
    },
    {
      "cell_type": "code",
      "source": [
        "import time "
      ],
      "metadata": {
        "id": "mHkKfljF5WBj"
      },
      "id": "mHkKfljF5WBj",
      "execution_count": 10,
      "outputs": []
    },
    {
      "cell_type": "code",
      "execution_count": null,
      "id": "218f8b2c-1ca9-4d39-92e5-50a838e99590",
      "metadata": {
        "id": "218f8b2c-1ca9-4d39-92e5-50a838e99590"
      },
      "outputs": [],
      "source": [
        "ids = df[t_id].astype(str).drop_duplicates().to_list()\n",
        "l = len(ids)\n",
        "df2 = pd.DataFrame()\n",
        "for i in range(0,l,100):\n",
        "    idstr = ','.join(ids[i:i+100])\n",
        "    url = create_url(idstr)\n",
        "    json_response = connect_to_endpoint(url)\n",
        "    df2 = pd.concat([df2,pd.DataFrame(json_response[\"data\"])],axis=0)\n",
        "    time.sleep(2)"
      ]
    },
    {
      "cell_type": "code",
      "execution_count": null,
      "id": "549bb01b-2161-4776-8b80-8c9a3257dc9f",
      "metadata": {
        "id": "549bb01b-2161-4776-8b80-8c9a3257dc9f"
      },
      "outputs": [],
      "source": [
        "df2.id = df2.id.astype(int)\n",
        "df2 = df2.rename({'id': t_id},axis=1)\n",
        "print(df2.count())"
      ]
    },
    {
      "cell_type": "code",
      "execution_count": null,
      "id": "ba3a6b6e-7ca7-48de-b835-184b30f61852",
      "metadata": {
        "id": "ba3a6b6e-7ca7-48de-b835-184b30f61852"
      },
      "outputs": [],
      "source": [
        "df2.head(10)"
      ]
    },
    {
      "cell_type": "code",
      "execution_count": 13,
      "id": "df9774e2-8532-403b-b148-dad6dcc9a649",
      "metadata": {
        "id": "df9774e2-8532-403b-b148-dad6dcc9a649"
      },
      "outputs": [],
      "source": [
        "df3 = df.merge(df2,on=t_id,how='left')"
      ]
    },
    {
      "cell_type": "code",
      "source": [
        "len(df3)"
      ],
      "metadata": {
        "id": "AeWQgDK82Z9s"
      },
      "id": "AeWQgDK82Z9s",
      "execution_count": null,
      "outputs": []
    },
    {
      "cell_type": "code",
      "execution_count": null,
      "id": "92ed2fb0-7187-49ea-859c-70dabff40348",
      "metadata": {
        "id": "92ed2fb0-7187-49ea-859c-70dabff40348"
      },
      "outputs": [],
      "source": [
        "df3.head(10)"
      ]
    },
    {
      "cell_type": "code",
      "execution_count": null,
      "id": "84e55358-ba1f-4d7a-bdcc-f026e6a0ee82",
      "metadata": {
        "id": "84e55358-ba1f-4d7a-bdcc-f026e6a0ee82"
      },
      "outputs": [],
      "source": [
        "df3.count()"
      ]
    },
    {
      "cell_type": "code",
      "execution_count": null,
      "id": "342965fb-ae35-4743-8055-1eaac3aa43b2",
      "metadata": {
        "id": "342965fb-ae35-4743-8055-1eaac3aa43b2"
      },
      "outputs": [],
      "source": [
        "df3.to_csv(path_target)"
      ]
    }
  ],
  "metadata": {
    "kernelspec": {
      "display_name": "Python 3 (ipykernel)",
      "language": "python",
      "name": "python3"
    },
    "language_info": {
      "codemirror_mode": {
        "name": "ipython",
        "version": 3
      },
      "file_extension": ".py",
      "mimetype": "text/x-python",
      "name": "python",
      "nbconvert_exporter": "python",
      "pygments_lexer": "ipython3",
      "version": "3.9.9"
    },
    "colab": {
      "name": "CoAID Hydrating via Twitter API.ipynb",
      "provenance": []
    }
  },
  "nbformat": 4,
  "nbformat_minor": 5
}