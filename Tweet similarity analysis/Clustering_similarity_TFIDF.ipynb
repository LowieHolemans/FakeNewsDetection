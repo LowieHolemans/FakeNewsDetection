{
  "cells": [
    {
      "cell_type": "code",
      "execution_count": null,
      "id": "245dae88-19d5-40b9-9b34-cd475aeee7ef",
      "metadata": {
        "id": "245dae88-19d5-40b9-9b34-cd475aeee7ef"
      },
      "outputs": [],
      "source": [
        "import os \n",
        "import pandas as pd \n",
        "os.chdir(\"/home/lowie/data/\")\n",
        "coaid = pd.read_csv(\"textcols_tweets_newstext_added_preprocessed.csv\",keep_default_na = False)"
      ]
    },
    {
      "cell_type": "code",
      "execution_count": null,
      "id": "8b4f5cfb-30f4-439a-9b74-f02de31837eb",
      "metadata": {
        "id": "8b4f5cfb-30f4-439a-9b74-f02de31837eb"
      },
      "outputs": [],
      "source": [
        "coaid = coaid.sample(n=10000) #had to take a sample becasuse memory size not big enough when using all coaid data"
      ]
    },
    {
      "cell_type": "code",
      "execution_count": null,
      "id": "fdb59aea-2bc2-4b80-862b-3aed400be569",
      "metadata": {
        "id": "fdb59aea-2bc2-4b80-862b-3aed400be569"
      },
      "outputs": [],
      "source": [
        "def get_jaccard_sim(str1, str2):\n",
        "   a = set(str1.split())\n",
        "   b = set(str2.split())\n",
        "   c = a.intersection(b)\n",
        "   return float(len(c)) / (len(a) + len(b) - len(c))"
      ]
    },
    {
      "cell_type": "code",
      "execution_count": null,
      "id": "58eaa229-9976-44bd-af3d-b061f86bceb8",
      "metadata": {
        "id": "58eaa229-9976-44bd-af3d-b061f86bceb8"
      },
      "outputs": [],
      "source": [
        "def calc_avg_sim(data): \n",
        "    total = 0 \n",
        "    teller = 0\n",
        "    for i in range(len(data['text'])): \n",
        "        if i%100 == 0: \n",
        "            print(i)\n",
        "        for j in range(i+1,len(data['text'])):\n",
        "            total = total + get_jaccard_sim(data.iloc[i,0],data.iloc[j,0])\n",
        "            teller = teller + 1 \n",
        "\n",
        "    avg_sim = total/teller\n",
        "\n",
        "    return avg_sim"
      ]
    },
    {
      "cell_type": "markdown",
      "id": "c65a3004-9972-47e8-afa0-a3925a729917",
      "metadata": {
        "id": "c65a3004-9972-47e8-afa0-a3925a729917"
      },
      "source": [
        "Code for finding optimal number of clusters: \n"
      ]
    },
    {
      "cell_type": "code",
      "execution_count": null,
      "id": "9674ee9f-f104-4d4f-a190-2f3fae36b22d",
      "metadata": {
        "id": "9674ee9f-f104-4d4f-a190-2f3fae36b22d"
      },
      "outputs": [],
      "source": [
        "def cluster_text(text):\n",
        "    vectorizer = TfidfVectorizer(stop_words={'english'})\n",
        "    X = vectorizer.fit_transform(text)\n",
        "\n",
        "    import matplotlib.pyplot as plt\n",
        "    from sklearn.cluster import KMeans\n",
        "    Sum_of_squared_distances = []\n",
        "    K = range(2,10)\n",
        "    for k in K:\n",
        "       km = KMeans(n_clusters=k, max_iter=200, n_init=10)\n",
        "       km = km.fit(X)\n",
        "       Sum_of_squared_distances.append(km.inertia_)\n",
        "    plt.plot(K, Sum_of_squared_distances, 'bx-')\n",
        "    plt.xlabel('k')\n",
        "    plt.ylabel('Sum_of_squared_distances')\n",
        "    plt.title('Elbow Method For Optimal k')\n",
        "    plt.show()\n",
        "\n",
        "    print('How many clusters do you want to use?')\n",
        "    true_k = int(input())\n",
        "    model = KMeans(n_clusters=true_k, init='k-means++', max_iter=200, n_init=10)\n",
        "    model.fit(X)\n",
        "\n",
        "    labels=model.labels_\n",
        "    clusters=pd.DataFrame(list(zip(text,labels)),columns=['title','cluster'])\n",
        "    #print(clusters.sort_values(by=['cluster']))\n",
        "\n",
        "    for i in range(true_k):\n",
        "        print(clusters[clusters['cluster'] == i])\n",
        "        \n",
        "    return clusters"
      ]
    },
    {
      "cell_type": "code",
      "execution_count": null,
      "id": "c1d54621-850c-4e42-9914-9732737d09a8",
      "metadata": {
        "id": "c1d54621-850c-4e42-9914-9732737d09a8"
      },
      "outputs": [],
      "source": [
        "txt = coaid['text']\n",
        "txt_list = list(txt)"
      ]
    },
    {
      "cell_type": "code",
      "execution_count": null,
      "id": "21269a80-b645-456b-9f07-e2c31133f4a1",
      "metadata": {
        "id": "21269a80-b645-456b-9f07-e2c31133f4a1",
        "outputId": "a2b3fbe0-1ebd-4c51-dc22-f28f7cc274af"
      },
      "outputs": [
        {
          "data": {
            "image/png": "[encoded data removed]",
            "text/plain": [
              "<Figure size 432x288 with 1 Axes>"
            ]
          },
          "metadata": {
            "needs_background": "light"
          },
          "output_type": "display_data"
        },
        {
          "name": "stdout",
          "output_type": "stream",
          "text": [
            "How many clusters do you want to use?\n"
          ]
        },
        {
          "name": "stdin",
          "output_type": "stream",
          "text": [
            " 7\n"
          ]
        },
        {
          "name": "stdout",
          "output_type": "stream",
          "text": [
            "                                                  title  cluster\n",
            "0                   pandemic silver lining better sleep        0\n",
            "3     stay safe home disinfecting surfaces wiping ha...        0\n",
            "7           sports country reopening safe play softball        0\n",
            "8     vereine gap testing capacity actual tests incr...        0\n",
            "10    watching people grappling science viii increas...        0\n",
            "...                                                 ...      ...\n",
            "9987  n t miss summer money camp welcome take advant...        0\n",
            "9988  mark calendars may global day giving emergency...        0\n",
            "9989  unbelievable increases deaths week the ttc ret...        0\n",
            "9990  nyc loose k every year flu coronavirus way con...        0\n",
            "9993  re serious fixing racial disparities need thin...        0\n",
            "\n",
            "[5370 rows x 2 columns]\n",
            "                                                  title  cluster\n",
            "5     nih clinical trial shows remdesivir accelerate...        1\n",
            "153    nih clinical trial remdesivir treat covid begins        1\n",
            "166   nih begins study quantify undetected cases cor...        1\n",
            "243   nih halts clinical trial hydroxychloroquine fi...        1\n",
            "363   top tweet nih clinical trial testing antiviral...        1\n",
            "...                                                 ...      ...\n",
            "9845  nih begins study quantify undetected cases cor...        1\n",
            "9897  nih clinical trial investigations vaccine covi...        1\n",
            "9938  nih clinical trial hydroxychloroquine potentia...        1\n",
            "9977  nih launches clinical trial hydroxychloroquine...        1\n",
            "9998  nih clinical trial investigations vaccine covi...        1\n",
            "\n",
            "[176 rows x 2 columns]\n",
            "                                                  title  cluster\n",
            "6              spread coronavirus cancels travel events        2\n",
            "12               karen telling doctors coronavirus hoax        2\n",
            "20    centers disease control prevention jan announc...        2\n",
            "22    severe outcomes among patients coronavirus dis...        2\n",
            "25                 seniors need coronavirus precautions        2\n",
            "...                                                 ...      ...\n",
            "9971  children living isolation school closures coro...        2\n",
            "9976  breaking scientists confirm coronavirus man ma...        2\n",
            "9991  researchers found half patients treated mild c...        2\n",
            "9995  united nations human settlements programme un ...        2\n",
            "9999  coronavirus symptoms cdc adds six new symptoms...        2\n",
            "\n",
            "[1280 rows x 2 columns]\n",
            "                                                  title  cluster\n",
            "13    think people still lot confusion regarding sic...        3\n",
            "21    people without obvious symptoms may able sprea...        3\n",
            "28    face masks stands recommendation wear sick car...        3\n",
            "151   personal protective equipment face coronavirus...        3\n",
            "179   cdc use cloth face covering help slow spread c...        3\n",
            "...                                                 ...      ...\n",
            "9859  texas amp study face masks critical preventing...        3\n",
            "9941                  contagious likely know youre sick        3\n",
            "9985  bill linda gates foundation amp others predict...        3\n",
            "9992  use cloth face covering help slow spread covid...        3\n",
            "9996                  contagious likely know youre sick        3\n",
            "\n",
            "[301 rows x 2 columns]\n",
            "                                                  title  cluster\n",
            "1     antiviral remdesivir prevents disease progress...        4\n",
            "2        uk local authorities ready number deaths covid        4\n",
            "4     said covid testing dont test dont cases stoppe...        4\n",
            "9     tillamook county public health department anno...        4\n",
            "16    covid planning considerations guidance school ...        4\n",
            "...                                                 ...      ...\n",
            "9973  global day giving unity take place may emergen...        4\n",
            "9974  releases guidelines help countries maintain es...        4\n",
            "9975  s drunk trash dog cats british prom log gram l...        4\n",
            "9994  looms bros circus slated take cruel animal act...        4\n",
            "9997  covid could seasonal face warns coronavirus li...        4\n",
            "\n",
            "[2447 rows x 2 columns]\n",
            "                                                  title  cluster\n",
            "83    george mcinerney finds interesting new technol...        5\n",
            "97    much infodemics making rounds different social...        5\n",
            "100   oh much missed something symptoms exposed hope...        5\n",
            "131   via need know keeping workplaces homes schools...        5\n",
            "254   coronavirus disease covid environmental cleani...        5\n",
            "...                                                 ...      ...\n",
            "9862                           outfield media virus via        5\n",
            "9957  influenza contagious virus yet develop herd im...        5\n",
            "9965  warehouse corona virus covid disinfecting clea...        5\n",
            "9968  need unemployment aid questions snap visit lea...        5\n",
            "9984  new ucl research identifies late study infecte...        5\n",
            "\n",
            "[360 rows x 2 columns]\n",
            "                                                  title  cluster\n",
            "77    new coronavirus stable hours surfaces national...        6\n",
            "459               new coronavirus stable hours surfaces        6\n",
            "614   new coronavirus stable hours surfaces national...        6\n",
            "1496     new coronavirus says cov stable hours surfaces        6\n",
            "1758              new coronavirus stable hours surfaces        6\n",
            "...                                                 ...      ...\n",
            "8568              new coronavirus stable hours surfaces        6\n",
            "8924  new coronavirus stable hours surfaces nih nati...        6\n",
            "9267  new coronavirus stable hours surfaces medical ...        6\n",
            "9506  new coronavirus stable hours surfaces national...        6\n",
            "9911  new coronavirus stable hours surfaces watch hi...        6\n",
            "\n",
            "[66 rows x 2 columns]\n"
          ]
        }
      ],
      "source": [
        "clusters = cluster_text(txt_list)"
      ]
    },
    {
      "cell_type": "code",
      "execution_count": null,
      "id": "2f1f2031-7991-433f-8431-ccb882b2b266",
      "metadata": {
        "id": "2f1f2031-7991-433f-8431-ccb882b2b266",
        "outputId": "b5fcf597-1048-4e0a-e3a6-a019239d7a56"
      },
      "outputs": [
        {
          "data": {
            "text/html": [
              "<div>\n",
              "<style scoped>\n",
              "    .dataframe tbody tr th:only-of-type {\n",
              "        vertical-align: middle;\n",
              "    }\n",
              "\n",
              "    .dataframe tbody tr th {\n",
              "        vertical-align: top;\n",
              "    }\n",
              "\n",
              "    .dataframe thead th {\n",
              "        text-align: right;\n",
              "    }\n",
              "</style>\n",
              "<table border=\"1\" class=\"dataframe\">\n",
              "  <thead>\n",
              "    <tr style=\"text-align: right;\">\n",
              "      <th></th>\n",
              "      <th>text</th>\n",
              "      <th>cluster</th>\n",
              "    </tr>\n",
              "  </thead>\n",
              "  <tbody>\n",
              "    <tr>\n",
              "      <th>0</th>\n",
              "      <td>pandemic silver lining better sleep</td>\n",
              "      <td>0</td>\n",
              "    </tr>\n",
              "    <tr>\n",
              "      <th>1</th>\n",
              "      <td>antiviral remdesivir prevents disease progress...</td>\n",
              "      <td>4</td>\n",
              "    </tr>\n",
              "    <tr>\n",
              "      <th>2</th>\n",
              "      <td>uk local authorities ready number deaths covid</td>\n",
              "      <td>4</td>\n",
              "    </tr>\n",
              "    <tr>\n",
              "      <th>3</th>\n",
              "      <td>stay safe home disinfecting surfaces wiping ha...</td>\n",
              "      <td>0</td>\n",
              "    </tr>\n",
              "    <tr>\n",
              "      <th>4</th>\n",
              "      <td>said covid testing dont test dont cases stoppe...</td>\n",
              "      <td>4</td>\n",
              "    </tr>\n",
              "    <tr>\n",
              "      <th>...</th>\n",
              "      <td>...</td>\n",
              "      <td>...</td>\n",
              "    </tr>\n",
              "    <tr>\n",
              "      <th>9995</th>\n",
              "      <td>united nations human settlements programme un ...</td>\n",
              "      <td>2</td>\n",
              "    </tr>\n",
              "    <tr>\n",
              "      <th>9996</th>\n",
              "      <td>contagious likely know youre sick</td>\n",
              "      <td>3</td>\n",
              "    </tr>\n",
              "    <tr>\n",
              "      <th>9997</th>\n",
              "      <td>covid could seasonal face warns coronavirus li...</td>\n",
              "      <td>4</td>\n",
              "    </tr>\n",
              "    <tr>\n",
              "      <th>9998</th>\n",
              "      <td>nih clinical trial investigations vaccine covi...</td>\n",
              "      <td>1</td>\n",
              "    </tr>\n",
              "    <tr>\n",
              "      <th>9999</th>\n",
              "      <td>coronavirus symptoms cdc adds six new symptoms...</td>\n",
              "      <td>2</td>\n",
              "    </tr>\n",
              "  </tbody>\n",
              "</table>\n",
              "<p>10000 rows × 2 columns</p>\n",
              "</div>"
            ],
            "text/plain": [
              "                                                   text  cluster\n",
              "0                   pandemic silver lining better sleep        0\n",
              "1     antiviral remdesivir prevents disease progress...        4\n",
              "2        uk local authorities ready number deaths covid        4\n",
              "3     stay safe home disinfecting surfaces wiping ha...        0\n",
              "4     said covid testing dont test dont cases stoppe...        4\n",
              "...                                                 ...      ...\n",
              "9995  united nations human settlements programme un ...        2\n",
              "9996                  contagious likely know youre sick        3\n",
              "9997  covid could seasonal face warns coronavirus li...        4\n",
              "9998  nih clinical trial investigations vaccine covi...        1\n",
              "9999  coronavirus symptoms cdc adds six new symptoms...        2\n",
              "\n",
              "[10000 rows x 2 columns]"
            ]
          },
          "execution_count": 46,
          "metadata": {},
          "output_type": "execute_result"
        }
      ],
      "source": [
        "clusters = clusters.rename(columns={\"title\": \"text\"})\n",
        "clusters"
      ]
    },
    {
      "cell_type": "code",
      "execution_count": null,
      "id": "3b82a664-fb73-4507-96b8-65de36e90276",
      "metadata": {
        "id": "3b82a664-fb73-4507-96b8-65de36e90276"
      },
      "outputs": [],
      "source": [
        "df0 = clusters.loc[clusters['cluster'] == 0]\n",
        "df1 = clusters.loc[clusters['cluster'] == 1]\n",
        "df2 = clusters.loc[clusters['cluster'] == 2]\n",
        "df3 = clusters.loc[clusters['cluster'] == 3]\n",
        "df4 = clusters.loc[clusters['cluster'] == 4]\n",
        "df5 = clusters.loc[clusters['cluster'] == 5]\n",
        "df6 = clusters.loc[clusters['cluster'] == 6]\n"
      ]
    },
    {
      "cell_type": "code",
      "execution_count": null,
      "id": "8c467d8c-85a5-4718-90c2-7fbf945adb59",
      "metadata": {
        "id": "8c467d8c-85a5-4718-90c2-7fbf945adb59",
        "outputId": "afdaaa8f-0259-4181-cb5c-2b4d0cd2d66a"
      },
      "outputs": [
        {
          "name": "stdout",
          "output_type": "stream",
          "text": [
            "0\n",
            "100\n",
            "200\n",
            "300\n",
            "400\n",
            "500\n",
            "600\n",
            "700\n",
            "800\n",
            "900\n",
            "1000\n",
            "1100\n",
            "1200\n",
            "1300\n",
            "1400\n",
            "1500\n",
            "1600\n",
            "1700\n",
            "1800\n",
            "1900\n",
            "2000\n",
            "2100\n",
            "2200\n",
            "2300\n",
            "2400\n",
            "2500\n",
            "2600\n",
            "2700\n",
            "2800\n",
            "2900\n",
            "3000\n",
            "3100\n",
            "3200\n",
            "3300\n",
            "3400\n",
            "3500\n",
            "3600\n",
            "3700\n",
            "3800\n",
            "3900\n",
            "4000\n",
            "4100\n",
            "4200\n",
            "4300\n",
            "4400\n",
            "4500\n",
            "4600\n",
            "4700\n",
            "4800\n",
            "4900\n",
            "5000\n",
            "5100\n",
            "5200\n",
            "5300\n",
            "0\n",
            "100\n",
            "0\n",
            "100\n",
            "200\n",
            "300\n",
            "400\n",
            "500\n",
            "600\n",
            "700\n",
            "800\n",
            "900\n",
            "1000\n",
            "1100\n",
            "1200\n",
            "0\n",
            "100\n",
            "200\n",
            "300\n",
            "0\n",
            "100\n",
            "200\n",
            "300\n",
            "400\n",
            "500\n",
            "600\n",
            "700\n",
            "800\n",
            "900\n",
            "1000\n",
            "1100\n",
            "1200\n",
            "1300\n",
            "1400\n",
            "1500\n",
            "1600\n",
            "1700\n",
            "1800\n",
            "1900\n",
            "2000\n",
            "2100\n",
            "2200\n",
            "2300\n",
            "2400\n",
            "0\n",
            "100\n",
            "200\n",
            "300\n",
            "0\n"
          ]
        }
      ],
      "source": [
        "total = (calc_avg_sim(df0)+calc_avg_sim(df1)+calc_avg_sim(df2)+calc_avg_sim(df3)+calc_avg_sim(df4)+calc_avg_sim(df5)+calc_avg_sim(df6))/7\n"
      ]
    }
  ],
  "metadata": {
    "kernelspec": {
      "display_name": "ML",
      "language": "python",
      "name": "ml"
    },
    "language_info": {
      "codemirror_mode": {
        "name": "ipython",
        "version": 3
      },
      "file_extension": ".py",
      "mimetype": "text/x-python",
      "name": "python",
      "nbconvert_exporter": "python",
      "pygments_lexer": "ipython3",
      "version": "3.8.12"
    },
    "colab": {
      "name": "Kopie van Clustering_similarity.ipynb",
      "provenance": []
    }
  },
  "nbformat": 4,
  "nbformat_minor": 5
}
