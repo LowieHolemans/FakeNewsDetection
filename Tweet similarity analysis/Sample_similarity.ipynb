{
  "cells": [
    {
      "cell_type": "code",
      "execution_count": null,
      "id": "c183186f-c665-4366-a803-5ec36f24ce6a",
      "metadata": {
        "id": "c183186f-c665-4366-a803-5ec36f24ce6a"
      },
      "outputs": [],
      "source": [
        "import pandas as pd \n",
        "import os \n",
        "os.chdir('/home/lowie/data/')\n",
        "coaid_full = pd.read_csv(\"textcols_tweets_newstext_added_preprocessed.csv\",keep_default_na=False)\n",
        "covid_full = pd.read_csv(\"combined_train_val.csv\",keep_default_na=False)"
      ]
    },
    {
      "cell_type": "code",
      "execution_count": null,
      "id": "b9a0567b-305e-4328-b40e-944b7beec95e",
      "metadata": {
        "id": "b9a0567b-305e-4328-b40e-944b7beec95e",
        "outputId": "89aa8646-05b0-4b9a-9271-22db02d24de4"
      },
      "outputs": [
        {
          "data": {
            "text/plain": [
              "8558"
            ]
          },
          "execution_count": 10,
          "metadata": {},
          "output_type": "execute_result"
        }
      ],
      "source": [
        "len(covid_full)"
      ]
    },
    {
      "cell_type": "code",
      "execution_count": null,
      "id": "de896b70-459f-419c-a29a-6e4a5fd87e83",
      "metadata": {
        "id": "de896b70-459f-419c-a29a-6e4a5fd87e83",
        "outputId": "053062d2-ca75-4fb2-da83-71a8f58f4c6d"
      },
      "outputs": [
        {
          "data": {
            "text/plain": [
              "'coronavirus outbreak live updates ref worst affected among security forces test'"
            ]
          },
          "execution_count": 2,
          "metadata": {},
          "output_type": "execute_result"
        }
      ],
      "source": [
        "coaid_full.iloc[0,0]"
      ]
    },
    {
      "cell_type": "markdown",
      "id": "2634ab70-d59d-4aeb-b20e-335c26f307d6",
      "metadata": {
        "id": "2634ab70-d59d-4aeb-b20e-335c26f307d6"
      },
      "source": [
        "Calculating the similarity metrics on all data would take 11 days. Let's therefore take a random subsample of 1000 datapoints, which should take 2.5h for the Jaccard metric to be calculated. "
      ]
    },
    {
      "cell_type": "code",
      "execution_count": null,
      "id": "3d6222ed-e50e-4bbe-ab95-8ada6160e316",
      "metadata": {
        "id": "3d6222ed-e50e-4bbe-ab95-8ada6160e316"
      },
      "outputs": [],
      "source": [
        "coaid = coaid_full.sample(n = 10000)\n",
        "covid = covid_full #no sample bcs is only 8558 rows"
      ]
    },
    {
      "cell_type": "code",
      "execution_count": null,
      "id": "75893cd4-3c90-4fee-98d3-720c9a353535",
      "metadata": {
        "id": "75893cd4-3c90-4fee-98d3-720c9a353535"
      },
      "outputs": [],
      "source": [
        "def get_jaccard_sim(str1, str2):\n",
        "   a = set(str1.split())\n",
        "   b = set(str2.split())\n",
        "   c = a.intersection(b)\n",
        "   return float(len(c)) / (len(a) + len(b) - len(c))"
      ]
    },
    {
      "cell_type": "code",
      "execution_count": null,
      "id": "09a864fc-5acb-4502-9916-4c86cc23015d",
      "metadata": {
        "id": "09a864fc-5acb-4502-9916-4c86cc23015d",
        "outputId": "66f8bb7e-440c-4c1b-a453-688282d50c9e"
      },
      "outputs": [
        {
          "name": "stdout",
          "output_type": "stream",
          "text": [
            "0\n",
            "100\n",
            "200\n"
          ]
        },
        {
          "ename": "ZeroDivisionError",
          "evalue": "float division by zero",
          "output_type": "error",
          "traceback": [
            "\u001b[0;31m---------------------------------------------------------------------------\u001b[0m",
            "\u001b[0;31mZeroDivisionError\u001b[0m                         Traceback (most recent call last)",
            "\u001b[0;32m/tmp/ipykernel_40399/904892539.py\u001b[0m in \u001b[0;36m<module>\u001b[0;34m\u001b[0m\n\u001b[1;32m      6\u001b[0m         \u001b[0mprint\u001b[0m\u001b[0;34m(\u001b[0m\u001b[0mi\u001b[0m\u001b[0;34m)\u001b[0m\u001b[0;34m\u001b[0m\u001b[0;34m\u001b[0m\u001b[0m\n\u001b[1;32m      7\u001b[0m     \u001b[0;32mfor\u001b[0m \u001b[0mj\u001b[0m \u001b[0;32min\u001b[0m \u001b[0mrange\u001b[0m\u001b[0;34m(\u001b[0m\u001b[0mi\u001b[0m\u001b[0;34m+\u001b[0m\u001b[0;36m1\u001b[0m\u001b[0;34m,\u001b[0m\u001b[0mlen\u001b[0m\u001b[0;34m(\u001b[0m\u001b[0mcoaid\u001b[0m\u001b[0;34m[\u001b[0m\u001b[0;34m'text'\u001b[0m\u001b[0;34m]\u001b[0m\u001b[0;34m)\u001b[0m\u001b[0;34m)\u001b[0m\u001b[0;34m:\u001b[0m\u001b[0;34m\u001b[0m\u001b[0;34m\u001b[0m\u001b[0m\n\u001b[0;32m----> 8\u001b[0;31m         \u001b[0mtotal\u001b[0m \u001b[0;34m=\u001b[0m \u001b[0mtotal\u001b[0m \u001b[0;34m+\u001b[0m \u001b[0mget_jaccard_sim\u001b[0m\u001b[0;34m(\u001b[0m\u001b[0mcoaid\u001b[0m\u001b[0;34m.\u001b[0m\u001b[0miloc\u001b[0m\u001b[0;34m[\u001b[0m\u001b[0mi\u001b[0m\u001b[0;34m,\u001b[0m\u001b[0;36m0\u001b[0m\u001b[0;34m]\u001b[0m\u001b[0;34m,\u001b[0m\u001b[0mcoaid\u001b[0m\u001b[0;34m.\u001b[0m\u001b[0miloc\u001b[0m\u001b[0;34m[\u001b[0m\u001b[0mj\u001b[0m\u001b[0;34m,\u001b[0m\u001b[0;36m0\u001b[0m\u001b[0;34m]\u001b[0m\u001b[0;34m)\u001b[0m\u001b[0;34m\u001b[0m\u001b[0;34m\u001b[0m\u001b[0m\n\u001b[0m\u001b[1;32m      9\u001b[0m         \u001b[0mteller\u001b[0m \u001b[0;34m=\u001b[0m \u001b[0mteller\u001b[0m \u001b[0;34m+\u001b[0m \u001b[0;36m1\u001b[0m\u001b[0;34m\u001b[0m\u001b[0;34m\u001b[0m\u001b[0m\n\u001b[1;32m     10\u001b[0m \u001b[0;34m\u001b[0m\u001b[0m\n",
            "\u001b[0;32m/tmp/ipykernel_40399/2187992766.py\u001b[0m in \u001b[0;36mget_jaccard_sim\u001b[0;34m(str1, str2)\u001b[0m\n\u001b[1;32m      3\u001b[0m    \u001b[0mb\u001b[0m \u001b[0;34m=\u001b[0m \u001b[0mset\u001b[0m\u001b[0;34m(\u001b[0m\u001b[0mstr2\u001b[0m\u001b[0;34m.\u001b[0m\u001b[0msplit\u001b[0m\u001b[0;34m(\u001b[0m\u001b[0;34m)\u001b[0m\u001b[0;34m)\u001b[0m\u001b[0;34m\u001b[0m\u001b[0;34m\u001b[0m\u001b[0m\n\u001b[1;32m      4\u001b[0m    \u001b[0mc\u001b[0m \u001b[0;34m=\u001b[0m \u001b[0ma\u001b[0m\u001b[0;34m.\u001b[0m\u001b[0mintersection\u001b[0m\u001b[0;34m(\u001b[0m\u001b[0mb\u001b[0m\u001b[0;34m)\u001b[0m\u001b[0;34m\u001b[0m\u001b[0;34m\u001b[0m\u001b[0m\n\u001b[0;32m----> 5\u001b[0;31m    \u001b[0;32mreturn\u001b[0m \u001b[0mfloat\u001b[0m\u001b[0;34m(\u001b[0m\u001b[0mlen\u001b[0m\u001b[0;34m(\u001b[0m\u001b[0mc\u001b[0m\u001b[0;34m)\u001b[0m\u001b[0;34m)\u001b[0m \u001b[0;34m/\u001b[0m \u001b[0;34m(\u001b[0m\u001b[0mlen\u001b[0m\u001b[0;34m(\u001b[0m\u001b[0ma\u001b[0m\u001b[0;34m)\u001b[0m \u001b[0;34m+\u001b[0m \u001b[0mlen\u001b[0m\u001b[0;34m(\u001b[0m\u001b[0mb\u001b[0m\u001b[0;34m)\u001b[0m \u001b[0;34m-\u001b[0m \u001b[0mlen\u001b[0m\u001b[0;34m(\u001b[0m\u001b[0mc\u001b[0m\u001b[0;34m)\u001b[0m\u001b[0;34m)\u001b[0m\u001b[0;34m\u001b[0m\u001b[0;34m\u001b[0m\u001b[0m\n\u001b[0m",
            "\u001b[0;31mZeroDivisionError\u001b[0m: float division by zero"
          ]
        }
      ],
      "source": [
        "#coaid average similarity via Jaccard \n",
        "total = 0 \n",
        "teller = 0\n",
        "for i in range(len(coaid['text'])): \n",
        "    if i%100 == 0: \n",
        "        print(i)\n",
        "    for j in range(i+1,len(coaid['text'])):\n",
        "        total = total + get_jaccard_sim(coaid.iloc[i,0],coaid.iloc[j,0])\n",
        "        teller = teller + 1 \n",
        "\n",
        "avg_sim = total/teller"
      ]
    },
    {
      "cell_type": "code",
      "execution_count": null,
      "id": "bb40b1eb-29f2-486d-9464-11bde12c101b",
      "metadata": {
        "id": "bb40b1eb-29f2-486d-9464-11bde12c101b",
        "outputId": "4cb20d21-11b3-48e2-de41-8680e032b22f"
      },
      "outputs": [
        {
          "data": {
            "text/plain": [
              "0.015162642843730112"
            ]
          },
          "execution_count": 16,
          "metadata": {},
          "output_type": "execute_result"
        }
      ],
      "source": [
        "avg_sim"
      ]
    },
    {
      "cell_type": "code",
      "execution_count": null,
      "id": "82a993bb-7431-4014-a512-af03c0793c80",
      "metadata": {
        "id": "82a993bb-7431-4014-a512-af03c0793c80",
        "outputId": "9b5a4839-d37a-4bdd-de8b-1584fe12a823"
      },
      "outputs": [
        {
          "name": "stdout",
          "output_type": "stream",
          "text": [
            "0\n",
            "100\n",
            "200\n",
            "300\n",
            "400\n",
            "500\n",
            "600\n",
            "700\n",
            "800\n",
            "900\n",
            "1000\n",
            "1100\n",
            "1200\n",
            "1300\n",
            "1400\n",
            "1500\n",
            "1600\n",
            "1700\n",
            "1800\n",
            "1900\n",
            "2000\n",
            "2100\n",
            "2200\n",
            "2300\n",
            "2400\n",
            "2500\n",
            "2600\n",
            "2700\n",
            "2800\n",
            "2900\n",
            "3000\n",
            "3100\n",
            "3200\n",
            "3300\n",
            "3400\n",
            "3500\n",
            "3600\n",
            "3700\n",
            "4100\n",
            "4200\n",
            "4300\n",
            "4400\n",
            "4500\n",
            "4600\n",
            "4700\n",
            "4800\n",
            "4900\n",
            "5000\n",
            "5100\n",
            "5200\n",
            "5300\n",
            "5400\n",
            "5500\n",
            "5600\n",
            "5700\n",
            "5800\n",
            "5900\n",
            "6000\n",
            "6100\n",
            "6200\n",
            "6300\n",
            "6400\n",
            "6500\n",
            "6600\n",
            "6700\n",
            "6800\n",
            "6900\n",
            "7000\n",
            "7100\n",
            "7200\n",
            "7300\n",
            "7400\n",
            "7500\n",
            "7600\n",
            "7700\n",
            "7800\n",
            "7900\n",
            "8000\n",
            "8100\n",
            "8200\n",
            "8300\n",
            "8400\n",
            "8500\n"
          ]
        }
      ],
      "source": [
        "#covid average similarity via Jaccard \n",
        "total_2 = 0 \n",
        "teller_2 = 0\n",
        "for i in range(len(covid['tweet'])): \n",
        "    if i%100 == 0: \n",
        "        print(i)\n",
        "    for j in range(i+1,len(covid['tweet'])):\n",
        "        total_2 = total_2+ get_jaccard_sim(covid.iloc[i,0],covid.iloc[j,0])\n",
        "        teller_2 = teller_2 + 1\n",
        "    \n",
        "avg_sim_2 = total_2/teller_2"
      ]
    },
    {
      "cell_type": "code",
      "execution_count": null,
      "id": "801866ce-8e5e-421a-95ac-4cda1e48823a",
      "metadata": {
        "id": "801866ce-8e5e-421a-95ac-4cda1e48823a",
        "outputId": "22447573-9936-495c-ea9d-8cd8888d67d6"
      },
      "outputs": [
        {
          "data": {
            "text/plain": [
              "0.013147776804723597"
            ]
          },
          "execution_count": 18,
          "metadata": {},
          "output_type": "execute_result"
        }
      ],
      "source": [
        "avg_sim_2"
      ]
    },
    {
      "cell_type": "markdown",
      "id": "f002705b-d760-4038-a5e4-241b6efe88c5",
      "metadata": {
        "id": "f002705b-d760-4038-a5e4-241b6efe88c5"
      },
      "source": [
        "**Cosine similarity**"
      ]
    },
    {
      "cell_type": "code",
      "execution_count": null,
      "id": "c61cfcb8-4016-4a3d-a286-cbbbafcc8cd3",
      "metadata": {
        "id": "c61cfcb8-4016-4a3d-a286-cbbbafcc8cd3",
        "outputId": "45e0115d-1e14-4e63-a5d8-87a922580580"
      },
      "outputs": [
        {
          "name": "stderr",
          "output_type": "stream",
          "text": [
            "[nltk_data] Downloading package punkt to /home/lowie/nltk_data...\n",
            "[nltk_data]   Package punkt is already up-to-date!\n"
          ]
        }
      ],
      "source": [
        "# Define cosine similarity function.\n",
        "from nltk.corpus import stopwords\n",
        "from nltk.tokenize import word_tokenize\n",
        "import nltk\n",
        "nltk.download('punkt')\n",
        "  \n",
        "def get_cosine_sim(str1,str2): \n",
        "    # X = input(\"Enter first string: \").lower()\n",
        "    # Y = input(\"Enter second string: \").lower()\n",
        "    X =str1\n",
        "    Y =str2\n",
        "\n",
        "    # tokenization\n",
        "    X_list = word_tokenize(X) \n",
        "    Y_list = word_tokenize(Y)\n",
        "\n",
        "    # sw contains the list of stopwords\n",
        "    sw = stopwords.words('english') \n",
        "    l1 =[];l2 =[]\n",
        "\n",
        "    # remove stop words from the string\n",
        "    X_set = {w for w in X_list if not w in sw} \n",
        "    Y_set = {w for w in Y_list if not w in sw}\n",
        "\n",
        "    # form a set containing keywords of both strings \n",
        "    rvector = X_set.union(Y_set) \n",
        "    for w in rvector:\n",
        "        if w in X_set: l1.append(1) # create a vector\n",
        "        else: l1.append(0)\n",
        "        if w in Y_set: l2.append(1)\n",
        "        else: l2.append(0)\n",
        "    c = 0\n",
        "\n",
        "    # cosine formula \n",
        "    for i in range(len(rvector)):\n",
        "            c+= l1[i]*l2[i]\n",
        "    cosine = c / float((sum(l1)*sum(l2))**0.5)\n",
        "    return cosine"
      ]
    },
    {
      "cell_type": "code",
      "execution_count": null,
      "id": "df0184b1-29a6-481c-8c86-78aa0618b23b",
      "metadata": {
        "id": "df0184b1-29a6-481c-8c86-78aa0618b23b",
        "outputId": "dc94ab1c-75d4-494a-e376-c27cba1ec79b"
      },
      "outputs": [
        {
          "name": "stdout",
          "output_type": "stream",
          "text": [
            "0\n",
            "100\n",
            "200\n",
            "300\n",
            "400\n",
            "500\n",
            "600\n",
            "700\n",
            "800\n",
            "900\n"
          ]
        }
      ],
      "source": [
        "#coaid average similarity via Cosine \n",
        "total_3 = 0 \n",
        "teller_3 = 0\n",
        "for i in range(len(coaid['text'])): \n",
        "    if i%100 == 0: \n",
        "        print(i)\n",
        "    for j in range(i+1,len(coaid['text'])):\n",
        "        total_3 = total_3 + get_cosine_sim(coaid.iloc[i,0],coaid.iloc[j,0])\n",
        "        teller_3 = teller_3 + 1 \n",
        "\n",
        "avg_sim_3 = total_3/teller_3"
      ]
    },
    {
      "cell_type": "code",
      "execution_count": null,
      "id": "a10792f7-394d-42f4-8e11-5584e9cba488",
      "metadata": {
        "id": "a10792f7-394d-42f4-8e11-5584e9cba488",
        "outputId": "03354d71-d3af-42dc-9a49-c0e2ab08f163"
      },
      "outputs": [
        {
          "data": {
            "text/plain": [
              "0.030000325571272333"
            ]
          },
          "execution_count": 5,
          "metadata": {},
          "output_type": "execute_result"
        }
      ],
      "source": [
        "avg_sim_3"
      ]
    },
    {
      "cell_type": "code",
      "execution_count": null,
      "id": "f6a89906-0114-4c5b-b2f5-cbf16a384c97",
      "metadata": {
        "id": "f6a89906-0114-4c5b-b2f5-cbf16a384c97",
        "outputId": "3deedb94-2fe3-47a3-8b0e-4e0c73200540"
      },
      "outputs": [
        {
          "name": "stdout",
          "output_type": "stream",
          "text": [
            "0\n",
            "100\n",
            "200\n",
            "300\n",
            "400\n",
            "500\n",
            "600\n",
            "700\n",
            "800\n",
            "900\n"
          ]
        }
      ],
      "source": [
        "#coaid average similarity via Cosine \n",
        "total_4 = 0 \n",
        "teller_4 = 0\n",
        "for i in range(len(covid['tweet'])): \n",
        "    if i%100 == 0: \n",
        "        print(i)\n",
        "    for j in range(i+1,len(covid['tweet'])):\n",
        "        total_4 = total_4 + get_cosine_sim(covid.iloc[i,0],covid.iloc[j,0])\n",
        "        teller_4 = teller_4 + 1 \n",
        "\n",
        "avg_sim_4 = total_4/teller_4"
      ]
    },
    {
      "cell_type": "code",
      "execution_count": null,
      "id": "39a49039-d19f-485a-a991-2b4047f75528",
      "metadata": {
        "id": "39a49039-d19f-485a-a991-2b4047f75528",
        "outputId": "97c2b4d3-aecd-4f78-ee55-55dc2ef8adad"
      },
      "outputs": [
        {
          "data": {
            "text/plain": [
              "0.025777636430296166"
            ]
          },
          "execution_count": 7,
          "metadata": {},
          "output_type": "execute_result"
        }
      ],
      "source": [
        "avg_sim_4"
      ]
    }
  ],
  "metadata": {
    "kernelspec": {
      "display_name": "ML",
      "language": "python",
      "name": "ml"
    },
    "language_info": {
      "codemirror_mode": {
        "name": "ipython",
        "version": 3
      },
      "file_extension": ".py",
      "mimetype": "text/x-python",
      "name": "python",
      "nbconvert_exporter": "python",
      "pygments_lexer": "ipython3",
      "version": "3.8.12"
    },
    "colab": {
      "name": "Similarity_proof_metrics.ipynb",
      "provenance": []
    }
  },
  "nbformat": 4,
  "nbformat_minor": 5
}
