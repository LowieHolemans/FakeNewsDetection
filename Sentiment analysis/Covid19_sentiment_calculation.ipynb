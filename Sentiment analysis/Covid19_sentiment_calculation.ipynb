{
  "nbformat": 4,
  "nbformat_minor": 0,
  "metadata": {
    "colab": {
      "name": "Covid_sentiment_analysis.ipynb",
      "provenance": []
    },
    "kernelspec": {
      "name": "python3",
      "display_name": "Python 3"
    },
    "language_info": {
      "name": "python"
    },
    "accelerator": "GPU"
  },
  "cells": [
    {
      "cell_type": "code",
      "execution_count": 1,
      "metadata": {
        "id": "1kS1gB2B8TCK"
      },
      "outputs": [],
      "source": [
        "import pandas as pd \n",
        "import numpy as np "
      ]
    },
    {
      "cell_type": "code",
      "source": [
        "from textblob import TextBlob\n",
        "# function to calculate subjectivity\n",
        "def getSubjectivity(text):\n",
        "    return TextBlob(text).sentiment.subjectivity\n",
        "    # function to calculate polarity\n",
        "def getPolarity(text):\n",
        "    return TextBlob(text).sentiment.polarity\n",
        "\n",
        "#function we'll use to start off with: \n",
        "def analysis_pol(score): \n",
        "  if score < 0: \n",
        "    return 'Neg'\n",
        "  elif score ==0: \n",
        "    return 'Neu'\n",
        "  elif score > 0: \n",
        "    return 'Pos'\n",
        "\n",
        "def analysis_sub(score): \n",
        "  if score < 0: \n",
        "    return 'Factual'\n",
        "  elif score == 0: \n",
        "    return 'Neutral'\n",
        "  elif score > 0: \n",
        "    return 'Personal'"
      ],
      "metadata": {
        "id": "dYu0dTbP854e"
      },
      "execution_count": 2,
      "outputs": []
    },
    {
      "cell_type": "code",
      "source": [
        "from google.colab import drive\n",
        "drive.mount('/content/drive')"
      ],
      "metadata": {
        "colab": {
          "base_uri": "https://localhost:8080/"
        },
        "id": "KUHO7SCAJ7O5",
        "outputId": "df9a7d10-b506-4b2d-c5d2-fbc7ec26b7e4"
      },
      "execution_count": 3,
      "outputs": [
        {
          "output_type": "stream",
          "name": "stdout",
          "text": [
            "Mounted at /content/drive\n"
          ]
        }
      ]
    },
    {
      "cell_type": "code",
      "source": [
        "covid = pd.read_csv('/content/drive/MyDrive/Thesis/Data/Filled Datasets/Second dataset (Kaggle)/Preprocessed/combined_train_val.csv')"
      ],
      "metadata": {
        "id": "A87m8zB69Df5"
      },
      "execution_count": 4,
      "outputs": []
    },
    {
      "cell_type": "code",
      "source": [
        "covid.head(n=3)"
      ],
      "metadata": {
        "colab": {
          "base_uri": "https://localhost:8080/",
          "height": 143
        },
        "id": "zzkRRo6Q9Jh2",
        "outputId": "9f0fa270-bb63-47c0-f76d-a3a38830d8a2"
      },
      "execution_count": 5,
      "outputs": [
        {
          "output_type": "execute_result",
          "data": {
            "text/plain": [
              "                                               tweet  label\n",
              "0  cdc currently reports deaths general discrepan...      0\n",
              "1  states reported deaths small rise last tuesday...      0\n",
              "2  politically correct woman almost uses pandemic...      1"
            ],
            "text/html": [
              "\n",
              "  <div id=\"df-3ab599db-0c8f-402b-a10c-718a1b1ac4c6\">\n",
              "    <div class=\"colab-df-container\">\n",
              "      <div>\n",
              "<style scoped>\n",
              "    .dataframe tbody tr th:only-of-type {\n",
              "        vertical-align: middle;\n",
              "    }\n",
              "\n",
              "    .dataframe tbody tr th {\n",
              "        vertical-align: top;\n",
              "    }\n",
              "\n",
              "    .dataframe thead th {\n",
              "        text-align: right;\n",
              "    }\n",
              "</style>\n",
              "<table border=\"1\" class=\"dataframe\">\n",
              "  <thead>\n",
              "    <tr style=\"text-align: right;\">\n",
              "      <th></th>\n",
              "      <th>tweet</th>\n",
              "      <th>label</th>\n",
              "    </tr>\n",
              "  </thead>\n",
              "  <tbody>\n",
              "    <tr>\n",
              "      <th>0</th>\n",
              "      <td>cdc currently reports deaths general discrepan...</td>\n",
              "      <td>0</td>\n",
              "    </tr>\n",
              "    <tr>\n",
              "      <th>1</th>\n",
              "      <td>states reported deaths small rise last tuesday...</td>\n",
              "      <td>0</td>\n",
              "    </tr>\n",
              "    <tr>\n",
              "      <th>2</th>\n",
              "      <td>politically correct woman almost uses pandemic...</td>\n",
              "      <td>1</td>\n",
              "    </tr>\n",
              "  </tbody>\n",
              "</table>\n",
              "</div>\n",
              "      <button class=\"colab-df-convert\" onclick=\"convertToInteractive('df-3ab599db-0c8f-402b-a10c-718a1b1ac4c6')\"\n",
              "              title=\"Convert this dataframe to an interactive table.\"\n",
              "              style=\"display:none;\">\n",
              "        \n",
              "  <svg xmlns=\"http://www.w3.org/2000/svg\" height=\"24px\"viewBox=\"0 0 24 24\"\n",
              "       width=\"24px\">\n",
              "    <path d=\"M0 0h24v24H0V0z\" fill=\"none\"/>\n",
              "    <path d=\"M18.56 5.44l.94 2.06.94-2.06 2.06-.94-2.06-.94-.94-2.06-.94 2.06-2.06.94zm-11 1L8.5 8.5l.94-2.06 2.06-.94-2.06-.94L8.5 2.5l-.94 2.06-2.06.94zm10 10l.94 2.06.94-2.06 2.06-.94-2.06-.94-.94-2.06-.94 2.06-2.06.94z\"/><path d=\"M17.41 7.96l-1.37-1.37c-.4-.4-.92-.59-1.43-.59-.52 0-1.04.2-1.43.59L10.3 9.45l-7.72 7.72c-.78.78-.78 2.05 0 2.83L4 21.41c.39.39.9.59 1.41.59.51 0 1.02-.2 1.41-.59l7.78-7.78 2.81-2.81c.8-.78.8-2.07 0-2.86zM5.41 20L4 18.59l7.72-7.72 1.47 1.35L5.41 20z\"/>\n",
              "  </svg>\n",
              "      </button>\n",
              "      \n",
              "  <style>\n",
              "    .colab-df-container {\n",
              "      display:flex;\n",
              "      flex-wrap:wrap;\n",
              "      gap: 12px;\n",
              "    }\n",
              "\n",
              "    .colab-df-convert {\n",
              "      background-color: #E8F0FE;\n",
              "      border: none;\n",
              "      border-radius: 50%;\n",
              "      cursor: pointer;\n",
              "      display: none;\n",
              "      fill: #1967D2;\n",
              "      height: 32px;\n",
              "      padding: 0 0 0 0;\n",
              "      width: 32px;\n",
              "    }\n",
              "\n",
              "    .colab-df-convert:hover {\n",
              "      background-color: #E2EBFA;\n",
              "      box-shadow: 0px 1px 2px rgba(60, 64, 67, 0.3), 0px 1px 3px 1px rgba(60, 64, 67, 0.15);\n",
              "      fill: #174EA6;\n",
              "    }\n",
              "\n",
              "    [theme=dark] .colab-df-convert {\n",
              "      background-color: #3B4455;\n",
              "      fill: #D2E3FC;\n",
              "    }\n",
              "\n",
              "    [theme=dark] .colab-df-convert:hover {\n",
              "      background-color: #434B5C;\n",
              "      box-shadow: 0px 1px 3px 1px rgba(0, 0, 0, 0.15);\n",
              "      filter: drop-shadow(0px 1px 2px rgba(0, 0, 0, 0.3));\n",
              "      fill: #FFFFFF;\n",
              "    }\n",
              "  </style>\n",
              "\n",
              "      <script>\n",
              "        const buttonEl =\n",
              "          document.querySelector('#df-3ab599db-0c8f-402b-a10c-718a1b1ac4c6 button.colab-df-convert');\n",
              "        buttonEl.style.display =\n",
              "          google.colab.kernel.accessAllowed ? 'block' : 'none';\n",
              "\n",
              "        async function convertToInteractive(key) {\n",
              "          const element = document.querySelector('#df-3ab599db-0c8f-402b-a10c-718a1b1ac4c6');\n",
              "          const dataTable =\n",
              "            await google.colab.kernel.invokeFunction('convertToInteractive',\n",
              "                                                     [key], {});\n",
              "          if (!dataTable) return;\n",
              "\n",
              "          const docLinkHtml = 'Like what you see? Visit the ' +\n",
              "            '<a target=\"_blank\" href=https://colab.research.google.com/notebooks/data_table.ipynb>data table notebook</a>'\n",
              "            + ' to learn more about interactive tables.';\n",
              "          element.innerHTML = '';\n",
              "          dataTable['output_type'] = 'display_data';\n",
              "          await google.colab.output.renderOutput(dataTable, element);\n",
              "          const docLink = document.createElement('div');\n",
              "          docLink.innerHTML = docLinkHtml;\n",
              "          element.appendChild(docLink);\n",
              "        }\n",
              "      </script>\n",
              "    </div>\n",
              "  </div>\n",
              "  "
            ]
          },
          "metadata": {},
          "execution_count": 5
        }
      ]
    },
    {
      "cell_type": "markdown",
      "source": [
        "**define fin_data: the final dataset we'll be using**"
      ],
      "metadata": {
        "id": "43xjmNWmPpLy"
      }
    },
    {
      "cell_type": "code",
      "source": [
        "for i in range(len(covid)): \n",
        "  covid.iloc[i,0] = str(covid.iloc[i,0])"
      ],
      "metadata": {
        "id": "iLTWTYFmLJkg"
      },
      "execution_count": 6,
      "outputs": []
    },
    {
      "cell_type": "code",
      "source": [
        "fin_data = pd.DataFrame(covid['tweet'])\n",
        "len(fin_data)"
      ],
      "metadata": {
        "colab": {
          "base_uri": "https://localhost:8080/"
        },
        "id": "iWFDbkjd9lEN",
        "outputId": "5fb0d7d3-3e41-4475-9129-ecd48e1fafea"
      },
      "execution_count": 7,
      "outputs": [
        {
          "output_type": "execute_result",
          "data": {
            "text/plain": [
              "8558"
            ]
          },
          "metadata": {},
          "execution_count": 7
        }
      ]
    },
    {
      "cell_type": "code",
      "source": [
        "fin_data['Subjectivity_tweet'] = fin_data['tweet'].apply(getSubjectivity) \n",
        "fin_data['Analysis_sub_tweet'] = fin_data['Subjectivity_tweet'].apply(analysis_sub)\n",
        "fin_data['Polarity_tweet'] = fin_data['tweet'].apply(getPolarity) \n",
        "fin_data['Analysis_pol_tweet'] = fin_data['Polarity_tweet'].apply(analysis_pol)\n",
        "fin_data.head()"
      ],
      "metadata": {
        "colab": {
          "base_uri": "https://localhost:8080/",
          "height": 206
        },
        "id": "6rBhInxA9qP_",
        "outputId": "bab529a6-1c7e-4a5c-cf5e-6ef94b15d43b"
      },
      "execution_count": 8,
      "outputs": [
        {
          "output_type": "execute_result",
          "data": {
            "text/plain": [
              "                                               tweet  Subjectivity_tweet  \\\n",
              "0  cdc currently reports deaths general discrepan...            0.460000   \n",
              "1  states reported deaths small rise last tuesday...            0.155556   \n",
              "2  politically correct woman almost uses pandemic...            0.075000   \n",
              "3  testing laboratories india th august tests don...            0.000000   \n",
              "4  populous states generate large case counts loo...            0.461039   \n",
              "\n",
              "  Analysis_sub_tweet  Polarity_tweet Analysis_pol_tweet  \n",
              "0           Personal       -0.060000                Neg  \n",
              "1           Personal       -0.083333                Neg  \n",
              "2           Personal       -0.025000                Neg  \n",
              "3            Neutral        0.000000                Neu  \n",
              "4           Personal        0.116883                Pos  "
            ],
            "text/html": [
              "\n",
              "  <div id=\"df-7ea077da-cf40-4ebd-8823-950a510f09ff\">\n",
              "    <div class=\"colab-df-container\">\n",
              "      <div>\n",
              "<style scoped>\n",
              "    .dataframe tbody tr th:only-of-type {\n",
              "        vertical-align: middle;\n",
              "    }\n",
              "\n",
              "    .dataframe tbody tr th {\n",
              "        vertical-align: top;\n",
              "    }\n",
              "\n",
              "    .dataframe thead th {\n",
              "        text-align: right;\n",
              "    }\n",
              "</style>\n",
              "<table border=\"1\" class=\"dataframe\">\n",
              "  <thead>\n",
              "    <tr style=\"text-align: right;\">\n",
              "      <th></th>\n",
              "      <th>tweet</th>\n",
              "      <th>Subjectivity_tweet</th>\n",
              "      <th>Analysis_sub_tweet</th>\n",
              "      <th>Polarity_tweet</th>\n",
              "      <th>Analysis_pol_tweet</th>\n",
              "    </tr>\n",
              "  </thead>\n",
              "  <tbody>\n",
              "    <tr>\n",
              "      <th>0</th>\n",
              "      <td>cdc currently reports deaths general discrepan...</td>\n",
              "      <td>0.460000</td>\n",
              "      <td>Personal</td>\n",
              "      <td>-0.060000</td>\n",
              "      <td>Neg</td>\n",
              "    </tr>\n",
              "    <tr>\n",
              "      <th>1</th>\n",
              "      <td>states reported deaths small rise last tuesday...</td>\n",
              "      <td>0.155556</td>\n",
              "      <td>Personal</td>\n",
              "      <td>-0.083333</td>\n",
              "      <td>Neg</td>\n",
              "    </tr>\n",
              "    <tr>\n",
              "      <th>2</th>\n",
              "      <td>politically correct woman almost uses pandemic...</td>\n",
              "      <td>0.075000</td>\n",
              "      <td>Personal</td>\n",
              "      <td>-0.025000</td>\n",
              "      <td>Neg</td>\n",
              "    </tr>\n",
              "    <tr>\n",
              "      <th>3</th>\n",
              "      <td>testing laboratories india th august tests don...</td>\n",
              "      <td>0.000000</td>\n",
              "      <td>Neutral</td>\n",
              "      <td>0.000000</td>\n",
              "      <td>Neu</td>\n",
              "    </tr>\n",
              "    <tr>\n",
              "      <th>4</th>\n",
              "      <td>populous states generate large case counts loo...</td>\n",
              "      <td>0.461039</td>\n",
              "      <td>Personal</td>\n",
              "      <td>0.116883</td>\n",
              "      <td>Pos</td>\n",
              "    </tr>\n",
              "  </tbody>\n",
              "</table>\n",
              "</div>\n",
              "      <button class=\"colab-df-convert\" onclick=\"convertToInteractive('df-7ea077da-cf40-4ebd-8823-950a510f09ff')\"\n",
              "              title=\"Convert this dataframe to an interactive table.\"\n",
              "              style=\"display:none;\">\n",
              "        \n",
              "  <svg xmlns=\"http://www.w3.org/2000/svg\" height=\"24px\"viewBox=\"0 0 24 24\"\n",
              "       width=\"24px\">\n",
              "    <path d=\"M0 0h24v24H0V0z\" fill=\"none\"/>\n",
              "    <path d=\"M18.56 5.44l.94 2.06.94-2.06 2.06-.94-2.06-.94-.94-2.06-.94 2.06-2.06.94zm-11 1L8.5 8.5l.94-2.06 2.06-.94-2.06-.94L8.5 2.5l-.94 2.06-2.06.94zm10 10l.94 2.06.94-2.06 2.06-.94-2.06-.94-.94-2.06-.94 2.06-2.06.94z\"/><path d=\"M17.41 7.96l-1.37-1.37c-.4-.4-.92-.59-1.43-.59-.52 0-1.04.2-1.43.59L10.3 9.45l-7.72 7.72c-.78.78-.78 2.05 0 2.83L4 21.41c.39.39.9.59 1.41.59.51 0 1.02-.2 1.41-.59l7.78-7.78 2.81-2.81c.8-.78.8-2.07 0-2.86zM5.41 20L4 18.59l7.72-7.72 1.47 1.35L5.41 20z\"/>\n",
              "  </svg>\n",
              "      </button>\n",
              "      \n",
              "  <style>\n",
              "    .colab-df-container {\n",
              "      display:flex;\n",
              "      flex-wrap:wrap;\n",
              "      gap: 12px;\n",
              "    }\n",
              "\n",
              "    .colab-df-convert {\n",
              "      background-color: #E8F0FE;\n",
              "      border: none;\n",
              "      border-radius: 50%;\n",
              "      cursor: pointer;\n",
              "      display: none;\n",
              "      fill: #1967D2;\n",
              "      height: 32px;\n",
              "      padding: 0 0 0 0;\n",
              "      width: 32px;\n",
              "    }\n",
              "\n",
              "    .colab-df-convert:hover {\n",
              "      background-color: #E2EBFA;\n",
              "      box-shadow: 0px 1px 2px rgba(60, 64, 67, 0.3), 0px 1px 3px 1px rgba(60, 64, 67, 0.15);\n",
              "      fill: #174EA6;\n",
              "    }\n",
              "\n",
              "    [theme=dark] .colab-df-convert {\n",
              "      background-color: #3B4455;\n",
              "      fill: #D2E3FC;\n",
              "    }\n",
              "\n",
              "    [theme=dark] .colab-df-convert:hover {\n",
              "      background-color: #434B5C;\n",
              "      box-shadow: 0px 1px 3px 1px rgba(0, 0, 0, 0.15);\n",
              "      filter: drop-shadow(0px 1px 2px rgba(0, 0, 0, 0.3));\n",
              "      fill: #FFFFFF;\n",
              "    }\n",
              "  </style>\n",
              "\n",
              "      <script>\n",
              "        const buttonEl =\n",
              "          document.querySelector('#df-7ea077da-cf40-4ebd-8823-950a510f09ff button.colab-df-convert');\n",
              "        buttonEl.style.display =\n",
              "          google.colab.kernel.accessAllowed ? 'block' : 'none';\n",
              "\n",
              "        async function convertToInteractive(key) {\n",
              "          const element = document.querySelector('#df-7ea077da-cf40-4ebd-8823-950a510f09ff');\n",
              "          const dataTable =\n",
              "            await google.colab.kernel.invokeFunction('convertToInteractive',\n",
              "                                                     [key], {});\n",
              "          if (!dataTable) return;\n",
              "\n",
              "          const docLinkHtml = 'Like what you see? Visit the ' +\n",
              "            '<a target=\"_blank\" href=https://colab.research.google.com/notebooks/data_table.ipynb>data table notebook</a>'\n",
              "            + ' to learn more about interactive tables.';\n",
              "          element.innerHTML = '';\n",
              "          dataTable['output_type'] = 'display_data';\n",
              "          await google.colab.output.renderOutput(dataTable, element);\n",
              "          const docLink = document.createElement('div');\n",
              "          docLink.innerHTML = docLinkHtml;\n",
              "          element.appendChild(docLink);\n",
              "        }\n",
              "      </script>\n",
              "    </div>\n",
              "  </div>\n",
              "  "
            ]
          },
          "metadata": {},
          "execution_count": 8
        }
      ]
    },
    {
      "cell_type": "code",
      "source": [
        "fin_data['label'] = covid['label']\n",
        "import os\n",
        "os.chdir('/content/drive/MyDrive/Thesis/Food for thought /Sentiment Analysis/Covid19/')\n",
        "fin_data.to_csv('covid_sentiment.csv')"
      ],
      "metadata": {
        "id": "tI9nw_fUpIZE"
      },
      "execution_count": 10,
      "outputs": []
    },
    {
      "cell_type": "markdown",
      "source": [
        "**let's now visualize the insights this generates**"
      ],
      "metadata": {
        "id": "ncyxleTIQm-e"
      }
    },
    {
      "cell_type": "markdown",
      "source": [
        "We'll start of with the distribution of polarity of tweets vs news, for both classes. "
      ],
      "metadata": {
        "id": "TS-k2-g6pRDL"
      }
    },
    {
      "cell_type": "code",
      "source": [
        "real_df = fin_data[fin_data['label']==0]\n",
        "print(real_df.label)\n",
        "fake_df = fin_data[fin_data['label']==1]\n",
        "print(fake_df.label)"
      ],
      "metadata": {
        "colab": {
          "base_uri": "https://localhost:8080/"
        },
        "id": "n42HxgbPQpzz",
        "outputId": "85a0ed4d-7ac5-49aa-91d7-bc8d2a19cf88"
      },
      "execution_count": null,
      "outputs": [
        {
          "output_type": "stream",
          "name": "stdout",
          "text": [
            "0       0\n",
            "1       0\n",
            "3       0\n",
            "4       0\n",
            "5       0\n",
            "       ..\n",
            "2133    0\n",
            "2135    0\n",
            "2137    0\n",
            "2138    0\n",
            "2139    0\n",
            "Name: label, Length: 5600, dtype: int64\n",
            "2       1\n",
            "7       1\n",
            "8       1\n",
            "9       1\n",
            "11      1\n",
            "       ..\n",
            "2121    1\n",
            "2123    1\n",
            "2128    1\n",
            "2134    1\n",
            "2136    1\n",
            "Name: label, Length: 5098, dtype: int64\n"
          ]
        }
      ]
    },
    {
      "cell_type": "code",
      "source": [
        "#polarity \n",
        "real_tweet_polarity = real_df['Analysis_pol_tweet']\n",
        "fake_tweet_polarity = fake_df['Analysis_pol_tweet']\n",
        "\n",
        "#subjectivity \n",
        "real_tweet_subjectivity = real_df['Analysis_sub_tweet']\n",
        "fake_tweet_subjectivity = fake_df['Analysis_sub_tweet']\n"
      ],
      "metadata": {
        "id": "wCMRM0mLqG0m"
      },
      "execution_count": null,
      "outputs": []
    },
    {
      "cell_type": "code",
      "source": [
        "real_tweet_polarity"
      ],
      "metadata": {
        "colab": {
          "base_uri": "https://localhost:8080/"
        },
        "id": "VjWE7Su-qZly",
        "outputId": "ad64ed67-1a4e-4cdf-9aaa-037e6d528958"
      },
      "execution_count": null,
      "outputs": [
        {
          "output_type": "execute_result",
          "data": {
            "text/plain": [
              "0       Neg\n",
              "1       Neg\n",
              "3       Neu\n",
              "4       Pos\n",
              "5       Neg\n",
              "       ... \n",
              "2133    Neu\n",
              "2135    Pos\n",
              "2137    Pos\n",
              "2138    Neu\n",
              "2139    Neu\n",
              "Name: Analysis_pol_tweet, Length: 5600, dtype: object"
            ]
          },
          "metadata": {},
          "execution_count": 25
        }
      ]
    },
    {
      "cell_type": "markdown",
      "source": [
        "**plotting polarity**"
      ],
      "metadata": {
        "id": "XpNHAY7TsD0H"
      }
    },
    {
      "cell_type": "code",
      "source": [
        "real_tweet_polarity.value_counts().plot(kind='bar')\n"
      ],
      "metadata": {
        "colab": {
          "base_uri": "https://localhost:8080/",
          "height": 293
        },
        "id": "awQx7rCrreKD",
        "outputId": "82c26471-1f46-43e7-944c-876db375574a"
      },
      "execution_count": null,
      "outputs": [
        {
          "output_type": "execute_result",
          "data": {
            "text/plain": [
              "<matplotlib.axes._subplots.AxesSubplot at 0x7f4a2d4dec90>"
            ]
          },
          "metadata": {},
          "execution_count": 26
        },
        {
          "output_type": "display_data",
          "data": {
            "text/plain": [
              "<Figure size 432x288 with 1 Axes>"
            ],
            "image/png": "[encoded data removed]"
          },
          "metadata": {
            "needs_background": "light"
          }
        }
      ]
    },
    {
      "cell_type": "code",
      "source": [
        "fake_tweet_polarity.value_counts().plot(kind='bar')\n"
      ],
      "metadata": {
        "colab": {
          "base_uri": "https://localhost:8080/",
          "height": 293
        },
        "id": "ePtB5yvgrrLX",
        "outputId": "5801c835-a29c-4eb2-ff20-1638c29b3e56"
      },
      "execution_count": null,
      "outputs": [
        {
          "output_type": "execute_result",
          "data": {
            "text/plain": [
              "<matplotlib.axes._subplots.AxesSubplot at 0x7f4a2d4c3810>"
            ]
          },
          "metadata": {},
          "execution_count": 27
        },
        {
          "output_type": "display_data",
          "data": {
            "text/plain": [
              "<Figure size 432x288 with 1 Axes>"
            ],
            "image/png": "[encoded data removed]"
          },
          "metadata": {
            "needs_background": "light"
          }
        }
      ]
    },
    {
      "cell_type": "markdown",
      "source": [
        "**plotting subjectivity**"
      ],
      "metadata": {
        "id": "BO0pEAkKsGVO"
      }
    },
    {
      "cell_type": "code",
      "source": [
        "real_tweet_subjectivity.value_counts().plot(kind='bar') #no factual tweets, makes sense ofc \n"
      ],
      "metadata": {
        "colab": {
          "base_uri": "https://localhost:8080/",
          "height": 316
        },
        "id": "F5FGiQdFsHYR",
        "outputId": "0ce76fd9-5856-4985-ba73-08c761486ecd"
      },
      "execution_count": null,
      "outputs": [
        {
          "output_type": "execute_result",
          "data": {
            "text/plain": [
              "<matplotlib.axes._subplots.AxesSubplot at 0x7f4a2d464e10>"
            ]
          },
          "metadata": {},
          "execution_count": 28
        },
        {
          "output_type": "display_data",
          "data": {
            "text/plain": [
              "<Figure size 432x288 with 1 Axes>"
            ],
            "image/png": "[encoded data removed]"
          },
          "metadata": {
            "needs_background": "light"
          }
        }
      ]
    },
    {
      "cell_type": "code",
      "source": [
        "fake_tweet_subjectivity.value_counts().plot(kind='bar')"
      ],
      "metadata": {
        "colab": {
          "base_uri": "https://localhost:8080/",
          "height": 316
        },
        "id": "eoRcxRX2sVf_",
        "outputId": "e2ca8004-dfb9-4a0f-b306-6b146426e70e"
      },
      "execution_count": null,
      "outputs": [
        {
          "output_type": "execute_result",
          "data": {
            "text/plain": [
              "<matplotlib.axes._subplots.AxesSubplot at 0x7f4a2d5169d0>"
            ]
          },
          "metadata": {},
          "execution_count": 29
        },
        {
          "output_type": "display_data",
          "data": {
            "text/plain": [
              "<Figure size 432x288 with 1 Axes>"
            ],
            "image/png": "[encoded data removed]"
          },
          "metadata": {
            "needs_background": "light"
          }
        }
      ]
    },
    {
      "cell_type": "markdown",
      "source": [
        "**let's go for higher granularities**"
      ],
      "metadata": {
        "id": "B_Oq_iJXsuCO"
      }
    },
    {
      "cell_type": "code",
      "source": [
        "#function we'll use to start off with: \n",
        "def analysis_pol_gran(score): \n",
        "  if score < -0.5: \n",
        "    return 'Negative'\n",
        "  elif score < 0 and score > -0.5: \n",
        "    return 'Semi-Negative'\n",
        "  elif score ==0: \n",
        "    return 'Neutral'\n",
        "  elif score > 0 and score < 0.5: \n",
        "    return 'Semi-Positive'\n",
        "  elif score > 0.5: \n",
        "    return 'Positive'\n",
        "\n",
        "def analysis_sub_gran(score): \n",
        "  if score < -0.5: \n",
        "    return 'Factual'\n",
        "  elif score < 0 and score > -0.5: \n",
        "    return 'Semi-Factual'\n",
        "  elif score ==0: \n",
        "    return 'Neutral'\n",
        "  elif score > 0 and score < 0.5: \n",
        "    return 'Semi-Personal'\n",
        "  elif score > 0.5: \n",
        "    return 'Personal'"
      ],
      "metadata": {
        "id": "OK46OmUqsv4F"
      },
      "execution_count": null,
      "outputs": []
    },
    {
      "cell_type": "code",
      "source": [
        "fin_data_gran = pd.DataFrame(covid[['tweet','label']])\n",
        "len(fin_data_gran)"
      ],
      "metadata": {
        "colab": {
          "base_uri": "https://localhost:8080/"
        },
        "outputId": "990e69cc-46fa-4bde-c1b6-b520859a1fa3",
        "id": "N56ld8VKuKEo"
      },
      "execution_count": null,
      "outputs": [
        {
          "output_type": "execute_result",
          "data": {
            "text/plain": [
              "10698"
            ]
          },
          "metadata": {},
          "execution_count": 32
        }
      ]
    },
    {
      "cell_type": "code",
      "source": [
        "fin_data_gran['Subjectivity_tweet'] = fin_data_gran['tweet'].apply(getSubjectivity) \n",
        "fin_data_gran['Analysis_sub_tweet'] = fin_data_gran['Subjectivity_tweet'].apply(analysis_sub_gran)\n",
        "fin_data_gran['Polarity_tweet'] = fin_data_gran['tweet'].apply(getPolarity) \n",
        "fin_data_gran['Analysis_pol_tweet'] = fin_data_gran['Polarity_tweet'].apply(analysis_pol_gran)"
      ],
      "metadata": {
        "id": "zzLWEMXauKEp"
      },
      "execution_count": null,
      "outputs": []
    },
    {
      "cell_type": "code",
      "source": [
        "real_df_gran = fin_data_gran[fin_data_gran['label']==0]\n",
        "fake_df_gran = fin_data_gran[fin_data_gran['label']==1]\n"
      ],
      "metadata": {
        "id": "ZUCjmkYIvtVf"
      },
      "execution_count": null,
      "outputs": []
    },
    {
      "cell_type": "code",
      "source": [
        "#polarity \n",
        "real_tweet_polarity_gran = real_df_gran['Analysis_pol_tweet']\n",
        "fake_tweet_polarity_gran = fake_df_gran['Analysis_pol_tweet']\n",
        "\n",
        "#subjectivity \n",
        "real_tweet_subjectivity_gran = real_df_gran['Analysis_sub_tweet']\n",
        "fake_tweet_subjectivity_gran = fake_df_gran['Analysis_sub_tweet']\n"
      ],
      "metadata": {
        "id": "BC9-9HQFvtVp"
      },
      "execution_count": null,
      "outputs": []
    },
    {
      "cell_type": "markdown",
      "source": [
        "**plotting granular polarity**"
      ],
      "metadata": {
        "id": "ncGGPc-ewMUT"
      }
    },
    {
      "cell_type": "code",
      "source": [
        "real_tweet_polarity_gran.value_counts().plot(kind='bar')\n"
      ],
      "metadata": {
        "colab": {
          "base_uri": "https://localhost:8080/",
          "height": 347
        },
        "outputId": "f78ad01f-7624-4b46-e3c3-79a6a8a31a1b",
        "id": "fxmfoc-gwK1l"
      },
      "execution_count": null,
      "outputs": [
        {
          "output_type": "execute_result",
          "data": {
            "text/plain": [
              "<matplotlib.axes._subplots.AxesSubplot at 0x7f4a2d545110>"
            ]
          },
          "metadata": {},
          "execution_count": 37
        },
        {
          "output_type": "display_data",
          "data": {
            "text/plain": [
              "<Figure size 432x288 with 1 Axes>"
            ],
            "image/png": "[encoded data removed]"
          },
          "metadata": {
            "needs_background": "light"
          }
        }
      ]
    },
    {
      "cell_type": "code",
      "source": [
        "fake_tweet_polarity_gran.value_counts().plot(kind='bar')\n"
      ],
      "metadata": {
        "colab": {
          "base_uri": "https://localhost:8080/",
          "height": 347
        },
        "outputId": "7ce4b55e-41ff-434e-e2e2-17a3b529bc5e",
        "id": "3cKMJl0mwK1t"
      },
      "execution_count": null,
      "outputs": [
        {
          "output_type": "execute_result",
          "data": {
            "text/plain": [
              "<matplotlib.axes._subplots.AxesSubplot at 0x7f4a2d552ed0>"
            ]
          },
          "metadata": {},
          "execution_count": 39
        },
        {
          "output_type": "display_data",
          "data": {
            "text/plain": [
              "<Figure size 432x288 with 1 Axes>"
            ],
            "image/png": "[encoded data removed]"
          },
          "metadata": {
            "needs_background": "light"
          }
        }
      ]
    },
    {
      "cell_type": "markdown",
      "source": [
        "**plotting granular subjectivity**"
      ],
      "metadata": {
        "id": "n-t1F2HzwK1u"
      }
    },
    {
      "cell_type": "code",
      "source": [
        "real_tweet_subjectivity_gran.value_counts().plot(kind='bar') #no factual tweets, makes sense ofc \n"
      ],
      "metadata": {
        "colab": {
          "base_uri": "https://localhost:8080/",
          "height": 344
        },
        "outputId": "2539674c-7c99-4f4e-99e1-f357fea50f3f",
        "id": "yCg6u9q6wK1u"
      },
      "execution_count": null,
      "outputs": [
        {
          "output_type": "execute_result",
          "data": {
            "text/plain": [
              "<matplotlib.axes._subplots.AxesSubplot at 0x7f4a2d582f10>"
            ]
          },
          "metadata": {},
          "execution_count": 40
        },
        {
          "output_type": "display_data",
          "data": {
            "text/plain": [
              "<Figure size 432x288 with 1 Axes>"
            ],
            "image/png": "[encoded data removed]"
          },
          "metadata": {
            "needs_background": "light"
          }
        }
      ]
    },
    {
      "cell_type": "code",
      "source": [
        "fake_tweet_subjectivity_gran.value_counts().plot(kind='bar')"
      ],
      "metadata": {
        "colab": {
          "base_uri": "https://localhost:8080/",
          "height": 344
        },
        "outputId": "b5f4171f-1bdb-4d19-fa9d-07113fde16bd",
        "id": "BkU1JJM6wK1u"
      },
      "execution_count": null,
      "outputs": [
        {
          "output_type": "execute_result",
          "data": {
            "text/plain": [
              "<matplotlib.axes._subplots.AxesSubplot at 0x7f4a2d586b10>"
            ]
          },
          "metadata": {},
          "execution_count": 41
        },
        {
          "output_type": "display_data",
          "data": {
            "text/plain": [
              "<Figure size 432x288 with 1 Axes>"
            ],
            "image/png": "[encoded data removed]"
          },
          "metadata": {
            "needs_background": "light"
          }
        }
      ]
    },
    {
      "cell_type": "markdown",
      "source": [
        "**let's visualize tweets from the different polarity classes**"
      ],
      "metadata": {
        "id": "slmadmp1N65b"
      }
    },
    {
      "cell_type": "code",
      "source": [
        "print(real_df_gran.head(n=5))\n",
        "print(fake_df_gran.head(n=5))"
      ],
      "metadata": {
        "colab": {
          "base_uri": "https://localhost:8080/"
        },
        "id": "2PTrn5ESN-HH",
        "outputId": "09f81482-bcee-408b-eb5b-1ccb5ac434d4"
      },
      "execution_count": null,
      "outputs": [
        {
          "output_type": "stream",
          "name": "stdout",
          "text": [
            "                                               tweet  label  \\\n",
            "0  cdc currently reports deaths general discrepan...      0   \n",
            "1  states reported deaths small rise last tuesday...      0   \n",
            "3  testing laboratories india th august tests don...      0   \n",
            "4  populous states generate large case counts loo...      0   \n",
            "5  covid act found average person illinois covid ...      0   \n",
            "\n",
            "   Subjectivity_tweet Analysis_sub_tweet  Polarity_tweet Analysis_pol_tweet  \n",
            "0            0.460000      Semi-Personal       -0.060000      Semi-Negative  \n",
            "1            0.155556      Semi-Personal       -0.083333      Semi-Negative  \n",
            "3            0.000000            Neutral        0.000000            Neutral  \n",
            "4            0.461039      Semi-Personal        0.116883      Semi-Positive  \n",
            "5            0.400000      Semi-Personal       -0.150000      Semi-Negative  \n",
            "                                                tweet  label  \\\n",
            "2   politically correct woman almost uses pandemic...      1   \n",
            "7   obama calls trumps coronavirus response chaoti...      1   \n",
            "8   clearly obama administration leave kind game p...      1   \n",
            "9   retractionhydroxychloroquine chloroquine witho...      1   \n",
            "11  nba poised restart month march reported utah j...      1   \n",
            "\n",
            "    Subjectivity_tweet Analysis_sub_tweet  Polarity_tweet Analysis_pol_tweet  \n",
            "2             0.075000      Semi-Personal          -0.025      Semi-Negative  \n",
            "7             0.000000            Neutral           0.000            Neutral  \n",
            "8             0.561111           Personal           0.100      Semi-Positive  \n",
            "9             0.000000            Neutral           0.000            Neutral  \n",
            "11            0.000000            Neutral           0.000            Neutral  \n"
          ]
        }
      ]
    },
    {
      "cell_type": "code",
      "source": [
        "real_df_gran.head(n=5)"
      ],
      "metadata": {
        "colab": {
          "base_uri": "https://localhost:8080/",
          "height": 206
        },
        "id": "2EdSvkrxO8CY",
        "outputId": "e350ba16-b73c-4630-fbe1-43283f2b1ff0"
      },
      "execution_count": null,
      "outputs": [
        {
          "output_type": "execute_result",
          "data": {
            "text/plain": [
              "                                               tweet  label  \\\n",
              "0  cdc currently reports deaths general discrepan...      0   \n",
              "1  states reported deaths small rise last tuesday...      0   \n",
              "3  testing laboratories india th august tests don...      0   \n",
              "4  populous states generate large case counts loo...      0   \n",
              "5  covid act found average person illinois covid ...      0   \n",
              "\n",
              "   Subjectivity_tweet Analysis_sub_tweet  Polarity_tweet Analysis_pol_tweet  \n",
              "0            0.460000      Semi-Personal       -0.060000      Semi-Negative  \n",
              "1            0.155556      Semi-Personal       -0.083333      Semi-Negative  \n",
              "3            0.000000            Neutral        0.000000            Neutral  \n",
              "4            0.461039      Semi-Personal        0.116883      Semi-Positive  \n",
              "5            0.400000      Semi-Personal       -0.150000      Semi-Negative  "
            ],
            "text/html": [
              "\n",
              "  <div id=\"df-dc4802e4-5e8c-440c-a723-47d2c390a01d\">\n",
              "    <div class=\"colab-df-container\">\n",
              "      <div>\n",
              "<style scoped>\n",
              "    .dataframe tbody tr th:only-of-type {\n",
              "        vertical-align: middle;\n",
              "    }\n",
              "\n",
              "    .dataframe tbody tr th {\n",
              "        vertical-align: top;\n",
              "    }\n",
              "\n",
              "    .dataframe thead th {\n",
              "        text-align: right;\n",
              "    }\n",
              "</style>\n",
              "<table border=\"1\" class=\"dataframe\">\n",
              "  <thead>\n",
              "    <tr style=\"text-align: right;\">\n",
              "      <th></th>\n",
              "      <th>tweet</th>\n",
              "      <th>label</th>\n",
              "      <th>Subjectivity_tweet</th>\n",
              "      <th>Analysis_sub_tweet</th>\n",
              "      <th>Polarity_tweet</th>\n",
              "      <th>Analysis_pol_tweet</th>\n",
              "    </tr>\n",
              "  </thead>\n",
              "  <tbody>\n",
              "    <tr>\n",
              "      <th>0</th>\n",
              "      <td>cdc currently reports deaths general discrepan...</td>\n",
              "      <td>0</td>\n",
              "      <td>0.460000</td>\n",
              "      <td>Semi-Personal</td>\n",
              "      <td>-0.060000</td>\n",
              "      <td>Semi-Negative</td>\n",
              "    </tr>\n",
              "    <tr>\n",
              "      <th>1</th>\n",
              "      <td>states reported deaths small rise last tuesday...</td>\n",
              "      <td>0</td>\n",
              "      <td>0.155556</td>\n",
              "      <td>Semi-Personal</td>\n",
              "      <td>-0.083333</td>\n",
              "      <td>Semi-Negative</td>\n",
              "    </tr>\n",
              "    <tr>\n",
              "      <th>3</th>\n",
              "      <td>testing laboratories india th august tests don...</td>\n",
              "      <td>0</td>\n",
              "      <td>0.000000</td>\n",
              "      <td>Neutral</td>\n",
              "      <td>0.000000</td>\n",
              "      <td>Neutral</td>\n",
              "    </tr>\n",
              "    <tr>\n",
              "      <th>4</th>\n",
              "      <td>populous states generate large case counts loo...</td>\n",
              "      <td>0</td>\n",
              "      <td>0.461039</td>\n",
              "      <td>Semi-Personal</td>\n",
              "      <td>0.116883</td>\n",
              "      <td>Semi-Positive</td>\n",
              "    </tr>\n",
              "    <tr>\n",
              "      <th>5</th>\n",
              "      <td>covid act found average person illinois covid ...</td>\n",
              "      <td>0</td>\n",
              "      <td>0.400000</td>\n",
              "      <td>Semi-Personal</td>\n",
              "      <td>-0.150000</td>\n",
              "      <td>Semi-Negative</td>\n",
              "    </tr>\n",
              "  </tbody>\n",
              "</table>\n",
              "</div>\n",
              "      <button class=\"colab-df-convert\" onclick=\"convertToInteractive('df-dc4802e4-5e8c-440c-a723-47d2c390a01d')\"\n",
              "              title=\"Convert this dataframe to an interactive table.\"\n",
              "              style=\"display:none;\">\n",
              "        \n",
              "  <svg xmlns=\"http://www.w3.org/2000/svg\" height=\"24px\"viewBox=\"0 0 24 24\"\n",
              "       width=\"24px\">\n",
              "    <path d=\"M0 0h24v24H0V0z\" fill=\"none\"/>\n",
              "    <path d=\"M18.56 5.44l.94 2.06.94-2.06 2.06-.94-2.06-.94-.94-2.06-.94 2.06-2.06.94zm-11 1L8.5 8.5l.94-2.06 2.06-.94-2.06-.94L8.5 2.5l-.94 2.06-2.06.94zm10 10l.94 2.06.94-2.06 2.06-.94-2.06-.94-.94-2.06-.94 2.06-2.06.94z\"/><path d=\"M17.41 7.96l-1.37-1.37c-.4-.4-.92-.59-1.43-.59-.52 0-1.04.2-1.43.59L10.3 9.45l-7.72 7.72c-.78.78-.78 2.05 0 2.83L4 21.41c.39.39.9.59 1.41.59.51 0 1.02-.2 1.41-.59l7.78-7.78 2.81-2.81c.8-.78.8-2.07 0-2.86zM5.41 20L4 18.59l7.72-7.72 1.47 1.35L5.41 20z\"/>\n",
              "  </svg>\n",
              "      </button>\n",
              "      \n",
              "  <style>\n",
              "    .colab-df-container {\n",
              "      display:flex;\n",
              "      flex-wrap:wrap;\n",
              "      gap: 12px;\n",
              "    }\n",
              "\n",
              "    .colab-df-convert {\n",
              "      background-color: #E8F0FE;\n",
              "      border: none;\n",
              "      border-radius: 50%;\n",
              "      cursor: pointer;\n",
              "      display: none;\n",
              "      fill: #1967D2;\n",
              "      height: 32px;\n",
              "      padding: 0 0 0 0;\n",
              "      width: 32px;\n",
              "    }\n",
              "\n",
              "    .colab-df-convert:hover {\n",
              "      background-color: #E2EBFA;\n",
              "      box-shadow: 0px 1px 2px rgba(60, 64, 67, 0.3), 0px 1px 3px 1px rgba(60, 64, 67, 0.15);\n",
              "      fill: #174EA6;\n",
              "    }\n",
              "\n",
              "    [theme=dark] .colab-df-convert {\n",
              "      background-color: #3B4455;\n",
              "      fill: #D2E3FC;\n",
              "    }\n",
              "\n",
              "    [theme=dark] .colab-df-convert:hover {\n",
              "      background-color: #434B5C;\n",
              "      box-shadow: 0px 1px 3px 1px rgba(0, 0, 0, 0.15);\n",
              "      filter: drop-shadow(0px 1px 2px rgba(0, 0, 0, 0.3));\n",
              "      fill: #FFFFFF;\n",
              "    }\n",
              "  </style>\n",
              "\n",
              "      <script>\n",
              "        const buttonEl =\n",
              "          document.querySelector('#df-dc4802e4-5e8c-440c-a723-47d2c390a01d button.colab-df-convert');\n",
              "        buttonEl.style.display =\n",
              "          google.colab.kernel.accessAllowed ? 'block' : 'none';\n",
              "\n",
              "        async function convertToInteractive(key) {\n",
              "          const element = document.querySelector('#df-dc4802e4-5e8c-440c-a723-47d2c390a01d');\n",
              "          const dataTable =\n",
              "            await google.colab.kernel.invokeFunction('convertToInteractive',\n",
              "                                                     [key], {});\n",
              "          if (!dataTable) return;\n",
              "\n",
              "          const docLinkHtml = 'Like what you see? Visit the ' +\n",
              "            '<a target=\"_blank\" href=https://colab.research.google.com/notebooks/data_table.ipynb>data table notebook</a>'\n",
              "            + ' to learn more about interactive tables.';\n",
              "          element.innerHTML = '';\n",
              "          dataTable['output_type'] = 'display_data';\n",
              "          await google.colab.output.renderOutput(dataTable, element);\n",
              "          const docLink = document.createElement('div');\n",
              "          docLink.innerHTML = docLinkHtml;\n",
              "          element.appendChild(docLink);\n",
              "        }\n",
              "      </script>\n",
              "    </div>\n",
              "  </div>\n",
              "  "
            ]
          },
          "metadata": {},
          "execution_count": 47
        }
      ]
    },
    {
      "cell_type": "code",
      "source": [
        "fake_df_gran.head(n=5)"
      ],
      "metadata": {
        "colab": {
          "base_uri": "https://localhost:8080/",
          "height": 206
        },
        "id": "9A4jR5sePmn-",
        "outputId": "6d51452a-9744-4bbe-b305-64646be1f008"
      },
      "execution_count": null,
      "outputs": [
        {
          "output_type": "execute_result",
          "data": {
            "text/plain": [
              "                                                tweet  label  \\\n",
              "2   politically correct woman almost uses pandemic...      1   \n",
              "7   obama calls trumps coronavirus response chaoti...      1   \n",
              "8   clearly obama administration leave kind game p...      1   \n",
              "9   retractionhydroxychloroquine chloroquine witho...      1   \n",
              "11  nba poised restart month march reported utah j...      1   \n",
              "\n",
              "    Subjectivity_tweet Analysis_sub_tweet  Polarity_tweet Analysis_pol_tweet  \n",
              "2             0.075000      Semi-Personal          -0.025      Semi-Negative  \n",
              "7             0.000000            Neutral           0.000            Neutral  \n",
              "8             0.561111           Personal           0.100      Semi-Positive  \n",
              "9             0.000000            Neutral           0.000            Neutral  \n",
              "11            0.000000            Neutral           0.000            Neutral  "
            ],
            "text/html": [
              "\n",
              "  <div id=\"df-1a4b275f-7f99-4da0-9ec0-8c33d963b139\">\n",
              "    <div class=\"colab-df-container\">\n",
              "      <div>\n",
              "<style scoped>\n",
              "    .dataframe tbody tr th:only-of-type {\n",
              "        vertical-align: middle;\n",
              "    }\n",
              "\n",
              "    .dataframe tbody tr th {\n",
              "        vertical-align: top;\n",
              "    }\n",
              "\n",
              "    .dataframe thead th {\n",
              "        text-align: right;\n",
              "    }\n",
              "</style>\n",
              "<table border=\"1\" class=\"dataframe\">\n",
              "  <thead>\n",
              "    <tr style=\"text-align: right;\">\n",
              "      <th></th>\n",
              "      <th>tweet</th>\n",
              "      <th>label</th>\n",
              "      <th>Subjectivity_tweet</th>\n",
              "      <th>Analysis_sub_tweet</th>\n",
              "      <th>Polarity_tweet</th>\n",
              "      <th>Analysis_pol_tweet</th>\n",
              "    </tr>\n",
              "  </thead>\n",
              "  <tbody>\n",
              "    <tr>\n",
              "      <th>2</th>\n",
              "      <td>politically correct woman almost uses pandemic...</td>\n",
              "      <td>1</td>\n",
              "      <td>0.075000</td>\n",
              "      <td>Semi-Personal</td>\n",
              "      <td>-0.025</td>\n",
              "      <td>Semi-Negative</td>\n",
              "    </tr>\n",
              "    <tr>\n",
              "      <th>7</th>\n",
              "      <td>obama calls trumps coronavirus response chaoti...</td>\n",
              "      <td>1</td>\n",
              "      <td>0.000000</td>\n",
              "      <td>Neutral</td>\n",
              "      <td>0.000</td>\n",
              "      <td>Neutral</td>\n",
              "    </tr>\n",
              "    <tr>\n",
              "      <th>8</th>\n",
              "      <td>clearly obama administration leave kind game p...</td>\n",
              "      <td>1</td>\n",
              "      <td>0.561111</td>\n",
              "      <td>Personal</td>\n",
              "      <td>0.100</td>\n",
              "      <td>Semi-Positive</td>\n",
              "    </tr>\n",
              "    <tr>\n",
              "      <th>9</th>\n",
              "      <td>retractionhydroxychloroquine chloroquine witho...</td>\n",
              "      <td>1</td>\n",
              "      <td>0.000000</td>\n",
              "      <td>Neutral</td>\n",
              "      <td>0.000</td>\n",
              "      <td>Neutral</td>\n",
              "    </tr>\n",
              "    <tr>\n",
              "      <th>11</th>\n",
              "      <td>nba poised restart month march reported utah j...</td>\n",
              "      <td>1</td>\n",
              "      <td>0.000000</td>\n",
              "      <td>Neutral</td>\n",
              "      <td>0.000</td>\n",
              "      <td>Neutral</td>\n",
              "    </tr>\n",
              "  </tbody>\n",
              "</table>\n",
              "</div>\n",
              "      <button class=\"colab-df-convert\" onclick=\"convertToInteractive('df-1a4b275f-7f99-4da0-9ec0-8c33d963b139')\"\n",
              "              title=\"Convert this dataframe to an interactive table.\"\n",
              "              style=\"display:none;\">\n",
              "        \n",
              "  <svg xmlns=\"http://www.w3.org/2000/svg\" height=\"24px\"viewBox=\"0 0 24 24\"\n",
              "       width=\"24px\">\n",
              "    <path d=\"M0 0h24v24H0V0z\" fill=\"none\"/>\n",
              "    <path d=\"M18.56 5.44l.94 2.06.94-2.06 2.06-.94-2.06-.94-.94-2.06-.94 2.06-2.06.94zm-11 1L8.5 8.5l.94-2.06 2.06-.94-2.06-.94L8.5 2.5l-.94 2.06-2.06.94zm10 10l.94 2.06.94-2.06 2.06-.94-2.06-.94-.94-2.06-.94 2.06-2.06.94z\"/><path d=\"M17.41 7.96l-1.37-1.37c-.4-.4-.92-.59-1.43-.59-.52 0-1.04.2-1.43.59L10.3 9.45l-7.72 7.72c-.78.78-.78 2.05 0 2.83L4 21.41c.39.39.9.59 1.41.59.51 0 1.02-.2 1.41-.59l7.78-7.78 2.81-2.81c.8-.78.8-2.07 0-2.86zM5.41 20L4 18.59l7.72-7.72 1.47 1.35L5.41 20z\"/>\n",
              "  </svg>\n",
              "      </button>\n",
              "      \n",
              "  <style>\n",
              "    .colab-df-container {\n",
              "      display:flex;\n",
              "      flex-wrap:wrap;\n",
              "      gap: 12px;\n",
              "    }\n",
              "\n",
              "    .colab-df-convert {\n",
              "      background-color: #E8F0FE;\n",
              "      border: none;\n",
              "      border-radius: 50%;\n",
              "      cursor: pointer;\n",
              "      display: none;\n",
              "      fill: #1967D2;\n",
              "      height: 32px;\n",
              "      padding: 0 0 0 0;\n",
              "      width: 32px;\n",
              "    }\n",
              "\n",
              "    .colab-df-convert:hover {\n",
              "      background-color: #E2EBFA;\n",
              "      box-shadow: 0px 1px 2px rgba(60, 64, 67, 0.3), 0px 1px 3px 1px rgba(60, 64, 67, 0.15);\n",
              "      fill: #174EA6;\n",
              "    }\n",
              "\n",
              "    [theme=dark] .colab-df-convert {\n",
              "      background-color: #3B4455;\n",
              "      fill: #D2E3FC;\n",
              "    }\n",
              "\n",
              "    [theme=dark] .colab-df-convert:hover {\n",
              "      background-color: #434B5C;\n",
              "      box-shadow: 0px 1px 3px 1px rgba(0, 0, 0, 0.15);\n",
              "      filter: drop-shadow(0px 1px 2px rgba(0, 0, 0, 0.3));\n",
              "      fill: #FFFFFF;\n",
              "    }\n",
              "  </style>\n",
              "\n",
              "      <script>\n",
              "        const buttonEl =\n",
              "          document.querySelector('#df-1a4b275f-7f99-4da0-9ec0-8c33d963b139 button.colab-df-convert');\n",
              "        buttonEl.style.display =\n",
              "          google.colab.kernel.accessAllowed ? 'block' : 'none';\n",
              "\n",
              "        async function convertToInteractive(key) {\n",
              "          const element = document.querySelector('#df-1a4b275f-7f99-4da0-9ec0-8c33d963b139');\n",
              "          const dataTable =\n",
              "            await google.colab.kernel.invokeFunction('convertToInteractive',\n",
              "                                                     [key], {});\n",
              "          if (!dataTable) return;\n",
              "\n",
              "          const docLinkHtml = 'Like what you see? Visit the ' +\n",
              "            '<a target=\"_blank\" href=https://colab.research.google.com/notebooks/data_table.ipynb>data table notebook</a>'\n",
              "            + ' to learn more about interactive tables.';\n",
              "          element.innerHTML = '';\n",
              "          dataTable['output_type'] = 'display_data';\n",
              "          await google.colab.output.renderOutput(dataTable, element);\n",
              "          const docLink = document.createElement('div');\n",
              "          docLink.innerHTML = docLinkHtml;\n",
              "          element.appendChild(docLink);\n",
              "        }\n",
              "      </script>\n",
              "    </div>\n",
              "  </div>\n",
              "  "
            ]
          },
          "metadata": {},
          "execution_count": 55
        }
      ]
    },
    {
      "cell_type": "code",
      "source": [
        "#define function to display tweet and news: \n",
        "def display_real(id): \n",
        "  print('tweet: ',real_df_gran.iloc[id,0])\n",
        "  print('tweet polarity: ', real_df_gran.iloc[id,5])\n",
        "\n",
        "def display_fake(id): \n",
        "  print('tweet: ',fake_df_gran.iloc[id,0])\n",
        "  print('tweet polarity: ', fake_df_gran.iloc[id,5])"
      ],
      "metadata": {
        "id": "usTJNyEfR606"
      },
      "execution_count": null,
      "outputs": []
    },
    {
      "cell_type": "markdown",
      "source": [
        "real class"
      ],
      "metadata": {
        "id": "0W3WhYAeObZi"
      }
    },
    {
      "cell_type": "code",
      "source": [
        "display_real(0)"
      ],
      "metadata": {
        "colab": {
          "base_uri": "https://localhost:8080/"
        },
        "id": "sj1gs_fBOciu",
        "outputId": "82ccc4d8-1c4d-46b2-904d-2cd465d67b80"
      },
      "execution_count": null,
      "outputs": [
        {
          "output_type": "stream",
          "name": "stdout",
          "text": [
            "tweet:  cdc currently reports deaths general discrepancies death counts different sources small applicable death toll stands roughly people today\n",
            "tweet polarity:  Semi-Negative\n"
          ]
        }
      ]
    },
    {
      "cell_type": "code",
      "source": [
        "display_real(2)"
      ],
      "metadata": {
        "colab": {
          "base_uri": "https://localhost:8080/"
        },
        "id": "P2P2DVMSOw1_",
        "outputId": "b564875a-7c3c-4670-ccd8-ac600a1ab3ed"
      },
      "execution_count": null,
      "outputs": [
        {
          "output_type": "stream",
          "name": "stdout",
          "text": [
            "tweet:  testing laboratories india th august tests done dg\n",
            "tweet polarity:  Neutral\n"
          ]
        }
      ]
    },
    {
      "cell_type": "code",
      "source": [
        "display_real(4)"
      ],
      "metadata": {
        "colab": {
          "base_uri": "https://localhost:8080/"
        },
        "id": "HFmLm9oAOzQy",
        "outputId": "1cc8e8b8-5d32-46e1-fd05-63683613e610"
      },
      "execution_count": null,
      "outputs": [
        {
          "output_type": "stream",
          "name": "stdout",
          "text": [
            "tweet:  covid act found average person illinois covid infecting people data shows infection growth rate declined time factors stay at home order restrictions put place\n",
            "tweet polarity:  Semi-Negative\n"
          ]
        }
      ]
    },
    {
      "cell_type": "markdown",
      "source": [
        "fake class"
      ],
      "metadata": {
        "id": "7ZerpovVPLJS"
      }
    },
    {
      "cell_type": "code",
      "source": [
        "display_fake(0)"
      ],
      "metadata": {
        "colab": {
          "base_uri": "https://localhost:8080/"
        },
        "id": "upUz5ttrPL1B",
        "outputId": "6cc12a22-d90e-402a-a9e5-55a4bbdfd10e"
      },
      "execution_count": null,
      "outputs": [
        {
          "output_type": "stream",
          "name": "stdout",
          "text": [
            "tweet:  politically correct woman almost uses pandemic excuse reuse plastic bag\n",
            "tweet polarity:  Semi-Negative\n"
          ]
        }
      ]
    },
    {
      "cell_type": "code",
      "source": [
        "display_fake(1)"
      ],
      "metadata": {
        "colab": {
          "base_uri": "https://localhost:8080/"
        },
        "id": "n9ZwlcDlPtkl",
        "outputId": "1e740a9b-29d8-44f3-cb5d-488f260309b5"
      },
      "execution_count": null,
      "outputs": [
        {
          "output_type": "stream",
          "name": "stdout",
          "text": [
            "tweet:  obama calls trumps coronavirus response chaotic disaster\n",
            "tweet polarity:  Neutral\n"
          ]
        }
      ]
    },
    {
      "cell_type": "code",
      "source": [
        "display_fake(7)"
      ],
      "metadata": {
        "colab": {
          "base_uri": "https://localhost:8080/"
        },
        "id": "2U4YhUvSPv0a",
        "outputId": "c4ea9b2d-044b-48dc-a493-05ba6232e46b"
      },
      "execution_count": null,
      "outputs": [
        {
          "output_type": "stream",
          "name": "stdout",
          "text": [
            "tweet:  nobel prize laureate task onto n t say coronavirus natural post facebook claims fact professor onto said s greatly saddened name used spread misinformation latest\n",
            "tweet polarity:  Semi-Positive\n"
          ]
        }
      ]
    }
  ]
}