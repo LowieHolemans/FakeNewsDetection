{
  "nbformat": 4,
  "nbformat_minor": 0,
  "metadata": {
    "colab": {
      "name": "Kopie VOOR GITHUB van Sentiment_visualization_Coaid_Covid19.ipynb",
      "provenance": []
    },
    "kernelspec": {
      "name": "python3",
      "display_name": "Python 3"
    },
    "language_info": {
      "name": "python"
    }
  },
  "cells": [
    {
      "cell_type": "markdown",
      "source": [
        "# SENTIMENT VISUALIZATION OF COVID19 DATASET"
      ],
      "metadata": {
        "id": "KrkSAgSkvKBn"
      }
    },
    {
      "cell_type": "code",
      "source": [
        "import pandas as pd \n",
        "import numpy as np "
      ],
      "metadata": {
        "id": "PQkhhohMve-b"
      },
      "execution_count": null,
      "outputs": []
    },
    {
      "cell_type": "code",
      "source": [
        "from google.colab import drive\n",
        "drive.mount('/content/drive')"
      ],
      "metadata": {
        "colab": {
          "base_uri": "https://localhost:8080/"
        },
        "id": "gH-dgwt9w-pE",
        "outputId": "0d53637b-2d1b-45c4-c721-d36988fc9479"
      },
      "execution_count": null,
      "outputs": [
        {
          "output_type": "stream",
          "name": "stdout",
          "text": [
            "Mounted at /content/drive\n"
          ]
        }
      ]
    },
    {
      "cell_type": "code",
      "source": [
        "os.chdir('/content/drive/MyDrive/Thesis/Food for thought /Sentiment Analysis/Covid19/')\n",
        "covid = pd.read_csv('covid_sentiment.csv')"
      ],
      "metadata": {
        "id": "IN2vujgvvSNZ"
      },
      "execution_count": null,
      "outputs": []
    },
    {
      "cell_type": "code",
      "execution_count": null,
      "metadata": {
        "colab": {
          "base_uri": "https://localhost:8080/",
          "height": 143
        },
        "id": "W3GVG_bSvGbo",
        "outputId": "b401b1f4-ba1f-4450-89f9-7cba5215e621"
      },
      "outputs": [
        {
          "output_type": "execute_result",
          "data": {
            "text/plain": [
              "   Unnamed: 0                                              tweet  \\\n",
              "0           0  cdc currently reports deaths general discrepan...   \n",
              "1           1  states reported deaths small rise last tuesday...   \n",
              "2           2  politically correct woman almost uses pandemic...   \n",
              "\n",
              "   Subjectivity_tweet Analysis_sub_tweet  Polarity_tweet Analysis_pol_tweet  \\\n",
              "0            0.460000           Personal       -0.060000                Neg   \n",
              "1            0.155556           Personal       -0.083333                Neg   \n",
              "2            0.075000           Personal       -0.025000                Neg   \n",
              "\n",
              "   label  \n",
              "0      0  \n",
              "1      0  \n",
              "2      1  "
            ],
            "text/html": [
              "\n",
              "  <div id=\"df-809b27f9-4bdb-4817-aa83-c896fd585f71\">\n",
              "    <div class=\"colab-df-container\">\n",
              "      <div>\n",
              "<style scoped>\n",
              "    .dataframe tbody tr th:only-of-type {\n",
              "        vertical-align: middle;\n",
              "    }\n",
              "\n",
              "    .dataframe tbody tr th {\n",
              "        vertical-align: top;\n",
              "    }\n",
              "\n",
              "    .dataframe thead th {\n",
              "        text-align: right;\n",
              "    }\n",
              "</style>\n",
              "<table border=\"1\" class=\"dataframe\">\n",
              "  <thead>\n",
              "    <tr style=\"text-align: right;\">\n",
              "      <th></th>\n",
              "      <th>Unnamed: 0</th>\n",
              "      <th>tweet</th>\n",
              "      <th>Subjectivity_tweet</th>\n",
              "      <th>Analysis_sub_tweet</th>\n",
              "      <th>Polarity_tweet</th>\n",
              "      <th>Analysis_pol_tweet</th>\n",
              "      <th>label</th>\n",
              "    </tr>\n",
              "  </thead>\n",
              "  <tbody>\n",
              "    <tr>\n",
              "      <th>0</th>\n",
              "      <td>0</td>\n",
              "      <td>cdc currently reports deaths general discrepan...</td>\n",
              "      <td>0.460000</td>\n",
              "      <td>Personal</td>\n",
              "      <td>-0.060000</td>\n",
              "      <td>Neg</td>\n",
              "      <td>0</td>\n",
              "    </tr>\n",
              "    <tr>\n",
              "      <th>1</th>\n",
              "      <td>1</td>\n",
              "      <td>states reported deaths small rise last tuesday...</td>\n",
              "      <td>0.155556</td>\n",
              "      <td>Personal</td>\n",
              "      <td>-0.083333</td>\n",
              "      <td>Neg</td>\n",
              "      <td>0</td>\n",
              "    </tr>\n",
              "    <tr>\n",
              "      <th>2</th>\n",
              "      <td>2</td>\n",
              "      <td>politically correct woman almost uses pandemic...</td>\n",
              "      <td>0.075000</td>\n",
              "      <td>Personal</td>\n",
              "      <td>-0.025000</td>\n",
              "      <td>Neg</td>\n",
              "      <td>1</td>\n",
              "    </tr>\n",
              "  </tbody>\n",
              "</table>\n",
              "</div>\n",
              "      <button class=\"colab-df-convert\" onclick=\"convertToInteractive('df-809b27f9-4bdb-4817-aa83-c896fd585f71')\"\n",
              "              title=\"Convert this dataframe to an interactive table.\"\n",
              "              style=\"display:none;\">\n",
              "        \n",
              "  <svg xmlns=\"http://www.w3.org/2000/svg\" height=\"24px\"viewBox=\"0 0 24 24\"\n",
              "       width=\"24px\">\n",
              "    <path d=\"M0 0h24v24H0V0z\" fill=\"none\"/>\n",
              "    <path d=\"M18.56 5.44l.94 2.06.94-2.06 2.06-.94-2.06-.94-.94-2.06-.94 2.06-2.06.94zm-11 1L8.5 8.5l.94-2.06 2.06-.94-2.06-.94L8.5 2.5l-.94 2.06-2.06.94zm10 10l.94 2.06.94-2.06 2.06-.94-2.06-.94-.94-2.06-.94 2.06-2.06.94z\"/><path d=\"M17.41 7.96l-1.37-1.37c-.4-.4-.92-.59-1.43-.59-.52 0-1.04.2-1.43.59L10.3 9.45l-7.72 7.72c-.78.78-.78 2.05 0 2.83L4 21.41c.39.39.9.59 1.41.59.51 0 1.02-.2 1.41-.59l7.78-7.78 2.81-2.81c.8-.78.8-2.07 0-2.86zM5.41 20L4 18.59l7.72-7.72 1.47 1.35L5.41 20z\"/>\n",
              "  </svg>\n",
              "      </button>\n",
              "      \n",
              "  <style>\n",
              "    .colab-df-container {\n",
              "      display:flex;\n",
              "      flex-wrap:wrap;\n",
              "      gap: 12px;\n",
              "    }\n",
              "\n",
              "    .colab-df-convert {\n",
              "      background-color: #E8F0FE;\n",
              "      border: none;\n",
              "      border-radius: 50%;\n",
              "      cursor: pointer;\n",
              "      display: none;\n",
              "      fill: #1967D2;\n",
              "      height: 32px;\n",
              "      padding: 0 0 0 0;\n",
              "      width: 32px;\n",
              "    }\n",
              "\n",
              "    .colab-df-convert:hover {\n",
              "      background-color: #E2EBFA;\n",
              "      box-shadow: 0px 1px 2px rgba(60, 64, 67, 0.3), 0px 1px 3px 1px rgba(60, 64, 67, 0.15);\n",
              "      fill: #174EA6;\n",
              "    }\n",
              "\n",
              "    [theme=dark] .colab-df-convert {\n",
              "      background-color: #3B4455;\n",
              "      fill: #D2E3FC;\n",
              "    }\n",
              "\n",
              "    [theme=dark] .colab-df-convert:hover {\n",
              "      background-color: #434B5C;\n",
              "      box-shadow: 0px 1px 3px 1px rgba(0, 0, 0, 0.15);\n",
              "      filter: drop-shadow(0px 1px 2px rgba(0, 0, 0, 0.3));\n",
              "      fill: #FFFFFF;\n",
              "    }\n",
              "  </style>\n",
              "\n",
              "      <script>\n",
              "        const buttonEl =\n",
              "          document.querySelector('#df-809b27f9-4bdb-4817-aa83-c896fd585f71 button.colab-df-convert');\n",
              "        buttonEl.style.display =\n",
              "          google.colab.kernel.accessAllowed ? 'block' : 'none';\n",
              "\n",
              "        async function convertToInteractive(key) {\n",
              "          const element = document.querySelector('#df-809b27f9-4bdb-4817-aa83-c896fd585f71');\n",
              "          const dataTable =\n",
              "            await google.colab.kernel.invokeFunction('convertToInteractive',\n",
              "                                                     [key], {});\n",
              "          if (!dataTable) return;\n",
              "\n",
              "          const docLinkHtml = 'Like what you see? Visit the ' +\n",
              "            '<a target=\"_blank\" href=https://colab.research.google.com/notebooks/data_table.ipynb>data table notebook</a>'\n",
              "            + ' to learn more about interactive tables.';\n",
              "          element.innerHTML = '';\n",
              "          dataTable['output_type'] = 'display_data';\n",
              "          await google.colab.output.renderOutput(dataTable, element);\n",
              "          const docLink = document.createElement('div');\n",
              "          docLink.innerHTML = docLinkHtml;\n",
              "          element.appendChild(docLink);\n",
              "        }\n",
              "      </script>\n",
              "    </div>\n",
              "  </div>\n",
              "  "
            ]
          },
          "metadata": {},
          "execution_count": 72
        }
      ],
      "source": [
        "covid.head(n=3)"
      ]
    },
    {
      "cell_type": "markdown",
      "source": [
        "**Tweet Polarity**"
      ],
      "metadata": {
        "id": "P476vd2iyZJ0"
      }
    },
    {
      "cell_type": "code",
      "source": [
        "tweet_pol_covid = covid[['tweet','Analysis_pol_tweet','label']]"
      ],
      "metadata": {
        "id": "NCs7dkwQyaka"
      },
      "execution_count": null,
      "outputs": []
    },
    {
      "cell_type": "code",
      "source": [
        "tweet_sub_covid = covid[['tweet','Analysis_sub_tweet','label']]"
      ],
      "metadata": {
        "id": "hHX4k_s5hNxR"
      },
      "execution_count": null,
      "outputs": []
    },
    {
      "cell_type": "code",
      "source": [
        "import matplotlib.ticker as ticker\n",
        "import matplotlib.cm as cm\n",
        "import matplotlib as mpl\n",
        "from matplotlib.gridspec import GridSpec\n",
        "import matplotlib.pyplot as plt"
      ],
      "metadata": {
        "id": "s1aGQeR-WTYq"
      },
      "execution_count": null,
      "outputs": []
    },
    {
      "cell_type": "code",
      "source": [
        "coaid.rename(columns = {'text':'tweet'}, inplace = True)"
      ],
      "metadata": {
        "id": "VceFm-tHZACt"
      },
      "execution_count": null,
      "outputs": []
    },
    {
      "cell_type": "code",
      "source": [
        "#set directory for where to write charts to \n",
        "os.chdir('/content/drive/MyDrive/Thesis/Food for thought /Sentiment Analysis/Final_visuals/')"
      ],
      "metadata": {
        "id": "rjG0jFZLpJ2o"
      },
      "execution_count": null,
      "outputs": []
    },
    {
      "cell_type": "code",
      "source": [
        "#code for visualization \n",
        "def donut_vis(title,data,name): \n",
        "  if title == 'Analysis_pol_tweet' or title == 'Analysis_pol_news':\n",
        "    tit_elem = 'Polarity'\n",
        "  else: \n",
        "    tit_elem = 'Subjectivity'\n",
        "  title_type = data.groupby(title).agg('count')\n",
        "  type_labels = title_type.tweet.sort_values().index \n",
        "  type_counts = title_type.tweet.sort_values()\n",
        "  plt.figure(1, figsize=(20,10)) \n",
        "  grid = GridSpec(2, 2)\n",
        "  cmap = plt.get_cmap('Spectral')\n",
        "  colors = [cmap(i) for i in np.linspace(0, 1, 8)]\n",
        "  tit = 'Distribution of ' + tit_elem\n",
        "  plt.subplot(grid[0, 1], aspect=1, title=tit)\n",
        "  type_show_ids = plt.pie(type_counts, labels=type_labels, autopct='%1.1f%%', shadow=True, colors=colors)\n",
        "  filename = str(name) + '.png'\n",
        "  plt.savefig(filename)\n",
        "  plt.show()"
      ],
      "metadata": {
        "id": "vyy8wI7UWqE0"
      },
      "execution_count": null,
      "outputs": []
    },
    {
      "cell_type": "markdown",
      "source": [
        "**Tweet polarity**"
      ],
      "metadata": {
        "id": "Q47aEwz-drcc"
      }
    },
    {
      "cell_type": "markdown",
      "source": [
        "real class:"
      ],
      "metadata": {
        "id": "hp3h-KZffqDO"
      }
    },
    {
      "cell_type": "code",
      "source": [
        "tweet_pol_covid_real = tweet_pol_covid[tweet_pol_covid['label']==0]\n",
        "donut_vis('Analysis_pol_tweet',tweet_pol_covid_real,'tweet_covid_real_pol')"
      ],
      "metadata": {
        "colab": {
          "base_uri": "https://localhost:8080/",
          "height": 294
        },
        "id": "ulvx3blNeD_v",
        "outputId": "a599ed26-237b-4c4c-d52a-8f1977bdcd7e"
      },
      "execution_count": null,
      "outputs": [
        {
          "output_type": "display_data",
          "data": {
            "text/plain": [
              "<Figure size 1440x720 with 1 Axes>"
            ],
            "image/png": "[encoded data removed]"
          },
          "metadata": {}
        }
      ]
    },
    {
      "cell_type": "markdown",
      "source": [
        "fake class:"
      ],
      "metadata": {
        "id": "YVdQFAl4eNGV"
      }
    },
    {
      "cell_type": "code",
      "source": [
        "tweet_pol_covid_fake = tweet_pol_covid[tweet_pol_covid['label']==1]\n",
        "donut_vis('Analysis_pol_tweet',tweet_pol_covid_fake,'tweet_covid_fake_pol')"
      ],
      "metadata": {
        "colab": {
          "base_uri": "https://localhost:8080/",
          "height": 294
        },
        "id": "F6fZFQmkgNz1",
        "outputId": "476eb865-8ed3-4c1a-f0f8-1b67db9affaa"
      },
      "execution_count": null,
      "outputs": [
        {
          "output_type": "display_data",
          "data": {
            "text/plain": [
              "<Figure size 1440x720 with 1 Axes>"
            ],
            "image/png": "[encoded data removed]"
          },
          "metadata": {}
        }
      ]
    },
    {
      "cell_type": "markdown",
      "source": [
        "**Tweet subjectivity**"
      ],
      "metadata": {
        "id": "sXLiC6f0gRPB"
      }
    },
    {
      "cell_type": "markdown",
      "source": [
        "real class:"
      ],
      "metadata": {
        "id": "SkNfHhEcgTlB"
      }
    },
    {
      "cell_type": "code",
      "source": [
        "tweet_sub_covid_real = tweet_sub_covid[tweet_sub_covid['label']==0]\n",
        "donut_vis('Analysis_sub_tweet',tweet_sub_covid_real,'tweet_covid_real_sub')"
      ],
      "metadata": {
        "colab": {
          "base_uri": "https://localhost:8080/",
          "height": 294
        },
        "id": "QtJTG05cgSwS",
        "outputId": "05de7de3-1b6a-4be9-d258-5152574b6fee"
      },
      "execution_count": null,
      "outputs": [
        {
          "output_type": "display_data",
          "data": {
            "text/plain": [
              "<Figure size 1440x720 with 1 Axes>"
            ],
            "image/png": "[encoded data removed]"
          },
          "metadata": {}
        }
      ]
    },
    {
      "cell_type": "markdown",
      "source": [
        "fake class:"
      ],
      "metadata": {
        "id": "xfNOsfk_gkrZ"
      }
    },
    {
      "cell_type": "code",
      "source": [
        "tweet_sub_covid_fake = tweet_sub_covid[tweet_sub_covid['label']==1]\n",
        "donut_vis('Analysis_sub_tweet',tweet_sub_covid_fake,'tweet_covid_fake_sub')"
      ],
      "metadata": {
        "colab": {
          "base_uri": "https://localhost:8080/",
          "height": 294
        },
        "id": "X5k9MhCqgoz5",
        "outputId": "04c264a2-910e-455f-aabf-56e87c22f8c9"
      },
      "execution_count": null,
      "outputs": [
        {
          "output_type": "display_data",
          "data": {
            "text/plain": [
              "<Figure size 1440x720 with 1 Axes>"
            ],
            "image/png": "[encoded data removed]"
          },
          "metadata": {}
        }
      ]
    }
  ]
}